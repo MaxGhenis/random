{
 "cells": [
  {
   "cell_type": "code",
   "execution_count": 1,
   "metadata": {},
   "outputs": [
    {
     "data": {
      "text/html": [
       "1"
      ],
      "text/latex": [
       "1"
      ],
      "text/markdown": [
       "1"
      ],
      "text/plain": [
       "[1] 1"
      ]
     },
     "metadata": {},
     "output_type": "display_data"
    }
   ],
   "source": [
    "1"
   ]
  },
  {
   "cell_type": "code",
   "execution_count": 2,
   "metadata": {},
   "outputs": [],
   "source": [
    "library(tidycensus)"
   ]
  },
  {
   "cell_type": "code",
   "execution_count": 3,
   "metadata": {},
   "outputs": [
    {
     "name": "stderr",
     "output_type": "stream",
     "text": [
      "Your original .Renviron will be backed up and stored in your R HOME directory if needed.\n",
      "Your API key has been stored in your .Renviron and can be accessed by Sys.getenv(\"CENSUS_API_KEY\"). \n",
      "To use now, restart R or run `readRenviron(\"~/.Renviron\")`\n"
     ]
    },
    {
     "data": {
      "text/html": [
       "'d6ae38c07a1b52d139c729945d7c88ea266806b1'"
      ],
      "text/latex": [
       "'d6ae38c07a1b52d139c729945d7c88ea266806b1'"
      ],
      "text/markdown": [
       "'d6ae38c07a1b52d139c729945d7c88ea266806b1'"
      ],
      "text/plain": [
       "[1] \"d6ae38c07a1b52d139c729945d7c88ea266806b1\""
      ]
     },
     "metadata": {},
     "output_type": "display_data"
    }
   ],
   "source": [
    "census_api_key(\"d6ae38c07a1b52d139c729945d7c88ea266806b1\", install=TRUE, overwrite=TRUE)"
   ]
  },
  {
   "cell_type": "code",
   "execution_count": 4,
   "metadata": {},
   "outputs": [],
   "source": [
    "acs5_vars <- load_variables(2016, \"acs5\", cache=TRUE)\n",
    "acs5_vars$dataset = 'acs5'\n",
    "acs1_vars <- load_variables(2016, \"acs1\", cache=TRUE)\n",
    "acs1_vars$dataset = 'acs1'\n",
    "\n",
    "acs1_5_vars = rbind(acs1_vars, acs5_vars)"
   ]
  },
  {
   "cell_type": "code",
   "execution_count": 5,
   "metadata": {},
   "outputs": [],
   "source": [
    "write.csv(acs1_5_vars, \"~/Downloads/acs_vars.csv\", row.names=FALSE)"
   ]
  },
  {
   "cell_type": "markdown",
   "metadata": {},
   "source": [
    "Get data per county"
   ]
  },
  {
   "cell_type": "code",
   "execution_count": 5,
   "metadata": {},
   "outputs": [],
   "source": [
    "VARS = c(\n",
    "    pop = \"B01003_001\",\n",
    "    # Gender. Default = female.\n",
    "    male = \"B01001_002\",\n",
    "    # Race. Default = American Indian & Alaska Native + Asian + \n",
    "    # Native Hawaiian and Other Pacific Islander + Some other race.\n",
    "    white = \"B02001_002\",\n",
    "    black = \"B02001_003\",\n",
    "    multiracial = \"B02001_008\",\n",
    "    # Hispanic or Latino. Default: Not Hispanic or Latino.\n",
    "    hispanic_latino = \"B03002_012\",\n",
    "    # Nativity and citizenship. Default: Born in US/PR or abroad of American parents.\n",
    "    naturalized = \"B05001_005\",\n",
    "    noncitizen = \"B05001_006\",\n",
    "    # Poverty. Default: Ratio of income to poverty level exceeds 1.00.\n",
    "    poverty = \"B05010_002\",\n",
    "    # Age. Default: 1 to 4 years.\n",
    "    age5_17 = \"B07001_003\",\n",
    "    age18_19 = \"B07001_004\",\n",
    "    age20_24 = \"B07001_005\",\n",
    "    age25_29 = \"B07001_006\",\n",
    "    age30_34 = \"B07001_007\",\n",
    "    age35_39 = \"B07001_008\",\n",
    "    age40_44 = \"B07001_009\",\n",
    "    age45_49 = \"B07001_010\",\n",
    "    age50_54 = \"B07001_011\",\n",
    "    age55_59 = \"B07001_012\",\n",
    "    age60_64 = \"B07001_013\",\n",
    "    age65_69 = \"B07001_014\",\n",
    "    age70_74 = \"B07001_015\",\n",
    "    age75_plus = \"B07001_016\",\n",
    "    # Movers. Default: Movers of some sort.\n",
    "    # ** Not available by county. **\n",
    "#     same_residence = \"B07101_002\",\n",
    "    # Educational attainment of population 25 years and over.\n",
    "    education_denom = \"B15003_001\",\n",
    "    education_high_school = \"B15003_017\",\n",
    "    education_ged = \"B15003_018\",\n",
    "    education_some_college_u1y = \"B15003_019\",\n",
    "    education_some_college_1y = \"B15003_020\",\n",
    "    education_associate = \"B15003_021\",\n",
    "    education_bachelor = \"B15003_022\",\n",
    "    education_master = \"B15003_023\",\n",
    "    education_professional = \"B15003_024\",\n",
    "    education_doctorate = \"B15003_025\",\n",
    "    # Employment status of population 16y+. Default: employed.\n",
    "    employment_denom = \"B23025_001\",\n",
    "    unemployed = \"B23025_005\",\n",
    "    not_in_labor_force = \"B23025_007\",\n",
    "    # Language for the population 5 years and over. Default: Something else.\n",
    "    # ** Not available by county. **\n",
    "#     language_total = \"B16001_001\",\n",
    "#     english_only = \"B16001_002\",\n",
    "    # Aggregate household income in the past 12 months (in 2016 inflation-adjusted dollars).\n",
    "    agg_hh_income = \"B19025_001\"\n",
    ")"
   ]
  },
  {
   "cell_type": "code",
   "execution_count": 6,
   "metadata": {},
   "outputs": [
    {
     "name": "stderr",
     "output_type": "stream",
     "text": [
      "Getting data from the 2012-2016 5-year ACS\n"
     ]
    },
    {
     "ename": "ERROR",
     "evalue": "Error in curl::curl_fetch_memory(url, handle = handle): error setting certificate verify locations:\n  CAfile: microsoft-r-cacert.pem\n  CApath: none\n",
     "output_type": "error",
     "traceback": [
      "Error in curl::curl_fetch_memory(url, handle = handle): error setting certificate verify locations:\n  CAfile: microsoft-r-cacert.pem\n  CApath: none\nTraceback:\n",
      "1. get_acs(geography = \"county\", year = 2016, survey = \"acs5\", variables = VARS)",
      "2. map(l, function(x) {\n .     vars <- format_variables_acs(x)\n .     suppressWarnings(load_data_acs(geography, vars, key, year, \n .         state, county, survey))\n . }) %>% bind_cols()",
      "3. eval(lhs, parent, parent)",
      "4. eval(lhs, parent, parent)",
      "5. map(l, function(x) {\n .     vars <- format_variables_acs(x)\n .     suppressWarnings(load_data_acs(geography, vars, key, year, \n .         state, county, survey))\n . })",
      "6. .f(.x[[i]], ...)",
      "7. suppressWarnings(load_data_acs(geography, vars, key, year, state, \n .     county, survey))",
      "8. withCallingHandlers(expr, warning = function(w) invokeRestart(\"muffleWarning\"))",
      "9. load_data_acs(geography, vars, key, year, state, county, survey)",
      "10. GET(base, query = list(get = vars_to_get, `for` = paste0(geography, \n  .     \":*\"), key = key))",
      "11. request_perform(req, hu$handle$handle)",
      "12. request_fetch(req$output, req$url, handle)",
      "13. request_fetch.write_memory(req$output, req$url, handle)",
      "14. curl::curl_fetch_memory(url, handle = handle)"
     ]
    }
   ],
   "source": [
    "counties_long <- get_acs(geography=\"county\", year=2016, survey=\"acs5\",\n",
    "                         variables=VARS)\n",
    "counties_wide <- get_acs(geography=\"county\", year=2016, survey=\"acs5\",\n",
    "                         variables=VARS, output=\"wide\")"
   ]
  },
  {
   "cell_type": "markdown",
   "metadata": {},
   "source": [
    "Remove PR (not all fields, and not modeling)."
   ]
  },
  {
   "cell_type": "code",
   "execution_count": 79,
   "metadata": {},
   "outputs": [],
   "source": [
    "counties_wide = counties_wide[substr(counties_wide$GEOID, 1, 2) != '72', ]\n",
    "counties_long = counties_long[substr(counties_wide$GEOID, 1, 2) != '72', ]"
   ]
  },
  {
   "cell_type": "code",
   "execution_count": 71,
   "metadata": {},
   "outputs": [],
   "source": [
    "varmap = data.frame(variable = VARS, variable_name = names(VARS))\n",
    "counties_long = merge(counties_long, varmap, by=\"variable\")"
   ]
  },
  {
   "cell_type": "code",
   "execution_count": 80,
   "metadata": {},
   "outputs": [],
   "source": [
    "counties_wide_e_only <- \n",
    "    counties_wide[, c(\"GEOID\", \"NAME\", paste0(names(VARS), \"E\"))]\n",
    "names(counties_wide_e_only) = c(\"GEOID\", \"NAME\", names(VARS))"
   ]
  },
  {
   "cell_type": "code",
   "execution_count": 86,
   "metadata": {},
   "outputs": [],
   "source": [
    "write.csv(counties_wide, \"~/Downloads/counties_wide.csv\", row.names=FALSE)\n",
    "write.csv(counties_wide_e_only, \"~/Downloads/counties_wide_e_only.csv\", row.names=FALSE)\n",
    "write.csv(counties_long, \"~/Downloads/counties_long.csv\", row.names=FALSE)"
   ]
  }
 ],
 "metadata": {
  "kernelspec": {
   "display_name": "R",
   "language": "R",
   "name": "ir"
  },
  "language_info": {
   "codemirror_mode": "r",
   "file_extension": ".r",
   "mimetype": "text/x-r-source",
   "name": "R",
   "pygments_lexer": "r",
   "version": "3.4.3"
  }
 },
 "nbformat": 4,
 "nbformat_minor": 2
}

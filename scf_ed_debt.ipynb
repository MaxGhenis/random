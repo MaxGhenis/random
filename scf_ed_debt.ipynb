{
  "nbformat": 4,
  "nbformat_minor": 0,
  "metadata": {
    "colab": {
      "name": "scf_ed_debt.ipynb",
      "version": "0.3.2",
      "provenance": [],
      "include_colab_link": true
    },
    "kernelspec": {
      "name": "python3",
      "display_name": "Python 3"
    }
  },
  "cells": [
    {
      "cell_type": "markdown",
      "metadata": {
        "id": "view-in-github",
        "colab_type": "text"
      },
      "source": [
        "<a href=\"https://colab.research.google.com/github/MaxGhenis/random/blob/master/scf_ed_debt.ipynb\" target=\"_parent\"><img src=\"https://colab.research.google.com/assets/colab-badge.svg\" alt=\"Open In Colab\"/></a>"
      ]
    },
    {
      "metadata": {
        "id": "s8E1yENObg_f",
        "colab_type": "text"
      },
      "cell_type": "markdown",
      "source": [
        "# Survey of Consumer Finances Education Debt\n",
        "\n",
        "Reproduce analysis in https://www.urban.org/urban-wire/affluent-households-owe-most-student-debt, in particular [these tables](https://edit.urban.org/sites/default/files/retracted_and_corrected_numbers_tables.pdf).\n",
        "\n",
        "## Setup"
      ]
    },
    {
      "metadata": {
        "id": "Os_DIXr-cVrO",
        "colab_type": "code",
        "colab": {}
      },
      "cell_type": "code",
      "source": [
        "import pandas as pd\n",
        "import numpy as np"
      ],
      "execution_count": 0,
      "outputs": []
    },
    {
      "metadata": {
        "id": "kkM4MtrCwpqC",
        "colab_type": "text"
      },
      "cell_type": "markdown",
      "source": [
        "## Utilities"
      ]
    },
    {
      "metadata": {
        "id": "lpQhZQ8LsZuG",
        "colab_type": "code",
        "colab": {}
      },
      "cell_type": "code",
      "source": [
        "def cond_mean(df, col, w):\n",
        "    \"\"\" Conditional mean.\n",
        "    \"\"\"\n",
        "    tmp = df[df[col] > 0]\n",
        "    return (tmp[col] * tmp[w]).sum() / tmp[w].sum()"
      ],
      "execution_count": 0,
      "outputs": []
    },
    {
      "metadata": {
        "id": "H262tI3mwLaZ",
        "colab_type": "code",
        "colab": {}
      },
      "cell_type": "code",
      "source": [
        "def weighted_quantile(values, quantiles, sample_weight=None, \n",
        "                      values_sorted=False, old_style=False):\n",
        "    \"\"\" Very close to numpy.percentile, but supports weights.\n",
        "    \n",
        "    From https://stackoverflow.com/a/29677616/1840471.\n",
        "    \n",
        "    Args:\n",
        "        values: numpy array with data.\n",
        "        quantiles: array-like with many quantiles needed ([0, 1]).\n",
        "        sample_weight: array-like of the same length as `array`.\n",
        "        values_sorted: bool, if True, then will avoid sorting of\n",
        "            initial array\n",
        "        old_style: if True, will correct output to be consistent\n",
        "            with numpy.percentile.\n",
        "    \n",
        "    Returns:\n",
        "        numpy.array with computed quantiles.\n",
        "    \"\"\"\n",
        "    values = np.array(values)\n",
        "    quantiles = np.array(quantiles)\n",
        "    if sample_weight is None:\n",
        "        sample_weight = np.ones(len(values))\n",
        "    sample_weight = np.array(sample_weight)\n",
        "    assert np.all(quantiles >= 0) and np.all(quantiles <= 1), \\\n",
        "        'quantiles should be in [0, 1]'\n",
        "\n",
        "    if not values_sorted:\n",
        "        sorter = np.argsort(values)\n",
        "        values = values[sorter]\n",
        "        sample_weight = sample_weight[sorter]\n",
        "\n",
        "    weighted_quantiles = np.cumsum(sample_weight) - 0.5 * sample_weight\n",
        "    if old_style:\n",
        "        # To be convenient with numpy.percentile\n",
        "        weighted_quantiles -= weighted_quantiles[0]\n",
        "        weighted_quantiles /= weighted_quantiles[-1]\n",
        "    else:\n",
        "        weighted_quantiles /= np.sum(sample_weight)\n",
        "    return np.interp(quantiles, weighted_quantiles, values)"
      ],
      "execution_count": 0,
      "outputs": []
    },
    {
      "metadata": {
        "id": "bfkoobafvHrZ",
        "colab_type": "code",
        "colab": {}
      },
      "cell_type": "code",
      "source": [
        "def cond_median(df, col, w):\n",
        "    \"\"\" Conditional median.\n",
        "    \"\"\"\n",
        "    tmp = df[df[col] > 0]\n",
        "    return weighted_quantile(tmp[col], 0.5, tmp[w])"
      ],
      "execution_count": 0,
      "outputs": []
    },
    {
      "metadata": {
        "id": "TEk_MtRVdwGZ",
        "colab_type": "code",
        "colab": {}
      },
      "cell_type": "code",
      "source": [
        "def weighted_percentrank(df, col, w):\n",
        "    \"\"\"Weighted percentrank.\n",
        "    \n",
        "    Args:\n",
        "        df: A pandas DataFrame.\n",
        "        col: A string indicating the column in the DataFrame to calculate.,\n",
        "        w: Weight.\n",
        "    Returns:\n",
        "        Percent rank.\n",
        "    \"\"\"\n",
        "    df.sort_values(by=col, inplace=True)\n",
        "    return df[w].cumsum() / df[w].sum()"
      ],
      "execution_count": 0,
      "outputs": []
    },
    {
      "metadata": {
        "id": "0PSk2Bh39aqm",
        "colab_type": "code",
        "colab": {}
      },
      "cell_type": "code",
      "source": [
        "def quartile(percentrank):\n",
        "    \"\"\" Get quartile from a percent rank.\n",
        "    \"\"\"\n",
        "    return pd.cut(percentrank, [0, 0.25, 0.5, 0.75, np.inf],\n",
        "                  labels=[1, 2, 3, 4])"
      ],
      "execution_count": 0,
      "outputs": []
    },
    {
      "metadata": {
        "id": "dZQrV2nmdk6u",
        "colab_type": "text"
      },
      "cell_type": "markdown",
      "source": [
        "## Load data\n",
        "\n",
        "Linked from https://www.federalreserve.gov/econres/scfindex.htm.\n",
        "\n",
        "`pd.read_stata` doesn't directly read zip files, so download and unzip locally."
      ]
    },
    {
      "metadata": {
        "id": "fAcINzfEbupb",
        "colab_type": "code",
        "colab": {
          "base_uri": "https://localhost:8080/",
          "height": 210
        },
        "outputId": "af24bffc-b85e-40f9-a473-9f346a2a9f06"
      },
      "cell_type": "code",
      "source": [
        "!wget https://www.federalreserve.gov/econres/files/scf2016s.zip"
      ],
      "execution_count": 7,
      "outputs": [
        {
          "output_type": "stream",
          "text": [
            "--2019-04-28 03:57:53--  https://www.federalreserve.gov/econres/files/scf2016s.zip\n",
            "Resolving www.federalreserve.gov (www.federalreserve.gov)... 132.200.148.151\n",
            "Connecting to www.federalreserve.gov (www.federalreserve.gov)|132.200.148.151|:443... connected.\n",
            "HTTP request sent, awaiting response... 200 OK\n",
            "Length: 10513398 (10M) [application/x-zip-compressed]\n",
            "Saving to: ‘scf2016s.zip’\n",
            "\n",
            "scf2016s.zip        100%[===================>]  10.03M   846KB/s    in 12s     \n",
            "\n",
            "2019-04-28 03:58:06 (846 KB/s) - ‘scf2016s.zip’ saved [10513398/10513398]\n",
            "\n"
          ],
          "name": "stdout"
        }
      ]
    },
    {
      "metadata": {
        "id": "W_nL0RXzcLNj",
        "colab_type": "code",
        "colab": {
          "base_uri": "https://localhost:8080/",
          "height": 52
        },
        "outputId": "cbbd3e52-150b-4c4e-80ee-ea54c85ed637"
      },
      "cell_type": "code",
      "source": [
        "!unzip -o scf2016s.zip  # Force overwrite.\n",
        "!rm scf2016s.zip"
      ],
      "execution_count": 8,
      "outputs": [
        {
          "output_type": "stream",
          "text": [
            "Archive:  scf2016s.zip\n",
            "  inflating: p16i6.dta               \n"
          ],
          "name": "stdout"
        }
      ]
    },
    {
      "metadata": {
        "id": "b6HT8EGQcS10",
        "colab_type": "code",
        "colab": {
          "base_uri": "https://localhost:8080/",
          "height": 34
        },
        "outputId": "ce9b19cb-0231-4f59-ac11-0ee37f87f5c2"
      },
      "cell_type": "code",
      "source": [
        "!ls"
      ],
      "execution_count": 9,
      "outputs": [
        {
          "output_type": "stream",
          "text": [
            "p16i6.dta  sample_data\n"
          ],
          "name": "stdout"
        }
      ]
    },
    {
      "metadata": {
        "id": "e3sqspTRcW6e",
        "colab_type": "code",
        "colab": {}
      },
      "cell_type": "code",
      "source": [
        "scf = pd.read_stata('p16i6.dta')"
      ],
      "execution_count": 0,
      "outputs": []
    },
    {
      "metadata": {
        "id": "ssB8e11Adtv3",
        "colab_type": "text"
      },
      "cell_type": "markdown",
      "source": [
        "## Preprocess"
      ]
    },
    {
      "metadata": {
        "id": "HRXcElsbeaFS",
        "colab_type": "text"
      },
      "cell_type": "markdown",
      "source": [
        "These columns are `EDU_LN_{1-6}: HOW MUCH STILL OWED`."
      ]
    },
    {
      "metadata": {
        "id": "TCIwrFG1eVP3",
        "colab_type": "code",
        "colab": {}
      },
      "cell_type": "code",
      "source": [
        "OUTSTANDING_STUDENT_LOAN_COLS = ['X7824', 'X7847', 'X7870', 'X7924', 'X7947', \n",
        "                                 'X7970']"
      ],
      "execution_count": 0,
      "outputs": []
    },
    {
      "metadata": {
        "id": "hBlmGvJpdwzw",
        "colab_type": "code",
        "colab": {}
      },
      "cell_type": "code",
      "source": [
        "scf['edu_loans_owed'] = scf[OUTSTANDING_STUDENT_LOAN_COLS].sum(axis=1)"
      ],
      "execution_count": 0,
      "outputs": []
    },
    {
      "metadata": {
        "id": "IV7M2bZZn5mP",
        "colab_type": "text"
      },
      "cell_type": "markdown",
      "source": [
        "Undo 5x weights assigned for multiple imputation."
      ]
    },
    {
      "metadata": {
        "id": "q0lb2Xmtn_Ru",
        "colab_type": "code",
        "colab": {}
      },
      "cell_type": "code",
      "source": [
        "REPLICATES = 5\n",
        "scf['wt'] = scf.X42001 / REPLICATES"
      ],
      "execution_count": 0,
      "outputs": []
    },
    {
      "metadata": {
        "id": "Y6i9LyPe__c6",
        "colab_type": "text"
      },
      "cell_type": "markdown",
      "source": [
        "Add person-level weight."
      ]
    },
    {
      "metadata": {
        "id": "bEJfVS82ABDn",
        "colab_type": "code",
        "colab": {}
      },
      "cell_type": "code",
      "source": [
        "scf['person_wt'] = scf.X101 * scf.wt"
      ],
      "execution_count": 0,
      "outputs": []
    },
    {
      "metadata": {
        "id": "Q4PHJLl3duq5",
        "colab_type": "text"
      },
      "cell_type": "markdown",
      "source": [
        "## Analyze\n",
        "\n",
        "### Initial checks and comparison to SCF summary"
      ]
    },
    {
      "metadata": {
        "id": "l46Q-TYKlI1J",
        "colab_type": "code",
        "colab": {
          "base_uri": "https://localhost:8080/",
          "height": 34
        },
        "outputId": "2bc0d059-1a5c-4075-f52a-7fe8718ea6fc"
      },
      "cell_type": "code",
      "source": [
        "'Total families: ' + format(scf.wt.sum() / 1e6, '.0f') + 'M'"
      ],
      "execution_count": 15,
      "outputs": [
        {
          "output_type": "execute_result",
          "data": {
            "text/plain": [
              "'Total families: 126M'"
            ]
          },
          "metadata": {
            "tags": []
          },
          "execution_count": 15
        }
      ]
    },
    {
      "metadata": {
        "id": "C0d4TQ-8AGzh",
        "colab_type": "code",
        "colab": {
          "base_uri": "https://localhost:8080/",
          "height": 34
        },
        "outputId": "a45274da-665f-49c1-8df9-ec0d91e677ac"
      },
      "cell_type": "code",
      "source": [
        "'Total population: ' + format(scf.person_wt.sum() / 1e6, '.0f') + 'M'"
      ],
      "execution_count": 16,
      "outputs": [
        {
          "output_type": "execute_result",
          "data": {
            "text/plain": [
              "'Total population: 320M'"
            ]
          },
          "metadata": {
            "tags": []
          },
          "execution_count": 16
        }
      ]
    },
    {
      "metadata": {
        "id": "wD0T6DqCfKhN",
        "colab_type": "code",
        "colab": {
          "base_uri": "https://localhost:8080/",
          "height": 34
        },
        "outputId": "bdce5943-ba5a-425a-c64d-581cefac6b26"
      },
      "cell_type": "code",
      "source": [
        "('Total outstanding education loans: $' +\n",
        " format((scf.edu_loans_owed * scf.wt).sum() / 1e9, '.0f') + 'B')"
      ],
      "execution_count": 17,
      "outputs": [
        {
          "output_type": "execute_result",
          "data": {
            "text/plain": [
              "'Total outstanding education loans: $961B'"
            ]
          },
          "metadata": {
            "tags": []
          },
          "execution_count": 17
        }
      ]
    },
    {
      "metadata": {
        "id": "p0AOclISrhZA",
        "colab_type": "text"
      },
      "cell_type": "markdown",
      "source": [
        "[SCF summary](https://www.federalreserve.gov/publications/files/scf17.pdf) reports 22.4% (Table 4).\n"
      ]
    },
    {
      "metadata": {
        "id": "BAqcU1fTrH9y",
        "colab_type": "code",
        "colab": {
          "base_uri": "https://localhost:8080/",
          "height": 34
        },
        "outputId": "5223d306-afca-4837-ca22-720f35d98910"
      },
      "cell_type": "code",
      "source": [
        "('Share of families with outstanding education loans: ' +\n",
        " format(((scf.edu_loans_owed > 0) * scf.wt).sum() / scf.wt.sum(), '.1%'))"
      ],
      "execution_count": 18,
      "outputs": [
        {
          "output_type": "execute_result",
          "data": {
            "text/plain": [
              "'Share of families with outstanding education loans: 22.3%'"
            ]
          },
          "metadata": {
            "tags": []
          },
          "execution_count": 18
        }
      ]
    },
    {
      "metadata": {
        "id": "YzW3F7WKud_L",
        "colab_type": "text"
      },
      "cell_type": "markdown",
      "source": [
        "[SCF summary](https://www.federalreserve.gov/publications/files/scf17.pdf) reports $34.2k (Table 4).\n"
      ]
    },
    {
      "metadata": {
        "id": "AFpsPnDpr2NS",
        "colab_type": "code",
        "colab": {
          "base_uri": "https://localhost:8080/",
          "height": 34
        },
        "outputId": "5caf6c2c-72b7-4e55-9e1f-14d184137c63"
      },
      "cell_type": "code",
      "source": [
        "('Conditional mean of outstanding education loans: $' +\n",
        " format(cond_mean(scf, 'edu_loans_owed', 'wt'), ',.0f'))"
      ],
      "execution_count": 19,
      "outputs": [
        {
          "output_type": "execute_result",
          "data": {
            "text/plain": [
              "'Conditional mean of outstanding education loans: $34,245'"
            ]
          },
          "metadata": {
            "tags": []
          },
          "execution_count": 19
        }
      ]
    },
    {
      "metadata": {
        "id": "Wj8bGZgKwj-V",
        "colab_type": "text"
      },
      "cell_type": "markdown",
      "source": [
        "[SCF summary](https://www.federalreserve.gov/publications/files/scf17.pdf) reports $19.0k (Table 4).\n"
      ]
    },
    {
      "metadata": {
        "id": "6eU8o32wwXw3",
        "colab_type": "code",
        "colab": {
          "base_uri": "https://localhost:8080/",
          "height": 34
        },
        "outputId": "8a0b9417-848e-4be2-debd-83fa9a055553"
      },
      "cell_type": "code",
      "source": [
        "('Conditional median of outstanding education loans: $' +\n",
        " format(cond_median(scf, 'edu_loans_owed', 'wt'), ',.0f'))"
      ],
      "execution_count": 20,
      "outputs": [
        {
          "output_type": "execute_result",
          "data": {
            "text/plain": [
              "'Conditional median of outstanding education loans: $19,000'"
            ]
          },
          "metadata": {
            "tags": []
          },
          "execution_count": 20
        }
      ]
    },
    {
      "metadata": {
        "id": "NOQXNPoS2uWJ",
        "colab_type": "text"
      },
      "cell_type": "markdown",
      "source": [
        "### Brookings analysis\n",
        "\n",
        "Distribution of student loan debt by income for families aged 25 or older. \"For households with more than one adult, age represents the average of their ages.\"\n",
        "\n",
        "Relevant fields, per https://www.federalreserve.gov/apps/scfcb:\n",
        "\n",
        "* `X14`: Respondent age\n",
        "* `X19`: Spouse age\n",
        "* `X5729`: Total income\n",
        "* `X101`: Total people in the household (might not be used)\n",
        "\n",
        "Try 2x2 percentile approaches:\n",
        "* Income percentiles defined from full population vs. from families age 25 or older\n",
        "* Percentiles weighted by families vs. by population"
      ]
    },
    {
      "metadata": {
        "id": "BHN4pXzaBbPo",
        "colab_type": "code",
        "colab": {}
      },
      "cell_type": "code",
      "source": [
        "scf['income_percentrank'] = weighted_percentrank(scf, 'X5729', 'wt')\n",
        "scf['income_quartile'] = quartile(scf.income_percentrank)\n",
        "\n",
        "scf['income_percentrank_person'] = weighted_percentrank(scf, 'X5729', 'person_wt')\n",
        "scf['income_quartile_person'] = quartile(scf.income_percentrank_person)"
      ],
      "execution_count": 0,
      "outputs": []
    },
    {
      "metadata": {
        "id": "q0zQKVQr6esr",
        "colab_type": "code",
        "colab": {}
      },
      "cell_type": "code",
      "source": [
        "scf['avg_adult_age'] = np.where(scf.X19 > 0, (scf.X14 + scf.X19) / 2, scf.X14)\n",
        "scf25 = scf[scf.avg_adult_age >= 25].copy(deep=True)"
      ],
      "execution_count": 0,
      "outputs": []
    },
    {
      "metadata": {
        "id": "gngHfIGMylIh",
        "colab_type": "code",
        "colab": {}
      },
      "cell_type": "code",
      "source": [
        "scf25['income_percentrank_25'] = weighted_percentrank(scf25, 'X5729', 'wt')\n",
        "scf25['income_quartile_25'] = quartile(scf25.income_percentrank_25)\n",
        "\n",
        "scf25['income_percentrank_person_25'] = weighted_percentrank(scf25, 'X5729',\n",
        "                                                             'person_wt')\n",
        "scf25['income_quartile_person_25'] = quartile(scf25.income_percentrank_person_25)"
      ],
      "execution_count": 0,
      "outputs": []
    },
    {
      "metadata": {
        "id": "Nw5uC9qhDzXk",
        "colab_type": "code",
        "colab": {}
      },
      "cell_type": "code",
      "source": [
        "def income_quartile_threshold(quartile_col):\n",
        "    return (scf25.groupby(quartile_col).X5729.max())"
      ],
      "execution_count": 0,
      "outputs": []
    },
    {
      "metadata": {
        "id": "PykYiVIfDsSP",
        "colab_type": "code",
        "colab": {
          "base_uri": "https://localhost:8080/",
          "height": 98
        },
        "outputId": "a8a6b27d-5317-46cb-f735-4d92b8b0c37e"
      },
      "cell_type": "code",
      "source": [
        "quartile_methods_thresholds = pd.DataFrame({\n",
        "    'income_quartile': income_quartile_threshold('income_quartile'),\n",
        "    'income_quartile_person': income_quartile_threshold('income_quartile_person'),\n",
        "    'income_quartile_25': income_quartile_threshold('income_quartile_25'),\n",
        "    'income_quartile_person_25': income_quartile_threshold(\n",
        "        'income_quartile_person_25')\n",
        "}).drop([4])  # Top maximum isn't useful.\n",
        "\n",
        "quartile_methods_thresholds.style.format('${:,}')"
      ],
      "execution_count": 25,
      "outputs": [
        {
          "output_type": "execute_result",
          "data": {
            "text/html": [
              "<style  type=\"text/css\" >\n",
              "</style><table id=\"T_e003390c_6969_11e9_ab0f_0242ac1c0002\" ><thead>    <tr>        <th class=\"blank level0\" ></th>        <th class=\"col_heading level0 col0\" >income_quartile</th>        <th class=\"col_heading level0 col1\" >income_quartile_person</th>        <th class=\"col_heading level0 col2\" >income_quartile_25</th>        <th class=\"col_heading level0 col3\" >income_quartile_person_25</th>    </tr></thead><tbody>\n",
              "                <tr>\n",
              "                        <th id=\"T_e003390c_6969_11e9_ab0f_0242ac1c0002level0_row0\" class=\"row_heading level0 row0\" >1</th>\n",
              "                        <td id=\"T_e003390c_6969_11e9_ab0f_0242ac1c0002row0_col0\" class=\"data row0 col0\" >$26,000</td>\n",
              "                        <td id=\"T_e003390c_6969_11e9_ab0f_0242ac1c0002row0_col1\" class=\"data row0 col1\" >$30,000</td>\n",
              "                        <td id=\"T_e003390c_6969_11e9_ab0f_0242ac1c0002row0_col2\" class=\"data row0 col2\" >$26,000</td>\n",
              "                        <td id=\"T_e003390c_6969_11e9_ab0f_0242ac1c0002row0_col3\" class=\"data row0 col3\" >$31,000</td>\n",
              "            </tr>\n",
              "            <tr>\n",
              "                        <th id=\"T_e003390c_6969_11e9_ab0f_0242ac1c0002level0_row1\" class=\"row_heading level0 row1\" >2</th>\n",
              "                        <td id=\"T_e003390c_6969_11e9_ab0f_0242ac1c0002row1_col0\" class=\"data row1 col0\" >$50,000</td>\n",
              "                        <td id=\"T_e003390c_6969_11e9_ab0f_0242ac1c0002row1_col1\" class=\"data row1 col1\" >$57,000</td>\n",
              "                        <td id=\"T_e003390c_6969_11e9_ab0f_0242ac1c0002row1_col2\" class=\"data row1 col2\" >$52,000</td>\n",
              "                        <td id=\"T_e003390c_6969_11e9_ab0f_0242ac1c0002row1_col3\" class=\"data row1 col3\" >$60,000</td>\n",
              "            </tr>\n",
              "            <tr>\n",
              "                        <th id=\"T_e003390c_6969_11e9_ab0f_0242ac1c0002level0_row2\" class=\"row_heading level0 row2\" >3</th>\n",
              "                        <td id=\"T_e003390c_6969_11e9_ab0f_0242ac1c0002row2_col0\" class=\"data row2 col0\" >$95,000</td>\n",
              "                        <td id=\"T_e003390c_6969_11e9_ab0f_0242ac1c0002row2_col1\" class=\"data row2 col1\" >$103,000</td>\n",
              "                        <td id=\"T_e003390c_6969_11e9_ab0f_0242ac1c0002row2_col2\" class=\"data row2 col2\" >$97,000</td>\n",
              "                        <td id=\"T_e003390c_6969_11e9_ab0f_0242ac1c0002row2_col3\" class=\"data row2 col3\" >$107,000</td>\n",
              "            </tr>\n",
              "    </tbody></table>"
            ],
            "text/plain": [
              "<pandas.io.formats.style.Styler at 0x7f3c0be114a8>"
            ]
          },
          "metadata": {
            "tags": []
          },
          "execution_count": 25
        }
      ]
    },
    {
      "metadata": {
        "id": "5wsm-sm8CaOA",
        "colab_type": "code",
        "colab": {}
      },
      "cell_type": "code",
      "source": [
        "def edu_loan_share_by_income(quartile_col):\n",
        "    return (scf25.groupby(quartile_col).edu_loans_owed.sum() / \n",
        "            scf25.edu_loans_owed.sum())"
      ],
      "execution_count": 0,
      "outputs": []
    },
    {
      "metadata": {
        "id": "oMC0fplz-sPQ",
        "colab_type": "code",
        "colab": {
          "base_uri": "https://localhost:8080/",
          "height": 118
        },
        "outputId": "76e0634c-add7-499a-a6ca-9a4a9457ca67"
      },
      "cell_type": "code",
      "source": [
        "quartile_methods = pd.DataFrame({\n",
        "    'income_quartile': edu_loan_share_by_income('income_quartile'),\n",
        "    'income_quartile_person': edu_loan_share_by_income('income_quartile_person'),\n",
        "    'income_quartile_25': edu_loan_share_by_income('income_quartile_25'),\n",
        "    'income_quartile_person_25': edu_loan_share_by_income(\n",
        "        'income_quartile_person_25')\n",
        "})\n",
        "\n",
        "quartile_methods.style.format('{:.0%}')"
      ],
      "execution_count": 27,
      "outputs": [
        {
          "output_type": "execute_result",
          "data": {
            "text/html": [
              "<style  type=\"text/css\" >\n",
              "</style><table id=\"T_e00a8aae_6969_11e9_ab0f_0242ac1c0002\" ><thead>    <tr>        <th class=\"blank level0\" ></th>        <th class=\"col_heading level0 col0\" >income_quartile</th>        <th class=\"col_heading level0 col1\" >income_quartile_person</th>        <th class=\"col_heading level0 col2\" >income_quartile_25</th>        <th class=\"col_heading level0 col3\" >income_quartile_person_25</th>    </tr></thead><tbody>\n",
              "                <tr>\n",
              "                        <th id=\"T_e00a8aae_6969_11e9_ab0f_0242ac1c0002level0_row0\" class=\"row_heading level0 row0\" >1</th>\n",
              "                        <td id=\"T_e00a8aae_6969_11e9_ab0f_0242ac1c0002row0_col0\" class=\"data row0 col0\" >11%</td>\n",
              "                        <td id=\"T_e00a8aae_6969_11e9_ab0f_0242ac1c0002row0_col1\" class=\"data row0 col1\" >13%</td>\n",
              "                        <td id=\"T_e00a8aae_6969_11e9_ab0f_0242ac1c0002row0_col2\" class=\"data row0 col2\" >11%</td>\n",
              "                        <td id=\"T_e00a8aae_6969_11e9_ab0f_0242ac1c0002row0_col3\" class=\"data row0 col3\" >15%</td>\n",
              "            </tr>\n",
              "            <tr>\n",
              "                        <th id=\"T_e00a8aae_6969_11e9_ab0f_0242ac1c0002level0_row1\" class=\"row_heading level0 row1\" >2</th>\n",
              "                        <td id=\"T_e00a8aae_6969_11e9_ab0f_0242ac1c0002row1_col0\" class=\"data row1 col0\" >23%</td>\n",
              "                        <td id=\"T_e00a8aae_6969_11e9_ab0f_0242ac1c0002row1_col1\" class=\"data row1 col1\" >25%</td>\n",
              "                        <td id=\"T_e00a8aae_6969_11e9_ab0f_0242ac1c0002row1_col2\" class=\"data row1 col2\" >24%</td>\n",
              "                        <td id=\"T_e00a8aae_6969_11e9_ab0f_0242ac1c0002row1_col3\" class=\"data row1 col3\" >26%</td>\n",
              "            </tr>\n",
              "            <tr>\n",
              "                        <th id=\"T_e00a8aae_6969_11e9_ab0f_0242ac1c0002level0_row2\" class=\"row_heading level0 row2\" >3</th>\n",
              "                        <td id=\"T_e00a8aae_6969_11e9_ab0f_0242ac1c0002row2_col0\" class=\"data row2 col0\" >29%</td>\n",
              "                        <td id=\"T_e00a8aae_6969_11e9_ab0f_0242ac1c0002row2_col1\" class=\"data row2 col1\" >27%</td>\n",
              "                        <td id=\"T_e00a8aae_6969_11e9_ab0f_0242ac1c0002row2_col2\" class=\"data row2 col2\" >27%</td>\n",
              "                        <td id=\"T_e00a8aae_6969_11e9_ab0f_0242ac1c0002row2_col3\" class=\"data row2 col3\" >26%</td>\n",
              "            </tr>\n",
              "            <tr>\n",
              "                        <th id=\"T_e00a8aae_6969_11e9_ab0f_0242ac1c0002level0_row3\" class=\"row_heading level0 row3\" >4</th>\n",
              "                        <td id=\"T_e00a8aae_6969_11e9_ab0f_0242ac1c0002row3_col0\" class=\"data row3 col0\" >38%</td>\n",
              "                        <td id=\"T_e00a8aae_6969_11e9_ab0f_0242ac1c0002row3_col1\" class=\"data row3 col1\" >35%</td>\n",
              "                        <td id=\"T_e00a8aae_6969_11e9_ab0f_0242ac1c0002row3_col2\" class=\"data row3 col2\" >38%</td>\n",
              "                        <td id=\"T_e00a8aae_6969_11e9_ab0f_0242ac1c0002row3_col3\" class=\"data row3 col3\" >33%</td>\n",
              "            </tr>\n",
              "    </tbody></table>"
            ],
            "text/plain": [
              "<pandas.io.formats.style.Styler at 0x7f3c22d73ba8>"
            ]
          },
          "metadata": {
            "tags": []
          },
          "execution_count": 27
        }
      ]
    }
  ]
}
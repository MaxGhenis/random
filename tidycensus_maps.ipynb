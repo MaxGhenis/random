{
 "cells": [
  {
   "cell_type": "code",
   "execution_count": null,
   "metadata": {},
   "outputs": [],
   "source": [
    "library(tidycensus)\n",
    "library(tidyverse)\n",
    "# conda install -c conda-forge r-viridis\n",
    "library(viridis)\n",
    "\n",
    "options(tigris_use_cache = TRUE)\n",
    "\n",
    "orange <- get_acs(state = \"CA\", county = \"Orange\", geography = \"tract\", \n",
    "                  variables = \"B19013_001\", geometry = TRUE)"
   ]
  },
  {
   "cell_type": "code",
   "execution_count": 9,
   "metadata": {},
   "outputs": [
    {
     "ename": "ERROR",
     "evalue": "Error in geom_sf(): could not find function \"geom_sf\"\n",
     "output_type": "error",
     "traceback": [
      "Error in geom_sf(): could not find function \"geom_sf\"\nTraceback:\n"
     ]
    }
   ],
   "source": [
    "orange %>%\n",
    "  ggplot(aes(fill = estimate, color = estimate)) + \n",
    "  geom_sf() + \n",
    "  coord_sf(crs = 26911) + \n",
    "  scale_fill_viridis(option = \"magma\") + \n",
    "  scale_color_viridis(option = \"magma\")"
   ]
  },
  {
   "cell_type": "code",
   "execution_count": null,
   "metadata": {},
   "outputs": [],
   "source": []
  }
 ],
 "metadata": {
  "kernelspec": {
   "display_name": "R",
   "language": "R",
   "name": "ir"
  },
  "language_info": {
   "codemirror_mode": "r",
   "file_extension": ".r",
   "mimetype": "text/x-r-source",
   "name": "R",
   "pygments_lexer": "r",
   "version": "3.4.1"
  }
 },
 "nbformat": 4,
 "nbformat_minor": 2
}

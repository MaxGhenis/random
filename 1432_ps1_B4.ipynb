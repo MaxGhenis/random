{
  "nbformat": 4,
  "nbformat_minor": 0,
  "metadata": {
    "colab": {
      "name": "1432_ps1_B4.ipynb",
      "provenance": [],
      "authorship_tag": "ABX9TyO4Y/uMZuvbYGLEKUYEDD99"
    },
    "kernelspec": {
      "name": "python3",
      "display_name": "Python 3"
    }
  },
  "cells": [
    {
      "cell_type": "markdown",
      "metadata": {
        "id": "_l_NeUwa22XM",
        "colab_type": "text"
      },
      "source": [
        "# 14.32 PS1 Max Ghenis\n",
        "\n",
        "## Problem 4\n",
        "\n",
        "(This is a Python Jupyter notebook.)\n",
        "\n",
        ">Draw 500 random samples each with a sample size of 8 from a random number generator for a\n",
        "standard Normal distribution. Then increase the sample size to 32. Finally, increase the sample\n",
        "size to 128. Plot histograms of the sampling distributions of (i) the sample mean and (ii) the\n",
        "sample variance, for each of these three sample sizes. Now repeat your experiments (and plots)\n",
        "for three samples drawn from another parametric distribution of your choice (e.g., a uniform\n",
        "distribution)."
      ]
    },
    {
      "cell_type": "code",
      "metadata": {
        "id": "SCYSw4k_iIfr",
        "colab_type": "code",
        "colab": {}
      },
      "source": [
        "import pandas as pd\n",
        "import numpy as np\n",
        "import matplotlib.pyplot as plt"
      ],
      "execution_count": 0,
      "outputs": []
    },
    {
      "cell_type": "code",
      "metadata": {
        "id": "eb3D-B1i3J0b",
        "colab_type": "code",
        "colab": {}
      },
      "source": [
        "def sample_normal(size):\n",
        "    v = np.random.normal(size=size)\n",
        "    return v.mean(), v.var()\n",
        "\n",
        "def sample_uniform(size):\n",
        "    v = np.random.uniform(size=size)\n",
        "    return v.mean(), v.var()"
      ],
      "execution_count": 0,
      "outputs": []
    },
    {
      "cell_type": "code",
      "metadata": {
        "id": "9mQfKj4cnXMS",
        "colab_type": "code",
        "colab": {}
      },
      "source": [
        "def stat_df(size, sims, dist):\n",
        "    if dist == 'normal':\n",
        "        df = pd.DataFrame([sample_normal(size) for i in range(sims)])\n",
        "    else:\n",
        "        df = pd.DataFrame([sample_uniform(size) for i in range(sims)])\n",
        "    df.columns = ['mean', 'var']\n",
        "    df['sample_size'] = size\n",
        "    df['dist'] = dist\n",
        "    return df"
      ],
      "execution_count": 0,
      "outputs": []
    },
    {
      "cell_type": "code",
      "metadata": {
        "id": "NiUsBmcbnsp7",
        "colab_type": "code",
        "colab": {}
      },
      "source": [
        "combined = pd.concat([stat_df(8, 500, 'normal'),\n",
        "                      stat_df(32, 500, 'normal'),\n",
        "                      stat_df(128, 500, 'normal'),\n",
        "                      stat_df(8, 500, 'uniform'),\n",
        "                      stat_df(32, 500, 'uniform'),\n",
        "                      stat_df(128, 500, 'uniform')])"
      ],
      "execution_count": 0,
      "outputs": []
    },
    {
      "cell_type": "code",
      "metadata": {
        "id": "5S8vEtTEoEyt",
        "colab_type": "code",
        "colab": {
          "base_uri": "https://localhost:8080/",
          "height": 1000
        },
        "outputId": "15f3ffa7-73c1-4bc9-fcb6-5080998c4bd3"
      },
      "source": [
        "for dist in ['normal', 'uniform']:\n",
        "    for feature in ['mean', 'var']:\n",
        "        for sample_size in [8, 32, 128]:\n",
        "            print(dist + ' ' + feature + ' ' + str(sample_size))\n",
        "            combined[(combined.dist == dist) &\n",
        "                     (combined.sample_size == sample_size)][feature].hist()\n",
        "            plt.show()"
      ],
      "execution_count": 5,
      "outputs": [
        {
          "output_type": "stream",
          "text": [
            "normal mean 8\n"
          ],
          "name": "stdout"
        },
        {
          "output_type": "display_data",
          "data": {
            "image/png": "[encoded data removed]",
            "text/plain": [
              "<Figure size 432x288 with 1 Axes>"
            ]
          },
          "metadata": {
            "tags": []
          }
        },
        {
          "output_type": "stream",
          "text": [
            "normal mean 32\n"
          ],
          "name": "stdout"
        },
        {
          "output_type": "display_data",
          "data": {
            "image/png": "[encoded data removed]",
            "text/plain": [
              "<Figure size 432x288 with 1 Axes>"
            ]
          },
          "metadata": {
            "tags": []
          }
        },
        {
          "output_type": "stream",
          "text": [
            "normal mean 128\n"
          ],
          "name": "stdout"
        },
        {
          "output_type": "display_data",
          "data": {
            "image/png": "[encoded data removed]",
            "text/plain": [
              "<Figure size 432x288 with 1 Axes>"
            ]
          },
          "metadata": {
            "tags": []
          }
        },
        {
          "output_type": "stream",
          "text": [
            "normal var 8\n"
          ],
          "name": "stdout"
        },
        {
          "output_type": "display_data",
          "data": {
            "image/png": "[encoded data removed]",
            "text/plain": [
              "<Figure size 432x288 with 1 Axes>"
            ]
          },
          "metadata": {
            "tags": []
          }
        },
        {
          "output_type": "stream",
          "text": [
            "normal var 32\n"
          ],
          "name": "stdout"
        },
        {
          "output_type": "display_data",
          "data": {
            "image/png": "[encoded data removed]",
            "text/plain": [
              "<Figure size 432x288 with 1 Axes>"
            ]
          },
          "metadata": {
            "tags": []
          }
        },
        {
          "output_type": "stream",
          "text": [
            "normal var 128\n"
          ],
          "name": "stdout"
        },
        {
          "output_type": "display_data",
          "data": {
            "image/png": "[encoded data removed]",
            "text/plain": [
              "<Figure size 432x288 with 1 Axes>"
            ]
          },
          "metadata": {
            "tags": []
          }
        },
        {
          "output_type": "stream",
          "text": [
            "uniform mean 8\n"
          ],
          "name": "stdout"
        },
        {
          "output_type": "display_data",
          "data": {
            "image/png": "[encoded data removed]",
            "text/plain": [
              "<Figure size 432x288 with 1 Axes>"
            ]
          },
          "metadata": {
            "tags": []
          }
        },
        {
          "output_type": "stream",
          "text": [
            "uniform mean 32\n"
          ],
          "name": "stdout"
        },
        {
          "output_type": "display_data",
          "data": {
            "image/png": "[encoded data removed]",
            "text/plain": [
              "<Figure size 432x288 with 1 Axes>"
            ]
          },
          "metadata": {
            "tags": []
          }
        },
        {
          "output_type": "stream",
          "text": [
            "uniform mean 128\n"
          ],
          "name": "stdout"
        },
        {
          "output_type": "display_data",
          "data": {
            "image/png": "[encoded data removed]",
            "text/plain": [
              "<Figure size 432x288 with 1 Axes>"
            ]
          },
          "metadata": {
            "tags": []
          }
        },
        {
          "output_type": "stream",
          "text": [
            "uniform var 8\n"
          ],
          "name": "stdout"
        },
        {
          "output_type": "display_data",
          "data": {
            "image/png": "[encoded data removed]",
            "text/plain": [
              "<Figure size 432x288 with 1 Axes>"
            ]
          },
          "metadata": {
            "tags": []
          }
        },
        {
          "output_type": "stream",
          "text": [
            "uniform var 32\n"
          ],
          "name": "stdout"
        },
        {
          "output_type": "display_data",
          "data": {
            "image/png": "[encoded data removed]",
            "text/plain": [
              "<Figure size 432x288 with 1 Axes>"
            ]
          },
          "metadata": {
            "tags": []
          }
        },
        {
          "output_type": "stream",
          "text": [
            "uniform var 128\n"
          ],
          "name": "stdout"
        },
        {
          "output_type": "display_data",
          "data": {
            "image/png": "[encoded data removed]",
            "text/plain": [
              "<Figure size 432x288 with 1 Axes>"
            ]
          },
          "metadata": {
            "tags": []
          }
        }
      ]
    },
    {
      "cell_type": "markdown",
      "metadata": {
        "id": "z5dHty6DpnY7",
        "colab_type": "text"
      },
      "source": [
        ">Discuss the results of your experiment in light of the central limit theorem.\n",
        "\n",
        "**As the sample size grows, the sample means are tighter around the true means, and the sample variances shrink.**"
      ]
    },
    {
      "cell_type": "markdown",
      "metadata": {
        "id": "SXSX0N6W5PHt",
        "colab_type": "text"
      },
      "source": [
        "### b\n",
        "\n",
        ">Your experiments produce “samples of sample means.” Compute the mean and variance of the\n",
        "sample means generated by each experiment and compare them to the mean and variance predicted\n",
        "by statistical theory."
      ]
    },
    {
      "cell_type": "code",
      "metadata": {
        "id": "64AYihAz5VR5",
        "colab_type": "code",
        "outputId": "bb84a2f8-0bb1-4268-eafc-7c6ff1b95b22",
        "colab": {
          "base_uri": "https://localhost:8080/",
          "height": 161
        }
      },
      "source": [
        "combined.groupby(['dist', 'sample_size'])['mean'].mean()"
      ],
      "execution_count": 6,
      "outputs": [
        {
          "output_type": "execute_result",
          "data": {
            "text/plain": [
              "dist     sample_size\n",
              "normal   8             -0.011601\n",
              "         32             0.002284\n",
              "         128            0.006773\n",
              "uniform  8              0.498243\n",
              "         32             0.499221\n",
              "         128            0.500549\n",
              "Name: mean, dtype: float64"
            ]
          },
          "metadata": {
            "tags": []
          },
          "execution_count": 6
        }
      ]
    },
    {
      "cell_type": "code",
      "metadata": {
        "id": "nmzGQLDep8ky",
        "colab_type": "code",
        "colab": {
          "base_uri": "https://localhost:8080/",
          "height": 161
        },
        "outputId": "14e890e2-7f75-4d77-fc82-167b09aeda7e"
      },
      "source": [
        "combined.groupby(['dist', 'sample_size'])['mean'].var()"
      ],
      "execution_count": 7,
      "outputs": [
        {
          "output_type": "execute_result",
          "data": {
            "text/plain": [
              "dist     sample_size\n",
              "normal   8              0.119668\n",
              "         32             0.033178\n",
              "         128            0.007581\n",
              "uniform  8              0.010520\n",
              "         32             0.002756\n",
              "         128            0.000687\n",
              "Name: mean, dtype: float64"
            ]
          },
          "metadata": {
            "tags": []
          },
          "execution_count": 7
        }
      ]
    },
    {
      "cell_type": "markdown",
      "metadata": {
        "id": "hJIPv71lqGKK",
        "colab_type": "text"
      },
      "source": [
        ">Does the variance of the sample means (i.e., the sampling variance) decrease with sample size at the rate predicted by the theory? Does Normality seem to matter for this?\n",
        "\n",
        "**Yes, variance of the sample means decreases with sample size as predicted, for both normal and uniform distributions.**"
      ]
    }
  ]
}
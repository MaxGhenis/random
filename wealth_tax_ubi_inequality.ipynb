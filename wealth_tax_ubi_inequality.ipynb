{
  "nbformat": 4,
  "nbformat_minor": 0,
  "metadata": {
    "colab": {
      "name": "wealth_tax_ubi_inequality.ipynb",
      "provenance": [],
      "include_colab_link": true
    },
    "kernelspec": {
      "name": "python3",
      "display_name": "Python 3"
    }
  },
  "cells": [
    {
      "cell_type": "markdown",
      "metadata": {
        "id": "view-in-github",
        "colab_type": "text"
      },
      "source": [
        "<a href=\"https://colab.research.google.com/github/MaxGhenis/random/blob/master/wealth_tax_ubi_inequality.ipynb\" target=\"_parent\"><img src=\"https://colab.research.google.com/assets/colab-badge.svg\" alt=\"Open In Colab\"/></a>"
      ]
    },
    {
      "cell_type": "markdown",
      "metadata": {
        "id": "s8E1yENObg_f",
        "colab_type": "text"
      },
      "source": [
        "# Effects of wealth tax and UBI on wealth inequality\n",
        "\n",
        "Compare a wealth tax to a UBI on wealth inequality.\n",
        "\n",
        "## Setup"
      ]
    },
    {
      "cell_type": "markdown",
      "metadata": {
        "id": "Bh3VCTRXcTyL",
        "colab_type": "text"
      },
      "source": [
        "TODO: Figure out how to make microdf work without installing labellines and taxcalc (optional)."
      ]
    },
    {
      "cell_type": "code",
      "metadata": {
        "id": "ScKeNya-Y7_1",
        "colab_type": "code",
        "colab": {
          "base_uri": "https://localhost:8080/",
          "height": 1000
        },
        "outputId": "0d53f65b-0181-4b0c-bde3-98df096a3c98"
      },
      "source": [
        "!pip install matplotlib-label-lines\n",
        "!pip install git+git://github.com/maxghenis/microdf.git\n",
        "!pip install git+git://github.com/PSLmodels/Tax-Calculator.git"
      ],
      "execution_count": 4,
      "outputs": [
        {
          "output_type": "stream",
          "text": [
            "Collecting matplotlib-label-lines\n",
            "  Downloading https://files.pythonhosted.org/packages/40/c5/2d130c4775a8d1b6777f54f3a40432a6bab971aea7a36916d1940f65fbc0/matplotlib_label_lines-0.3.6-py3-none-any.whl\n",
            "Requirement already satisfied: numpy in /usr/local/lib/python3.6/dist-packages (from matplotlib-label-lines) (1.16.5)\n",
            "Requirement already satisfied: matplotlib in /usr/local/lib/python3.6/dist-packages (from matplotlib-label-lines) (3.0.3)\n",
            "Requirement already satisfied: cycler>=0.10 in /usr/local/lib/python3.6/dist-packages (from matplotlib->matplotlib-label-lines) (0.10.0)\n",
            "Requirement already satisfied: python-dateutil>=2.1 in /usr/local/lib/python3.6/dist-packages (from matplotlib->matplotlib-label-lines) (2.5.3)\n",
            "Requirement already satisfied: kiwisolver>=1.0.1 in /usr/local/lib/python3.6/dist-packages (from matplotlib->matplotlib-label-lines) (1.1.0)\n",
            "Requirement already satisfied: pyparsing!=2.0.4,!=2.1.2,!=2.1.6,>=2.0.1 in /usr/local/lib/python3.6/dist-packages (from matplotlib->matplotlib-label-lines) (2.4.2)\n",
            "Requirement already satisfied: six in /usr/local/lib/python3.6/dist-packages (from cycler>=0.10->matplotlib->matplotlib-label-lines) (1.12.0)\n",
            "Requirement already satisfied: setuptools in /usr/local/lib/python3.6/dist-packages (from kiwisolver>=1.0.1->matplotlib->matplotlib-label-lines) (41.2.0)\n",
            "Installing collected packages: matplotlib-label-lines\n",
            "Successfully installed matplotlib-label-lines-0.3.6\n",
            "Collecting git+git://github.com/maxghenis/microdf.git\n",
            "  Cloning git://github.com/maxghenis/microdf.git to /tmp/pip-req-build-1la3xqnq\n",
            "  Running command git clone -q git://github.com/maxghenis/microdf.git /tmp/pip-req-build-1la3xqnq\n",
            "Requirement already satisfied: numpy in /usr/local/lib/python3.6/dist-packages (from microdf==0.1) (1.16.5)\n",
            "Requirement already satisfied: pandas in /usr/local/lib/python3.6/dist-packages (from microdf==0.1) (0.24.2)\n",
            "Requirement already satisfied: matplotlib in /usr/local/lib/python3.6/dist-packages (from microdf==0.1) (3.0.3)\n",
            "Requirement already satisfied: seaborn in /usr/local/lib/python3.6/dist-packages (from microdf==0.1) (0.9.0)\n",
            "Requirement already satisfied: pytz>=2011k in /usr/local/lib/python3.6/dist-packages (from pandas->microdf==0.1) (2018.9)\n",
            "Requirement already satisfied: python-dateutil>=2.5.0 in /usr/local/lib/python3.6/dist-packages (from pandas->microdf==0.1) (2.5.3)\n",
            "Requirement already satisfied: cycler>=0.10 in /usr/local/lib/python3.6/dist-packages (from matplotlib->microdf==0.1) (0.10.0)\n",
            "Requirement already satisfied: pyparsing!=2.0.4,!=2.1.2,!=2.1.6,>=2.0.1 in /usr/local/lib/python3.6/dist-packages (from matplotlib->microdf==0.1) (2.4.2)\n",
            "Requirement already satisfied: kiwisolver>=1.0.1 in /usr/local/lib/python3.6/dist-packages (from matplotlib->microdf==0.1) (1.1.0)\n",
            "Requirement already satisfied: scipy>=0.14.0 in /usr/local/lib/python3.6/dist-packages (from seaborn->microdf==0.1) (1.3.1)\n",
            "Requirement already satisfied: six>=1.5 in /usr/local/lib/python3.6/dist-packages (from python-dateutil>=2.5.0->pandas->microdf==0.1) (1.12.0)\n",
            "Requirement already satisfied: setuptools in /usr/local/lib/python3.6/dist-packages (from kiwisolver>=1.0.1->matplotlib->microdf==0.1) (41.2.0)\n",
            "Building wheels for collected packages: microdf\n",
            "  Building wheel for microdf (setup.py) ... \u001b[?25l\u001b[?25hdone\n",
            "  Created wheel for microdf: filename=microdf-0.1-cp36-none-any.whl size=13479 sha256=b429d7861412e1f0e950fa33d1b2bda858a3032cb82614dfec4154ed8c750712\n",
            "  Stored in directory: /tmp/pip-ephem-wheel-cache-87r7f0xg/wheels/d0/61/d3/083d3677aa1ee6b248d229cb6c4de037f9d61b595e9f06aed0\n",
            "Successfully built microdf\n",
            "Installing collected packages: microdf\n",
            "Successfully installed microdf-0.1\n",
            "Collecting git+git://github.com/PSLmodels/Tax-Calculator.git\n",
            "  Cloning git://github.com/PSLmodels/Tax-Calculator.git to /tmp/pip-req-build-9v7e5vx_\n",
            "  Running command git clone -q git://github.com/PSLmodels/Tax-Calculator.git /tmp/pip-req-build-9v7e5vx_\n",
            "Requirement already satisfied: numpy in /usr/local/lib/python3.6/dist-packages (from taxcalc==0.0.0) (1.16.5)\n",
            "Requirement already satisfied: pandas in /usr/local/lib/python3.6/dist-packages (from taxcalc==0.0.0) (0.24.2)\n",
            "Requirement already satisfied: bokeh in /usr/local/lib/python3.6/dist-packages (from taxcalc==0.0.0) (1.0.4)\n",
            "Requirement already satisfied: numba in /usr/local/lib/python3.6/dist-packages (from taxcalc==0.0.0) (0.40.1)\n",
            "Requirement already satisfied: pytz>=2011k in /usr/local/lib/python3.6/dist-packages (from pandas->taxcalc==0.0.0) (2018.9)\n",
            "Requirement already satisfied: python-dateutil>=2.5.0 in /usr/local/lib/python3.6/dist-packages (from pandas->taxcalc==0.0.0) (2.5.3)\n",
            "Requirement already satisfied: pillow>=4.0 in /usr/local/lib/python3.6/dist-packages (from bokeh->taxcalc==0.0.0) (4.3.0)\n",
            "Requirement already satisfied: PyYAML>=3.10 in /usr/local/lib/python3.6/dist-packages (from bokeh->taxcalc==0.0.0) (3.13)\n",
            "Requirement already satisfied: Jinja2>=2.7 in /usr/local/lib/python3.6/dist-packages (from bokeh->taxcalc==0.0.0) (2.10.1)\n",
            "Requirement already satisfied: tornado>=4.3 in /usr/local/lib/python3.6/dist-packages (from bokeh->taxcalc==0.0.0) (4.5.3)\n",
            "Requirement already satisfied: six>=1.5.2 in /usr/local/lib/python3.6/dist-packages (from bokeh->taxcalc==0.0.0) (1.12.0)\n",
            "Requirement already satisfied: packaging>=16.8 in /usr/local/lib/python3.6/dist-packages (from bokeh->taxcalc==0.0.0) (19.1)\n",
            "Requirement already satisfied: llvmlite>=0.25.0dev0 in /usr/local/lib/python3.6/dist-packages (from numba->taxcalc==0.0.0) (0.29.0)\n",
            "Requirement already satisfied: olefile in /usr/local/lib/python3.6/dist-packages (from pillow>=4.0->bokeh->taxcalc==0.0.0) (0.46)\n",
            "Requirement already satisfied: MarkupSafe>=0.23 in /usr/local/lib/python3.6/dist-packages (from Jinja2>=2.7->bokeh->taxcalc==0.0.0) (1.1.1)\n",
            "Requirement already satisfied: pyparsing>=2.0.2 in /usr/local/lib/python3.6/dist-packages (from packaging>=16.8->bokeh->taxcalc==0.0.0) (2.4.2)\n",
            "Requirement already satisfied: attrs in /usr/local/lib/python3.6/dist-packages (from packaging>=16.8->bokeh->taxcalc==0.0.0) (19.1.0)\n",
            "Building wheels for collected packages: taxcalc\n",
            "  Building wheel for taxcalc (setup.py) ... \u001b[?25l\u001b[?25hdone\n",
            "  Created wheel for taxcalc: filename=taxcalc-0.0.0-cp36-none-any.whl size=60617386 sha256=66475ece6242d45b27516f71c77e8dc69be5ccc1811d3446a42299bf7e0c5230\n",
            "  Stored in directory: /tmp/pip-ephem-wheel-cache-tzd2r37n/wheels/5c/c7/c2/e2c40e13b9b3352b091aea6b0744eab7120e9094d070a7b289\n",
            "Successfully built taxcalc\n",
            "Installing collected packages: taxcalc\n",
            "Successfully installed taxcalc-0.0.0\n"
          ],
          "name": "stdout"
        }
      ]
    },
    {
      "cell_type": "code",
      "metadata": {
        "id": "Os_DIXr-cVrO",
        "colab_type": "code",
        "colab": {}
      },
      "source": [
        "import pandas as pd\n",
        "import numpy as np\n",
        "import microdf as mdf"
      ],
      "execution_count": 0,
      "outputs": []
    },
    {
      "cell_type": "markdown",
      "metadata": {
        "id": "dZQrV2nmdk6u",
        "colab_type": "text"
      },
      "source": [
        "## Load data\n",
        "\n",
        "From Saez/Zucman wealth tax calculator: https://github.com/BITSS/opa-wealthtax"
      ]
    },
    {
      "cell_type": "code",
      "metadata": {
        "id": "fAcINzfEbupb",
        "colab_type": "code",
        "colab": {}
      },
      "source": [
        "wealth = pd.read_stata('https://github.com/BITSS/opa-wealthtax/blob/master/analysis_data/wealth.dta?raw=true')"
      ],
      "execution_count": 0,
      "outputs": []
    },
    {
      "cell_type": "markdown",
      "metadata": {
        "id": "QXhA8Y4zhBhH",
        "colab_type": "text"
      },
      "source": [
        "## Preprocess\n",
        "\n",
        "### UBI\n",
        "\n",
        "Andrew Yang's Freedom Dividend of $1,000 per month for each adult citizen.\n",
        "\n",
        "Other features like tax revenue and benefit clawback would require fusing with CPS data, so these are not modeled here."
      ]
    },
    {
      "cell_type": "markdown",
      "metadata": {
        "id": "CwMBHwRGdviV",
        "colab_type": "text"
      },
      "source": [
        "From https://www.census.gov/quickfacts/fact/table/US/PST045218 and https://www.kff.org/other/state-indicator/distribution-by-citizenship-status."
      ]
    },
    {
      "cell_type": "code",
      "metadata": {
        "id": "pyrJYER-ddCK",
        "colab_type": "code",
        "colab": {}
      },
      "source": [
        "ADULT_POP = 327_167_434 * (1 - 0.224)\n",
        "PCT_CITIZENS = 0.93\n",
        "citizen_adults_per_family = PCT_CITIZENS * ADULT_POP / wealth.weight.sum()\n",
        "UBI_PER_ADULT_CITIZEN = 12000\n",
        "ubi_per_family = UBI_PER_ADULT_CITIZEN * citizen_adults_per_family"
      ],
      "execution_count": 0,
      "outputs": []
    },
    {
      "cell_type": "code",
      "metadata": {
        "id": "e3sqspTRcW6e",
        "colab_type": "code",
        "colab": {}
      },
      "source": [
        "wealth['yang_ubi'] = ubi_per_family\n",
        "wealth['networth_ubi'] = wealth.networth + wealth.yang_ubi"
      ],
      "execution_count": 0,
      "outputs": []
    },
    {
      "cell_type": "markdown",
      "metadata": {
        "id": "j1FtVudFhf4M",
        "colab_type": "text"
      },
      "source": [
        "Total impact ($B)"
      ]
    },
    {
      "cell_type": "code",
      "metadata": {
        "id": "_MVT64SVhV6d",
        "colab_type": "code",
        "colab": {
          "base_uri": "https://localhost:8080/",
          "height": 34
        },
        "outputId": "11d44d00-c442-4a64-f57f-039ac021b142"
      },
      "source": [
        "total_ubi = (mdf.weighted_sum(wealth, 'networth_ubi', 'weight') - \n",
        "             mdf.weighted_sum(wealth, 'networth', 'weight')).sum()\n",
        "total_ubi / 1e9"
      ],
      "execution_count": 72,
      "outputs": [
        {
          "output_type": "execute_result",
          "data": {
            "text/plain": [
              "2833.322325229422"
            ]
          },
          "metadata": {
            "tags": []
          },
          "execution_count": 72
        }
      ]
    },
    {
      "cell_type": "markdown",
      "metadata": {
        "id": "N5EjltIDn2QP",
        "colab_type": "text"
      },
      "source": [
        "#### VAT\n",
        "\n",
        "Assume (not based on data) that VAT is proportional the the square root of wealth, and that the UBI is funded fully and solely by the VAT."
      ]
    },
    {
      "cell_type": "code",
      "metadata": {
        "id": "KyAvADaun9IU",
        "colab_type": "code",
        "colab": {}
      },
      "source": [
        "wealth['vat_base'] = np.maximum(wealth.networth_ubi, 0)\n",
        "wealth['sqrt_vat_base'] = np.sqrt(wealth.vat_base)"
      ],
      "execution_count": 0,
      "outputs": []
    },
    {
      "cell_type": "code",
      "metadata": {
        "id": "37egXyYLoORP",
        "colab_type": "code",
        "colab": {}
      },
      "source": [
        "total_sqrt_networth = mdf.weighted_sum(wealth, 'sqrt_vat_base', 'weight')"
      ],
      "execution_count": 0,
      "outputs": []
    },
    {
      "cell_type": "code",
      "metadata": {
        "id": "owKJqK5Moiz6",
        "colab_type": "code",
        "colab": {}
      },
      "source": [
        "wealth['vat'] = wealth.sqrt_vat_base * total_ubi / total_sqrt_networth"
      ],
      "execution_count": 0,
      "outputs": []
    },
    {
      "cell_type": "code",
      "metadata": {
        "id": "xDejS89vobod",
        "colab_type": "code",
        "colab": {
          "base_uri": "https://localhost:8080/",
          "height": 34
        },
        "outputId": "a2a14e0f-8215-4bc4-e2de-cd9bade4cafc"
      },
      "source": [
        "mdf.weighted_sum(wealth, 'vat', 'weight') / 1e12"
      ],
      "execution_count": 77,
      "outputs": [
        {
          "output_type": "execute_result",
          "data": {
            "text/plain": [
              "2.8333223252294215"
            ]
          },
          "metadata": {
            "tags": []
          },
          "execution_count": 77
        }
      ]
    },
    {
      "cell_type": "code",
      "metadata": {
        "id": "vKTsPztXo6x0",
        "colab_type": "code",
        "colab": {}
      },
      "source": [
        "wealth['networth_yang'] = wealth.networth_ubi - wealth.vat"
      ],
      "execution_count": 0,
      "outputs": []
    },
    {
      "cell_type": "markdown",
      "metadata": {
        "id": "FBLy8Yo2hGtk",
        "colab_type": "text"
      },
      "source": [
        "### Wealth tax\n",
        "\n",
        "16% avoidance/evasion rate per Saez and Zucman: http://wealthtaxsimulator.org/analysis/"
      ]
    },
    {
      "cell_type": "code",
      "metadata": {
        "id": "bDMrFJr3iq5n",
        "colab_type": "code",
        "colab": {}
      },
      "source": [
        "PCT_AVOID_EVADE = 0.16"
      ],
      "execution_count": 0,
      "outputs": []
    },
    {
      "cell_type": "code",
      "metadata": {
        "id": "qTGmHfLil7uI",
        "colab_type": "code",
        "colab": {}
      },
      "source": [
        "from bisect import bisect\n",
        "\n",
        "def tax(income, rates, brackets, base_tax):\n",
        "    i = bisect(brackets, income)\n",
        "    if not i:\n",
        "        return 0\n",
        "    rate = rates[i]\n",
        "    bracket = brackets[i-1]\n",
        "    income_in_bracket = income - bracket\n",
        "    tax_in_bracket = income_in_bracket * rate\n",
        "    total_tax = base_tax[i-1] + tax_in_bracket\n",
        "    return total_tax"
      ],
      "execution_count": 0,
      "outputs": []
    },
    {
      "cell_type": "code",
      "metadata": {
        "id": "QeuIVWK4nyKj",
        "colab_type": "code",
        "colab": {}
      },
      "source": [
        "def tax_multiple(incomes, **kwargs):\n",
        "    return [tax(income, **kwargs) for income in incomes]"
      ],
      "execution_count": 0,
      "outputs": []
    },
    {
      "cell_type": "markdown",
      "metadata": {
        "id": "OmCZPcUKiov3",
        "colab_type": "text"
      },
      "source": [
        "#### Warren\n",
        "\n",
        "2% above \\$50 million, 3% above \\$1 billion, per http://wealthtaxsimulator.org/analysis/\n",
        "\n"
      ]
    },
    {
      "cell_type": "code",
      "metadata": {
        "id": "a5T2VGahu9_v",
        "colab_type": "code",
        "colab": {}
      },
      "source": [
        "WARREN_RATES = [0, 0.02, 0.03]   # 0%, 2%, 3%.\n",
        "\n",
        "WARREN_BRACKETS = [50e6,  # First $50 million.\n",
        "                   1e9]   # Over $1 billion.\n",
        "\n",
        "WARREN_BASE_TAX = [0,     # $50,000,000 * 0%\n",
        "                   20e6]  # $1,000,000,000 * 2%"
      ],
      "execution_count": 0,
      "outputs": []
    },
    {
      "cell_type": "code",
      "metadata": {
        "id": "gdCt3RQEMAud",
        "colab_type": "code",
        "colab": {}
      },
      "source": [
        "def warren_tax_multiple(incomes):\n",
        "    return tax_multiple(incomes, rates=WARREN_RATES, brackets=WARREN_BRACKETS,\n",
        "                        base_tax=WARREN_BASE_TAX)"
      ],
      "execution_count": 0,
      "outputs": []
    },
    {
      "cell_type": "markdown",
      "metadata": {
        "id": "LZ4rgRRrMLCo",
        "colab_type": "text"
      },
      "source": [
        "Test a couple values."
      ]
    },
    {
      "cell_type": "code",
      "metadata": {
        "id": "rmSqBadlMNMY",
        "colab_type": "code",
        "colab": {
          "base_uri": "https://localhost:8080/",
          "height": 34
        },
        "outputId": "04cf0a3b-4bb6-4e71-ed9f-19e5f5dbace9"
      },
      "source": [
        "warren_tax_multiple([-1e6,    # Expected: 0\n",
        "                     0,       # Expected: 0\n",
        "                     1e6,     # Expected: 0\n",
        "                     50e6,    # Expected: 0\n",
        "                     50e6+1,  # Expected: 0.02\n",
        "                     100e6,   # Expected: 2% * (100e6 - 50e6) = 2% * 50e6 = 1e6\n",
        "                     1e9,     # Expected: 20,000,000\n",
        "                     1e9+1,   # Expected: 20,000,000.03\n",
        "                     10e9     # Expected: 20e6 + 3% * (10e9 - 1e9) = \n",
        "                              #           20e6 + 270e6 = 290e6\n",
        "                     ])"
      ],
      "execution_count": 39,
      "outputs": [
        {
          "output_type": "execute_result",
          "data": {
            "text/plain": [
              "[0, 0, 0, 0.0, 0.02, 1000000.0, 20000000.0, 20000000.03, 290000000.0]"
            ]
          },
          "metadata": {
            "tags": []
          },
          "execution_count": 39
        }
      ]
    },
    {
      "cell_type": "code",
      "metadata": {
        "id": "kwDNQPRauTJA",
        "colab_type": "code",
        "colab": {}
      },
      "source": [
        "wealth['warren_theoretical_tax'] = tax_multiple(\n",
        "    wealth.networth, rates=WARREN_RATES, brackets=WARREN_BRACKETS,\n",
        "    base_tax=WARREN_BASE_TAX)"
      ],
      "execution_count": 0,
      "outputs": []
    },
    {
      "cell_type": "code",
      "metadata": {
        "id": "_uykhjtJuiGM",
        "colab_type": "code",
        "colab": {}
      },
      "source": [
        "wealth['warren_tax'] = wealth.warren_theoretical_tax * (1 - PCT_AVOID_EVADE)"
      ],
      "execution_count": 0,
      "outputs": []
    },
    {
      "cell_type": "code",
      "metadata": {
        "id": "ZpWZpEBOuse7",
        "colab_type": "code",
        "colab": {}
      },
      "source": [
        "wealth['networth_warren'] = wealth.networth - wealth.warren_tax"
      ],
      "execution_count": 0,
      "outputs": []
    },
    {
      "cell_type": "markdown",
      "metadata": {
        "id": "vdbXEJOahiKN",
        "colab_type": "text"
      },
      "source": [
        "Total impact ($B)\n",
        "\n",
        "This differs from the $199 billion estimated for 2019 in http://wealthtaxsimulator.org/analysis/ - is this because this is 2016? Would expect it to be higher in 2019 than 2016."
      ]
    },
    {
      "cell_type": "code",
      "metadata": {
        "id": "-EouYFhnvYC-",
        "colab_type": "code",
        "colab": {
          "base_uri": "https://localhost:8080/",
          "height": 34
        },
        "outputId": "26d203b4-2fa4-43cf-bbda-6290e6bd4b4a"
      },
      "source": [
        "(mdf.weighted_sum(wealth, 'networth_warren', 'weight') - \n",
        " mdf.weighted_sum(wealth, 'networth', 'weight')).sum() / 1e9"
      ],
      "execution_count": 43,
      "outputs": [
        {
          "output_type": "execute_result",
          "data": {
            "text/plain": [
              "-215.04780760723438"
            ]
          },
          "metadata": {
            "tags": []
          },
          "execution_count": 43
        }
      ]
    },
    {
      "cell_type": "code",
      "metadata": {
        "id": "lz9F53ugwcYk",
        "colab_type": "code",
        "colab": {
          "base_uri": "https://localhost:8080/",
          "height": 224
        },
        "outputId": "06bc7c0e-3d3c-4b18-cdb9-25324e966dff"
      },
      "source": [
        "wealth.head()"
      ],
      "execution_count": 44,
      "outputs": [
        {
          "output_type": "execute_result",
          "data": {
            "text/html": [
              "<div>\n",
              "<style scoped>\n",
              "    .dataframe tbody tr th:only-of-type {\n",
              "        vertical-align: middle;\n",
              "    }\n",
              "\n",
              "    .dataframe tbody tr th {\n",
              "        vertical-align: top;\n",
              "    }\n",
              "\n",
              "    .dataframe thead th {\n",
              "        text-align: right;\n",
              "    }\n",
              "</style>\n",
              "<table border=\"1\" class=\"dataframe\">\n",
              "  <thead>\n",
              "    <tr style=\"text-align: right;\">\n",
              "      <th></th>\n",
              "      <th>data</th>\n",
              "      <th>networth</th>\n",
              "      <th>weight</th>\n",
              "      <th>yang_ubi</th>\n",
              "      <th>networth_ubi</th>\n",
              "      <th>vat_base</th>\n",
              "      <th>vat</th>\n",
              "      <th>sqrt_vat_base</th>\n",
              "      <th>networth_yang</th>\n",
              "      <th>warren_theoretical_tax</th>\n",
              "      <th>warren_tax</th>\n",
              "      <th>networth_warren</th>\n",
              "    </tr>\n",
              "  </thead>\n",
              "  <tbody>\n",
              "    <tr>\n",
              "      <th>0</th>\n",
              "      <td>FB400</td>\n",
              "      <td>1.600000e+11</td>\n",
              "      <td>1.0</td>\n",
              "      <td>18111.728182</td>\n",
              "      <td>1.600000e+11</td>\n",
              "      <td>1.600000e+11</td>\n",
              "      <td>4.328330e+06</td>\n",
              "      <td>400000.022640</td>\n",
              "      <td>1.599957e+11</td>\n",
              "      <td>4.790000e+09</td>\n",
              "      <td>4.023600e+09</td>\n",
              "      <td>1.559764e+11</td>\n",
              "    </tr>\n",
              "    <tr>\n",
              "      <th>1</th>\n",
              "      <td>FB400</td>\n",
              "      <td>9.700000e+10</td>\n",
              "      <td>1.0</td>\n",
              "      <td>18111.728182</td>\n",
              "      <td>9.700002e+10</td>\n",
              "      <td>9.700002e+10</td>\n",
              "      <td>3.370127e+06</td>\n",
              "      <td>311448.259125</td>\n",
              "      <td>9.699665e+10</td>\n",
              "      <td>2.900000e+09</td>\n",
              "      <td>2.436000e+09</td>\n",
              "      <td>9.456400e+10</td>\n",
              "    </tr>\n",
              "    <tr>\n",
              "      <th>2</th>\n",
              "      <td>FB400</td>\n",
              "      <td>8.830000e+10</td>\n",
              "      <td>1.0</td>\n",
              "      <td>18111.728182</td>\n",
              "      <td>8.830002e+10</td>\n",
              "      <td>8.830002e+10</td>\n",
              "      <td>3.215442e+06</td>\n",
              "      <td>297153.189637</td>\n",
              "      <td>8.829680e+10</td>\n",
              "      <td>2.639000e+09</td>\n",
              "      <td>2.216760e+09</td>\n",
              "      <td>8.608324e+10</td>\n",
              "    </tr>\n",
              "    <tr>\n",
              "      <th>3</th>\n",
              "      <td>FB400</td>\n",
              "      <td>6.100000e+10</td>\n",
              "      <td>1.0</td>\n",
              "      <td>18111.728182</td>\n",
              "      <td>6.100002e+10</td>\n",
              "      <td>6.100002e+10</td>\n",
              "      <td>2.672547e+06</td>\n",
              "      <td>246981.817371</td>\n",
              "      <td>6.099735e+10</td>\n",
              "      <td>1.820000e+09</td>\n",
              "      <td>1.528800e+09</td>\n",
              "      <td>5.947120e+10</td>\n",
              "    </tr>\n",
              "    <tr>\n",
              "      <th>4</th>\n",
              "      <td>FB400</td>\n",
              "      <td>5.840000e+10</td>\n",
              "      <td>1.0</td>\n",
              "      <td>18111.728182</td>\n",
              "      <td>5.840002e+10</td>\n",
              "      <td>5.840002e+10</td>\n",
              "      <td>2.614971e+06</td>\n",
              "      <td>241660.956945</td>\n",
              "      <td>5.839740e+10</td>\n",
              "      <td>1.742000e+09</td>\n",
              "      <td>1.463280e+09</td>\n",
              "      <td>5.693672e+10</td>\n",
              "    </tr>\n",
              "  </tbody>\n",
              "</table>\n",
              "</div>"
            ],
            "text/plain": [
              "    data      networth  ...    warren_tax  networth_warren\n",
              "0  FB400  1.600000e+11  ...  4.023600e+09     1.559764e+11\n",
              "1  FB400  9.700000e+10  ...  2.436000e+09     9.456400e+10\n",
              "2  FB400  8.830000e+10  ...  2.216760e+09     8.608324e+10\n",
              "3  FB400  6.100000e+10  ...  1.528800e+09     5.947120e+10\n",
              "4  FB400  5.840000e+10  ...  1.463280e+09     5.693672e+10\n",
              "\n",
              "[5 rows x 12 columns]"
            ]
          },
          "metadata": {
            "tags": []
          },
          "execution_count": 44
        }
      ]
    },
    {
      "cell_type": "markdown",
      "metadata": {
        "id": "hqff2FD-hI_M",
        "colab_type": "text"
      },
      "source": [
        "#### Sanders (TODO)\n",
        "\n",
        ">Sanders wants to levy a 1 percent tax on wealth above \\$32 million, for married couples, and then slowly increase the tax for wealthier households: a 2 percent for wealth between \\$50 to \\$250 million; 3 percent for wealth from \\$250 to $500 million; 4 percent from \\$500 million to \\$1 billion, 5 percent from \\$1 to \\$2.5 billion, 6 percent from \\$2.5 to \\$5 billion, 7 percent from \\$5 to \\$10 billion, and 8 percent on wealth over \\$10 billion. Same thing goes for super-rich single people, except the wealth thresholds are cut in half. In other words, an unmarried person with \\$16.5 million in wealth would pay a \\$5,000 tax, as would a married couple with \\$32.5 million in net worth.\n",
        "\n",
        "https://www.vox.com/policy-and-politics/2019/9/24/20880941/bernie-sanders-wealth-tax-warren-2020"
      ]
    },
    {
      "cell_type": "markdown",
      "metadata": {
        "id": "tmsXhKp3hKA9",
        "colab_type": "text"
      },
      "source": [
        "## Analysis\n",
        "\n",
        "### Gini"
      ]
    },
    {
      "cell_type": "code",
      "metadata": {
        "id": "dLXH8GsKhcQh",
        "colab_type": "code",
        "colab": {
          "base_uri": "https://localhost:8080/",
          "height": 34
        },
        "outputId": "36dbed81-c48a-4b6f-c8a5-9093dd8dcfbe"
      },
      "source": [
        "gini_base = mdf.gini(wealth.networth, wealth.weight)\n",
        "gini_base"
      ],
      "execution_count": 79,
      "outputs": [
        {
          "output_type": "execute_result",
          "data": {
            "text/plain": [
              "0.8709291953761705"
            ]
          },
          "metadata": {
            "tags": []
          },
          "execution_count": 79
        }
      ]
    },
    {
      "cell_type": "code",
      "metadata": {
        "id": "ZUyYaD0ghDLK",
        "colab_type": "code",
        "colab": {
          "base_uri": "https://localhost:8080/",
          "height": 34
        },
        "outputId": "804036f7-bf08-4d0c-813f-5bd457900dff"
      },
      "source": [
        "gini_warren = mdf.gini(wealth.networth_warren, wealth.weight)\n",
        "gini_warren"
      ],
      "execution_count": 80,
      "outputs": [
        {
          "output_type": "execute_result",
          "data": {
            "text/plain": [
              "0.8706327269354551"
            ]
          },
          "metadata": {
            "tags": []
          },
          "execution_count": 80
        }
      ]
    },
    {
      "cell_type": "code",
      "metadata": {
        "id": "SaHi_XJMeFSf",
        "colab_type": "code",
        "colab": {
          "base_uri": "https://localhost:8080/",
          "height": 34
        },
        "outputId": "c99b3e0b-aefc-4ac8-ef6c-f6d8d1a16f4e"
      },
      "source": [
        "gini_ubi = mdf.gini(wealth.networth_ubi, wealth.weight)\n",
        "gini_ubi"
      ],
      "execution_count": 81,
      "outputs": [
        {
          "output_type": "execute_result",
          "data": {
            "text/plain": [
              "0.8453790740253787"
            ]
          },
          "metadata": {
            "tags": []
          },
          "execution_count": 81
        }
      ]
    },
    {
      "cell_type": "code",
      "metadata": {
        "id": "bfqH6_PYpVrx",
        "colab_type": "code",
        "colab": {
          "base_uri": "https://localhost:8080/",
          "height": 34
        },
        "outputId": "3fc9512a-f75b-43d0-ddf2-0e01db0fe151"
      },
      "source": [
        "gini_yang = mdf.gini(wealth.networth_yang, wealth.weight)\n",
        "gini_yang"
      ],
      "execution_count": 82,
      "outputs": [
        {
          "output_type": "execute_result",
          "data": {
            "text/plain": [
              "0.8549984076859986"
            ]
          },
          "metadata": {
            "tags": []
          },
          "execution_count": 82
        }
      ]
    },
    {
      "cell_type": "code",
      "metadata": {
        "id": "-UNG9BsMhewo",
        "colab_type": "code",
        "colab": {
          "base_uri": "https://localhost:8080/",
          "height": 34
        },
        "outputId": "f37a7414-ac70-4304-ba65-c7ea7c710df3"
      },
      "source": [
        "gini_warren_chg = gini_base - gini_warren\n",
        "gini_warren_chg"
      ],
      "execution_count": 83,
      "outputs": [
        {
          "output_type": "execute_result",
          "data": {
            "text/plain": [
              "0.0002964684407154028"
            ]
          },
          "metadata": {
            "tags": []
          },
          "execution_count": 83
        }
      ]
    },
    {
      "cell_type": "code",
      "metadata": {
        "id": "TCLVaNT8hw65",
        "colab_type": "code",
        "colab": {
          "base_uri": "https://localhost:8080/",
          "height": 34
        },
        "outputId": "c89386e3-2997-4b04-db0d-a31b718cb40c"
      },
      "source": [
        "gini_ubi_chg = gini_base - gini_ubi\n",
        "gini_ubi_chg"
      ],
      "execution_count": 84,
      "outputs": [
        {
          "output_type": "execute_result",
          "data": {
            "text/plain": [
              "0.02555012135079182"
            ]
          },
          "metadata": {
            "tags": []
          },
          "execution_count": 84
        }
      ]
    },
    {
      "cell_type": "code",
      "metadata": {
        "id": "iHT0TLYypbag",
        "colab_type": "code",
        "colab": {
          "base_uri": "https://localhost:8080/",
          "height": 34
        },
        "outputId": "9f7af99a-3dfd-475c-a81d-792a89ed3169"
      },
      "source": [
        "gini_yang_chg = gini_base - gini_yang\n",
        "gini_yang_chg"
      ],
      "execution_count": 85,
      "outputs": [
        {
          "output_type": "execute_result",
          "data": {
            "text/plain": [
              "0.015930787690171977"
            ]
          },
          "metadata": {
            "tags": []
          },
          "execution_count": 85
        }
      ]
    },
    {
      "cell_type": "markdown",
      "metadata": {
        "id": "n9QvavPyht6y",
        "colab_type": "text"
      },
      "source": [
        "How much more does the UBI move Gini compared to the Warren tax?"
      ]
    },
    {
      "cell_type": "code",
      "metadata": {
        "id": "7MS1Opn-hJC4",
        "colab_type": "code",
        "colab": {
          "base_uri": "https://localhost:8080/",
          "height": 34
        },
        "outputId": "6fefc16f-17d1-4718-9bf4-1df954647a82"
      },
      "source": [
        "gini_ubi_chg / gini_warren_chg"
      ],
      "execution_count": 86,
      "outputs": [
        {
          "output_type": "execute_result",
          "data": {
            "text/plain": [
              "86.18158914027163"
            ]
          },
          "metadata": {
            "tags": []
          },
          "execution_count": 86
        }
      ]
    },
    {
      "cell_type": "code",
      "metadata": {
        "id": "0nQX0qhFpfmp",
        "colab_type": "code",
        "colab": {
          "base_uri": "https://localhost:8080/",
          "height": 34
        },
        "outputId": "9d03fc07-e04b-4731-b6ac-4d1163d4c56f"
      },
      "source": [
        "gini_yang_chg / gini_warren_chg"
      ],
      "execution_count": 87,
      "outputs": [
        {
          "output_type": "execute_result",
          "data": {
            "text/plain": [
              "53.73518898581472"
            ]
          },
          "metadata": {
            "tags": []
          },
          "execution_count": 87
        }
      ]
    },
    {
      "cell_type": "markdown",
      "metadata": {
        "id": "U3hmIVnbOrWS",
        "colab_type": "text"
      },
      "source": [
        "### Share of wealth held by top 1%"
      ]
    },
    {
      "cell_type": "code",
      "metadata": {
        "id": "w822Fm1MOxZ4",
        "colab_type": "code",
        "colab": {}
      },
      "source": [
        "mdf.add_weighted_quantiles(wealth, 'networth', 'weight')\n",
        "mdf.add_weighted_quantiles(wealth, 'networth_warren', 'weight')\n",
        "mdf.add_weighted_quantiles(wealth, 'networth_ubi', 'weight')\n",
        "mdf.add_weighted_quantiles(wealth, 'networth_yang', 'weight')"
      ],
      "execution_count": 0,
      "outputs": []
    },
    {
      "cell_type": "code",
      "metadata": {
        "id": "5Wu8M8EPPA65",
        "colab_type": "code",
        "colab": {}
      },
      "source": [
        "def top_1pct_share(df, percentile_col, wealth_col, weight_col):\n",
        "    top_1pct_sum = (df[df[percentile_col] > 99][wealth_col] *\n",
        "                    df[df[percentile_col] > 99][weight_col]).sum()\n",
        "    total_sum = mdf.weighted_sum(df, wealth_col, weight_col)\n",
        "    return top_1pct_sum / total_sum"
      ],
      "execution_count": 0,
      "outputs": []
    },
    {
      "cell_type": "code",
      "metadata": {
        "id": "0p7DYQamPBoM",
        "colab_type": "code",
        "colab": {
          "base_uri": "https://localhost:8080/",
          "height": 34
        },
        "outputId": "c20b35ac-c176-442e-a1ac-a9bb948feb54"
      },
      "source": [
        "top_1pct_share_base = top_1pct_share(\n",
        "    wealth, 'networth_percentile_exact', 'networth', 'weight')\n",
        "top_1pct_share_base"
      ],
      "execution_count": 90,
      "outputs": [
        {
          "output_type": "execute_result",
          "data": {
            "text/plain": [
              "0.4175010487580551"
            ]
          },
          "metadata": {
            "tags": []
          },
          "execution_count": 90
        }
      ]
    },
    {
      "cell_type": "code",
      "metadata": {
        "id": "KsJgAf-BQIRm",
        "colab_type": "code",
        "colab": {
          "base_uri": "https://localhost:8080/",
          "height": 34
        },
        "outputId": "8fa1e83c-dc21-469f-ecdf-3f811e31cca1"
      },
      "source": [
        "top_1pct_share_warren = top_1pct_share(\n",
        "    wealth, 'networth_warren_percentile_exact', 'networth_warren', 'weight')\n",
        "top_1pct_share_warren"
      ],
      "execution_count": 91,
      "outputs": [
        {
          "output_type": "execute_result",
          "data": {
            "text/plain": [
              "0.4161617636383938"
            ]
          },
          "metadata": {
            "tags": []
          },
          "execution_count": 91
        }
      ]
    },
    {
      "cell_type": "code",
      "metadata": {
        "id": "xtx_xm4uQL1C",
        "colab_type": "code",
        "colab": {
          "base_uri": "https://localhost:8080/",
          "height": 34
        },
        "outputId": "a914d487-b2ec-4d14-daa0-c62244d6842b"
      },
      "source": [
        "top_1pct_share_ubi = top_1pct_share(\n",
        "    wealth, 'networth_ubi_percentile_exact', 'networth_ubi', 'weight')\n",
        "top_1pct_share_ubi"
      ],
      "execution_count": 92,
      "outputs": [
        {
          "output_type": "execute_result",
          "data": {
            "text/plain": [
              "0.405546756215726"
            ]
          },
          "metadata": {
            "tags": []
          },
          "execution_count": 92
        }
      ]
    },
    {
      "cell_type": "code",
      "metadata": {
        "id": "3QrBwfgfpsfZ",
        "colab_type": "code",
        "colab": {
          "base_uri": "https://localhost:8080/",
          "height": 34
        },
        "outputId": "e3ff764a-81cc-4163-ea93-cb42029f7728"
      },
      "source": [
        "top_1pct_share_yang = top_1pct_share(\n",
        "    wealth, 'networth_yang_percentile_exact', 'networth_yang', 'weight')\n",
        "top_1pct_share_yang"
      ],
      "execution_count": 93,
      "outputs": [
        {
          "output_type": "execute_result",
          "data": {
            "text/plain": [
              "0.4150682309994321"
            ]
          },
          "metadata": {
            "tags": []
          },
          "execution_count": 93
        }
      ]
    },
    {
      "cell_type": "code",
      "metadata": {
        "id": "0zx1GgoHQlmZ",
        "colab_type": "code",
        "colab": {
          "base_uri": "https://localhost:8080/",
          "height": 34
        },
        "outputId": "345ab1ee-3fdc-4ef1-ce02-8f6354c14ed9"
      },
      "source": [
        "top_1pct_share_warren_chg = top_1pct_share_warren - top_1pct_share_base\n",
        "top_1pct_share_warren_chg"
      ],
      "execution_count": 94,
      "outputs": [
        {
          "output_type": "execute_result",
          "data": {
            "text/plain": [
              "-0.0013392851196613043"
            ]
          },
          "metadata": {
            "tags": []
          },
          "execution_count": 94
        }
      ]
    },
    {
      "cell_type": "code",
      "metadata": {
        "id": "A7lUPfklRf4s",
        "colab_type": "code",
        "colab": {
          "base_uri": "https://localhost:8080/",
          "height": 34
        },
        "outputId": "fed4bfa8-eb65-4321-b556-a86e91b5f5b7"
      },
      "source": [
        "top_1pct_share_ubi_chg = top_1pct_share_ubi - top_1pct_share_base\n",
        "top_1pct_share_ubi_chg"
      ],
      "execution_count": 95,
      "outputs": [
        {
          "output_type": "execute_result",
          "data": {
            "text/plain": [
              "-0.011954292542329104"
            ]
          },
          "metadata": {
            "tags": []
          },
          "execution_count": 95
        }
      ]
    },
    {
      "cell_type": "code",
      "metadata": {
        "id": "0XX9OreUpw1O",
        "colab_type": "code",
        "colab": {
          "base_uri": "https://localhost:8080/",
          "height": 34
        },
        "outputId": "7e8f0eea-927f-44c2-a6bb-d9ac6499cf6e"
      },
      "source": [
        "top_1pct_share_yang_chg = top_1pct_share_yang - top_1pct_share_base\n",
        "top_1pct_share_yang_chg"
      ],
      "execution_count": 96,
      "outputs": [
        {
          "output_type": "execute_result",
          "data": {
            "text/plain": [
              "-0.0024328177586230293"
            ]
          },
          "metadata": {
            "tags": []
          },
          "execution_count": 96
        }
      ]
    },
    {
      "cell_type": "code",
      "metadata": {
        "id": "m0_gp0Y3Qtet",
        "colab_type": "code",
        "colab": {
          "base_uri": "https://localhost:8080/",
          "height": 34
        },
        "outputId": "c98c3c35-6799-4800-897d-785977fcb3e7"
      },
      "source": [
        "top_1pct_share_ubi_chg / top_1pct_share_warren_chg"
      ],
      "execution_count": 97,
      "outputs": [
        {
          "output_type": "execute_result",
          "data": {
            "text/plain": [
              "8.925875727904943"
            ]
          },
          "metadata": {
            "tags": []
          },
          "execution_count": 97
        }
      ]
    },
    {
      "cell_type": "code",
      "metadata": {
        "id": "W4q84mqbpzwh",
        "colab_type": "code",
        "colab": {
          "base_uri": "https://localhost:8080/",
          "height": 34
        },
        "outputId": "27cb066d-b144-4707-bcdd-9882b8051959"
      },
      "source": [
        "top_1pct_share_yang_chg / top_1pct_share_warren_chg"
      ],
      "execution_count": 98,
      "outputs": [
        {
          "output_type": "execute_result",
          "data": {
            "text/plain": [
              "1.8165047329416097"
            ]
          },
          "metadata": {
            "tags": []
          },
          "execution_count": 98
        }
      ]
    },
    {
      "cell_type": "markdown",
      "metadata": {
        "id": "EOthGMfIp2bN",
        "colab_type": "text"
      },
      "source": [
        "### Share of net worth owned by current billionaires"
      ]
    },
    {
      "cell_type": "code",
      "metadata": {
        "id": "svXx33-Cp5lx",
        "colab_type": "code",
        "colab": {}
      },
      "source": [
        "def share_nw_billionaires(nw_col):\n",
        "    total_nw_current_billionaires = wealth[wealth.networth > 1e9][nw_col].sum()\n",
        "    total_nw = wealth[nw_col].sum()\n",
        "    return total_nw_current_billionaires / total_nw"
      ],
      "execution_count": 0,
      "outputs": []
    },
    {
      "cell_type": "code",
      "metadata": {
        "id": "nsy6Q8nwqQD_",
        "colab_type": "code",
        "colab": {
          "base_uri": "https://localhost:8080/",
          "height": 34
        },
        "outputId": "b80ac95a-887e-47a1-9173-bb5934dcf181"
      },
      "source": [
        "share_nw_billionaires('networth')"
      ],
      "execution_count": 100,
      "outputs": [
        {
          "output_type": "execute_result",
          "data": {
            "text/plain": [
              "0.8044084055676892"
            ]
          },
          "metadata": {
            "tags": []
          },
          "execution_count": 100
        }
      ]
    },
    {
      "cell_type": "code",
      "metadata": {
        "id": "0_zfxlC1qTcc",
        "colab_type": "code",
        "colab": {
          "base_uri": "https://localhost:8080/",
          "height": 34
        },
        "outputId": "58660108-e7cb-43e5-b404-b034c08cc2d8"
      },
      "source": [
        "share_nw_billionaires('networth_warren')"
      ],
      "execution_count": 101,
      "outputs": [
        {
          "output_type": "execute_result",
          "data": {
            "text/plain": [
              "0.8017979413736426"
            ]
          },
          "metadata": {
            "tags": []
          },
          "execution_count": 101
        }
      ]
    },
    {
      "cell_type": "code",
      "metadata": {
        "id": "kp67lxkXqaYM",
        "colab_type": "code",
        "colab": {
          "base_uri": "https://localhost:8080/",
          "height": 34
        },
        "outputId": "440242de-2747-46e8-ee55-500ae2503725"
      },
      "source": [
        "share_nw_billionaires('networth_yang')"
      ],
      "execution_count": 102,
      "outputs": [
        {
          "output_type": "execute_result",
          "data": {
            "text/plain": [
              "0.8050089818100814"
            ]
          },
          "metadata": {
            "tags": []
          },
          "execution_count": 102
        }
      ]
    },
    {
      "cell_type": "code",
      "metadata": {
        "id": "9PCOr0heqdU2",
        "colab_type": "code",
        "colab": {
          "base_uri": "https://localhost:8080/",
          "height": 34
        },
        "outputId": "1ba233d8-4d68-4eab-9b83-db6b5c0c270c"
      },
      "source": [
        "share_nw_billionaires('networth_ubi')"
      ],
      "execution_count": 103,
      "outputs": [
        {
          "output_type": "execute_result",
          "data": {
            "text/plain": [
              "0.8041398927616111"
            ]
          },
          "metadata": {
            "tags": []
          },
          "execution_count": 103
        }
      ]
    }
  ]
}
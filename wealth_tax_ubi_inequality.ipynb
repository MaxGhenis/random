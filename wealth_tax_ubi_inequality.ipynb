{
  "nbformat": 4,
  "nbformat_minor": 0,
  "metadata": {
    "colab": {
      "name": "wealth_tax_ubi_inequality.ipynb",
      "provenance": [],
      "include_colab_link": true
    },
    "kernelspec": {
      "name": "python3",
      "display_name": "Python 3"
    }
  },
  "cells": [
    {
      "cell_type": "markdown",
      "metadata": {
        "id": "view-in-github",
        "colab_type": "text"
      },
      "source": [
        "<a href=\"https://colab.research.google.com/github/MaxGhenis/random/blob/master/wealth_tax_ubi_inequality.ipynb\" target=\"_parent\"><img src=\"https://colab.research.google.com/assets/colab-badge.svg\" alt=\"Open In Colab\"/></a>"
      ]
    },
    {
      "cell_type": "markdown",
      "metadata": {
        "id": "s8E1yENObg_f",
        "colab_type": "text"
      },
      "source": [
        "# Effects of wealth tax and UBI on wealth inequality\n",
        "\n",
        "Compare a wealth tax to a UBI on wealth inequality.\n",
        "\n",
        "## Setup"
      ]
    },
    {
      "cell_type": "markdown",
      "metadata": {
        "id": "Bh3VCTRXcTyL",
        "colab_type": "text"
      },
      "source": [
        "TODO: Figure out how to make microdf work without installing labellines and taxcalc (optional)."
      ]
    },
    {
      "cell_type": "code",
      "metadata": {
        "id": "ScKeNya-Y7_1",
        "colab_type": "code",
        "colab": {}
      },
      "source": [
        "!pip install matplotlib-label-lines\n",
        "!pip install git+git://github.com/maxghenis/microdf.git\n",
        "!pip install git+git://github.com/PSLmodels/Tax-Calculator.git"
      ],
      "execution_count": 0,
      "outputs": []
    },
    {
      "cell_type": "code",
      "metadata": {
        "id": "Os_DIXr-cVrO",
        "colab_type": "code",
        "colab": {}
      },
      "source": [
        "import pandas as pd\n",
        "import numpy as np\n",
        "import microdf as mdf"
      ],
      "execution_count": 0,
      "outputs": []
    },
    {
      "cell_type": "markdown",
      "metadata": {
        "id": "dZQrV2nmdk6u",
        "colab_type": "text"
      },
      "source": [
        "## Load data\n",
        "\n",
        "From Saez/Zucman wealth tax calculator: https://github.com/BITSS/opa-wealthtax"
      ]
    },
    {
      "cell_type": "code",
      "metadata": {
        "id": "fAcINzfEbupb",
        "colab_type": "code",
        "colab": {}
      },
      "source": [
        "wealth = pd.read_stata('https://github.com/BITSS/opa-wealthtax/blob/master/analysis_data/wealth.dta?raw=true')"
      ],
      "execution_count": 0,
      "outputs": []
    },
    {
      "cell_type": "markdown",
      "metadata": {
        "id": "QXhA8Y4zhBhH",
        "colab_type": "text"
      },
      "source": [
        "## Preprocess\n",
        "\n",
        "### UBI\n",
        "\n",
        "Andrew Yang's Freedom Dividend of $1,000 per month for each adult citizen.\n",
        "\n",
        "Other features like tax revenue and benefit clawback would require fusing with CPS data, so these are not modeled here."
      ]
    },
    {
      "cell_type": "markdown",
      "metadata": {
        "id": "CwMBHwRGdviV",
        "colab_type": "text"
      },
      "source": [
        "From https://www.census.gov/quickfacts/fact/table/US/PST045218 and https://www.kff.org/other/state-indicator/distribution-by-citizenship-status."
      ]
    },
    {
      "cell_type": "code",
      "metadata": {
        "id": "pyrJYER-ddCK",
        "colab_type": "code",
        "colab": {}
      },
      "source": [
        "ADULT_POP = 327_167_434 * (1 - 0.224)\n",
        "PCT_CITIZENS = 0.93\n",
        "citizen_adults_per_family = PCT_CITIZENS * ADULT_POP / wealth.weight.sum()\n",
        "UBI_PER_ADULT_CITIZEN = 12000\n",
        "ubi_per_family = UBI_PER_ADULT_CITIZEN * citizen_adults_per_family"
      ],
      "execution_count": 0,
      "outputs": []
    },
    {
      "cell_type": "code",
      "metadata": {
        "id": "e3sqspTRcW6e",
        "colab_type": "code",
        "colab": {}
      },
      "source": [
        "wealth['yang_ubi'] = ubi_per_family\n",
        "wealth['networth_ubi'] = wealth.networth + wealth.yang_ubi"
      ],
      "execution_count": 0,
      "outputs": []
    },
    {
      "cell_type": "markdown",
      "metadata": {
        "id": "j1FtVudFhf4M",
        "colab_type": "text"
      },
      "source": [
        "Total impact ($B)"
      ]
    },
    {
      "cell_type": "code",
      "metadata": {
        "id": "_MVT64SVhV6d",
        "colab_type": "code",
        "colab": {
          "base_uri": "https://localhost:8080/",
          "height": 34
        },
        "outputId": "23756342-70f9-48cf-a4c2-37ae1a8d63a7"
      },
      "source": [
        "(mdf.weighted_sum(wealth, 'networth_ubi', 'weight') - \n",
        " mdf.weighted_sum(wealth, 'networth', 'weight')).sum() / 1e9"
      ],
      "execution_count": 6,
      "outputs": [
        {
          "output_type": "execute_result",
          "data": {
            "text/plain": [
              "2833.3223252294374"
            ]
          },
          "metadata": {
            "tags": []
          },
          "execution_count": 6
        }
      ]
    },
    {
      "cell_type": "markdown",
      "metadata": {
        "id": "FBLy8Yo2hGtk",
        "colab_type": "text"
      },
      "source": [
        "### Wealth tax\n",
        "\n",
        "16% avoidance/evasion rate per Saez and Zucman: http://wealthtaxsimulator.org/analysis/"
      ]
    },
    {
      "cell_type": "code",
      "metadata": {
        "id": "bDMrFJr3iq5n",
        "colab_type": "code",
        "colab": {}
      },
      "source": [
        "PCT_AVOID_EVADE = 0.16"
      ],
      "execution_count": 0,
      "outputs": []
    },
    {
      "cell_type": "code",
      "metadata": {
        "id": "qTGmHfLil7uI",
        "colab_type": "code",
        "colab": {}
      },
      "source": [
        "from bisect import bisect\n",
        "\n",
        "def tax(income, rates, brackets, base_tax):\n",
        "    i = bisect(brackets, income)\n",
        "    if not i:\n",
        "        return 0\n",
        "    rate = rates[i]\n",
        "    bracket = brackets[i-1]\n",
        "    income_in_bracket = income - bracket\n",
        "    tax_in_bracket = income_in_bracket * rate\n",
        "    total_tax = base_tax[i-1] + tax_in_bracket\n",
        "    return total_tax"
      ],
      "execution_count": 0,
      "outputs": []
    },
    {
      "cell_type": "code",
      "metadata": {
        "id": "QeuIVWK4nyKj",
        "colab_type": "code",
        "colab": {}
      },
      "source": [
        "def tax_multiple(incomes, **kwargs):\n",
        "    return [tax(income, **kwargs) for income in incomes]"
      ],
      "execution_count": 0,
      "outputs": []
    },
    {
      "cell_type": "markdown",
      "metadata": {
        "id": "OmCZPcUKiov3",
        "colab_type": "text"
      },
      "source": [
        "#### Warren\n",
        "\n",
        "2% above \\$50 million, 3% above \\$1 billion, per http://wealthtaxsimulator.org/analysis/\n",
        "\n"
      ]
    },
    {
      "cell_type": "code",
      "metadata": {
        "id": "a5T2VGahu9_v",
        "colab_type": "code",
        "colab": {}
      },
      "source": [
        "WARREN_RATES = [0, 0.02, 0.03]   # 0%, 2%, 3%.\n",
        "\n",
        "WARREN_BRACKETS = [50e6,  # First $50 million.\n",
        "                   1e9]   # Over $1 billion.\n",
        "\n",
        "WARREN_BASE_TAX = [0,     # $50,000,000 * 0%\n",
        "                   20e6]  # $1,000,000,000 * 2%"
      ],
      "execution_count": 0,
      "outputs": []
    },
    {
      "cell_type": "code",
      "metadata": {
        "id": "gdCt3RQEMAud",
        "colab_type": "code",
        "colab": {}
      },
      "source": [
        "def warren_tax_multiple(incomes):\n",
        "    return tax_multiple(incomes, rates=WARREN_RATES, brackets=WARREN_BRACKETS,\n",
        "                        base_tax=WARREN_BASE_TAX)"
      ],
      "execution_count": 0,
      "outputs": []
    },
    {
      "cell_type": "markdown",
      "metadata": {
        "id": "LZ4rgRRrMLCo",
        "colab_type": "text"
      },
      "source": [
        "Test a couple values."
      ]
    },
    {
      "cell_type": "code",
      "metadata": {
        "id": "rmSqBadlMNMY",
        "colab_type": "code",
        "colab": {
          "base_uri": "https://localhost:8080/",
          "height": 34
        },
        "outputId": "8cba7f8f-1b8c-4575-8cf9-e46c9656eaa6"
      },
      "source": [
        "warren_tax_multiple([-1e6,    # Expected: 0\n",
        "                     0,       # Expected: 0\n",
        "                     1e6,     # Expected: 0\n",
        "                     50e6,    # Expected: 0\n",
        "                     50e6+1,  # Expected: 0.02\n",
        "                     100e6,   # Expected: 2% * (100e6 - 50e6) = 2% * 50e6 = 1e6\n",
        "                     1e9,     # Expected: 20,000,000\n",
        "                     1e9+1,   # Expected: 20,000,000.03\n",
        "                     10e9     # Expected: 20e6 + 3% * (10e9 - 1e9) = \n",
        "                              #           20e6 + 270e6 = 290e6\n",
        "                     ])"
      ],
      "execution_count": 12,
      "outputs": [
        {
          "output_type": "execute_result",
          "data": {
            "text/plain": [
              "[0, 0, 0, 0.0, 0.02, 1000000.0, 20000000.0, 20000000.03, 290000000.0]"
            ]
          },
          "metadata": {
            "tags": []
          },
          "execution_count": 12
        }
      ]
    },
    {
      "cell_type": "code",
      "metadata": {
        "id": "kwDNQPRauTJA",
        "colab_type": "code",
        "colab": {}
      },
      "source": [
        "wealth['warren_theoretical_tax'] = tax_multiple(\n",
        "    wealth.networth, rates=WARREN_RATES, brackets=WARREN_BRACKETS,\n",
        "    base_tax=WARREN_BASE_TAX)"
      ],
      "execution_count": 0,
      "outputs": []
    },
    {
      "cell_type": "code",
      "metadata": {
        "id": "_uykhjtJuiGM",
        "colab_type": "code",
        "colab": {}
      },
      "source": [
        "wealth['warren_tax'] = wealth.warren_theoretical_tax * (1 - PCT_AVOID_EVADE)"
      ],
      "execution_count": 0,
      "outputs": []
    },
    {
      "cell_type": "code",
      "metadata": {
        "id": "ZpWZpEBOuse7",
        "colab_type": "code",
        "colab": {}
      },
      "source": [
        "wealth['networth_warren'] = wealth.networth - wealth.warren_tax"
      ],
      "execution_count": 0,
      "outputs": []
    },
    {
      "cell_type": "markdown",
      "metadata": {
        "id": "vdbXEJOahiKN",
        "colab_type": "text"
      },
      "source": [
        "Total impact ($B)\n",
        "\n",
        "This differs from the $199 billion estimated for 2019 in http://wealthtaxsimulator.org/analysis/ - is this because this is 2016? Would expect it to be higher in 2019 than 2016."
      ]
    },
    {
      "cell_type": "code",
      "metadata": {
        "id": "-EouYFhnvYC-",
        "colab_type": "code",
        "colab": {
          "base_uri": "https://localhost:8080/",
          "height": 34
        },
        "outputId": "fc15d951-6d2b-4eb0-ea52-04b4094796fb"
      },
      "source": [
        "(mdf.weighted_sum(wealth, 'networth_warren', 'weight') - \n",
        " mdf.weighted_sum(wealth, 'networth', 'weight')).sum() / 1e9"
      ],
      "execution_count": 16,
      "outputs": [
        {
          "output_type": "execute_result",
          "data": {
            "text/plain": [
              "-215.04780760723438"
            ]
          },
          "metadata": {
            "tags": []
          },
          "execution_count": 16
        }
      ]
    },
    {
      "cell_type": "code",
      "metadata": {
        "id": "lz9F53ugwcYk",
        "colab_type": "code",
        "colab": {
          "base_uri": "https://localhost:8080/",
          "height": 204
        },
        "outputId": "502bb5d7-8130-4fb0-d341-6510477d74e7"
      },
      "source": [
        "wealth.head()"
      ],
      "execution_count": 17,
      "outputs": [
        {
          "output_type": "execute_result",
          "data": {
            "text/html": [
              "<div>\n",
              "<style scoped>\n",
              "    .dataframe tbody tr th:only-of-type {\n",
              "        vertical-align: middle;\n",
              "    }\n",
              "\n",
              "    .dataframe tbody tr th {\n",
              "        vertical-align: top;\n",
              "    }\n",
              "\n",
              "    .dataframe thead th {\n",
              "        text-align: right;\n",
              "    }\n",
              "</style>\n",
              "<table border=\"1\" class=\"dataframe\">\n",
              "  <thead>\n",
              "    <tr style=\"text-align: right;\">\n",
              "      <th></th>\n",
              "      <th>data</th>\n",
              "      <th>networth</th>\n",
              "      <th>weight</th>\n",
              "      <th>yang_ubi</th>\n",
              "      <th>networth_ubi</th>\n",
              "      <th>warren_theoretical_tax</th>\n",
              "      <th>warren_tax</th>\n",
              "      <th>networth_warren</th>\n",
              "    </tr>\n",
              "  </thead>\n",
              "  <tbody>\n",
              "    <tr>\n",
              "      <th>0</th>\n",
              "      <td>FB400</td>\n",
              "      <td>1.600000e+11</td>\n",
              "      <td>1.0</td>\n",
              "      <td>18111.728182</td>\n",
              "      <td>1.600000e+11</td>\n",
              "      <td>4.790000e+09</td>\n",
              "      <td>4.023600e+09</td>\n",
              "      <td>1.559764e+11</td>\n",
              "    </tr>\n",
              "    <tr>\n",
              "      <th>1</th>\n",
              "      <td>FB400</td>\n",
              "      <td>9.700000e+10</td>\n",
              "      <td>1.0</td>\n",
              "      <td>18111.728182</td>\n",
              "      <td>9.700002e+10</td>\n",
              "      <td>2.900000e+09</td>\n",
              "      <td>2.436000e+09</td>\n",
              "      <td>9.456400e+10</td>\n",
              "    </tr>\n",
              "    <tr>\n",
              "      <th>2</th>\n",
              "      <td>FB400</td>\n",
              "      <td>8.830000e+10</td>\n",
              "      <td>1.0</td>\n",
              "      <td>18111.728182</td>\n",
              "      <td>8.830002e+10</td>\n",
              "      <td>2.639000e+09</td>\n",
              "      <td>2.216760e+09</td>\n",
              "      <td>8.608324e+10</td>\n",
              "    </tr>\n",
              "    <tr>\n",
              "      <th>3</th>\n",
              "      <td>FB400</td>\n",
              "      <td>6.100000e+10</td>\n",
              "      <td>1.0</td>\n",
              "      <td>18111.728182</td>\n",
              "      <td>6.100002e+10</td>\n",
              "      <td>1.820000e+09</td>\n",
              "      <td>1.528800e+09</td>\n",
              "      <td>5.947120e+10</td>\n",
              "    </tr>\n",
              "    <tr>\n",
              "      <th>4</th>\n",
              "      <td>FB400</td>\n",
              "      <td>5.840000e+10</td>\n",
              "      <td>1.0</td>\n",
              "      <td>18111.728182</td>\n",
              "      <td>5.840002e+10</td>\n",
              "      <td>1.742000e+09</td>\n",
              "      <td>1.463280e+09</td>\n",
              "      <td>5.693672e+10</td>\n",
              "    </tr>\n",
              "  </tbody>\n",
              "</table>\n",
              "</div>"
            ],
            "text/plain": [
              "    data      networth  ...    warren_tax  networth_warren\n",
              "0  FB400  1.600000e+11  ...  4.023600e+09     1.559764e+11\n",
              "1  FB400  9.700000e+10  ...  2.436000e+09     9.456400e+10\n",
              "2  FB400  8.830000e+10  ...  2.216760e+09     8.608324e+10\n",
              "3  FB400  6.100000e+10  ...  1.528800e+09     5.947120e+10\n",
              "4  FB400  5.840000e+10  ...  1.463280e+09     5.693672e+10\n",
              "\n",
              "[5 rows x 8 columns]"
            ]
          },
          "metadata": {
            "tags": []
          },
          "execution_count": 17
        }
      ]
    },
    {
      "cell_type": "markdown",
      "metadata": {
        "id": "hqff2FD-hI_M",
        "colab_type": "text"
      },
      "source": [
        "#### Sanders (TODO)\n",
        "\n",
        ">Sanders wants to levy a 1 percent tax on wealth above \\$32 million, for married couples, and then slowly increase the tax for wealthier households: a 2 percent for wealth between \\$50 to \\$250 million; 3 percent for wealth from \\$250 to $500 million; 4 percent from \\$500 million to \\$1 billion, 5 percent from \\$1 to \\$2.5 billion, 6 percent from \\$2.5 to \\$5 billion, 7 percent from \\$5 to \\$10 billion, and 8 percent on wealth over \\$10 billion. Same thing goes for super-rich single people, except the wealth thresholds are cut in half. In other words, an unmarried person with \\$16.5 million in wealth would pay a \\$5,000 tax, as would a married couple with \\$32.5 million in net worth.\n",
        "\n",
        "https://www.vox.com/policy-and-politics/2019/9/24/20880941/bernie-sanders-wealth-tax-warren-2020"
      ]
    },
    {
      "cell_type": "markdown",
      "metadata": {
        "id": "tmsXhKp3hKA9",
        "colab_type": "text"
      },
      "source": [
        "## Analysis\n",
        "\n",
        "### Gini"
      ]
    },
    {
      "cell_type": "code",
      "metadata": {
        "id": "dLXH8GsKhcQh",
        "colab_type": "code",
        "colab": {
          "base_uri": "https://localhost:8080/",
          "height": 34
        },
        "outputId": "b85315b8-1a9f-471f-f96a-8e6b08d1364d"
      },
      "source": [
        "gini_base = mdf.gini(wealth.networth, wealth.weight)\n",
        "gini_base"
      ],
      "execution_count": 18,
      "outputs": [
        {
          "output_type": "execute_result",
          "data": {
            "text/plain": [
              "0.87092919537617"
            ]
          },
          "metadata": {
            "tags": []
          },
          "execution_count": 18
        }
      ]
    },
    {
      "cell_type": "code",
      "metadata": {
        "id": "ZUyYaD0ghDLK",
        "colab_type": "code",
        "colab": {
          "base_uri": "https://localhost:8080/",
          "height": 34
        },
        "outputId": "1cf331c7-fcb1-49e4-b443-6f2e2385f1d8"
      },
      "source": [
        "gini_warren = mdf.gini(wealth.networth_warren, wealth.weight)\n",
        "gini_warren"
      ],
      "execution_count": 19,
      "outputs": [
        {
          "output_type": "execute_result",
          "data": {
            "text/plain": [
              "0.8706327269354546"
            ]
          },
          "metadata": {
            "tags": []
          },
          "execution_count": 19
        }
      ]
    },
    {
      "cell_type": "code",
      "metadata": {
        "id": "SaHi_XJMeFSf",
        "colab_type": "code",
        "colab": {
          "base_uri": "https://localhost:8080/",
          "height": 34
        },
        "outputId": "931d6020-cfa6-4cb3-b079-34e3f9a32bb5"
      },
      "source": [
        "gini_ubi = mdf.gini(wealth.networth_ubi, wealth.weight)\n",
        "gini_ubi"
      ],
      "execution_count": 20,
      "outputs": [
        {
          "output_type": "execute_result",
          "data": {
            "text/plain": [
              "0.8453790740253787"
            ]
          },
          "metadata": {
            "tags": []
          },
          "execution_count": 20
        }
      ]
    },
    {
      "cell_type": "code",
      "metadata": {
        "id": "-UNG9BsMhewo",
        "colab_type": "code",
        "colab": {
          "base_uri": "https://localhost:8080/",
          "height": 34
        },
        "outputId": "164a7623-54cb-4231-c375-48fea20acb5b"
      },
      "source": [
        "gini_warren_chg = gini_base - gini_warren\n",
        "gini_warren_chg"
      ],
      "execution_count": 21,
      "outputs": [
        {
          "output_type": "execute_result",
          "data": {
            "text/plain": [
              "0.0002964684407154028"
            ]
          },
          "metadata": {
            "tags": []
          },
          "execution_count": 21
        }
      ]
    },
    {
      "cell_type": "code",
      "metadata": {
        "id": "TCLVaNT8hw65",
        "colab_type": "code",
        "colab": {
          "base_uri": "https://localhost:8080/",
          "height": 34
        },
        "outputId": "cd369e53-36c1-4dd5-8435-85d8fbe5b8da"
      },
      "source": [
        "gini_ubi_chg = gini_base - gini_ubi\n",
        "gini_ubi_chg"
      ],
      "execution_count": 22,
      "outputs": [
        {
          "output_type": "execute_result",
          "data": {
            "text/plain": [
              "0.025550121350791266"
            ]
          },
          "metadata": {
            "tags": []
          },
          "execution_count": 22
        }
      ]
    },
    {
      "cell_type": "markdown",
      "metadata": {
        "id": "n9QvavPyht6y",
        "colab_type": "text"
      },
      "source": [
        "How much more does the UBI move Gini compared to the Warren tax?"
      ]
    },
    {
      "cell_type": "code",
      "metadata": {
        "id": "7MS1Opn-hJC4",
        "colab_type": "code",
        "colab": {
          "base_uri": "https://localhost:8080/",
          "height": 34
        },
        "outputId": "edbd96cb-b2d7-4481-d1af-3b2e91a5f2c4"
      },
      "source": [
        "gini_ubi_chg / gini_warren_chg"
      ],
      "execution_count": 23,
      "outputs": [
        {
          "output_type": "execute_result",
          "data": {
            "text/plain": [
              "86.18158914026976"
            ]
          },
          "metadata": {
            "tags": []
          },
          "execution_count": 23
        }
      ]
    },
    {
      "cell_type": "markdown",
      "metadata": {
        "id": "U3hmIVnbOrWS",
        "colab_type": "text"
      },
      "source": [
        "### Share of wealth held by top 1%"
      ]
    },
    {
      "cell_type": "code",
      "metadata": {
        "id": "w822Fm1MOxZ4",
        "colab_type": "code",
        "colab": {}
      },
      "source": [
        "mdf.add_weighted_quantiles(wealth, 'networth', 'weight')\n",
        "mdf.add_weighted_quantiles(wealth, 'networth_warren', 'weight')\n",
        "mdf.add_weighted_quantiles(wealth, 'networth_ubi', 'weight')"
      ],
      "execution_count": 0,
      "outputs": []
    },
    {
      "cell_type": "code",
      "metadata": {
        "id": "5Wu8M8EPPA65",
        "colab_type": "code",
        "colab": {}
      },
      "source": [
        "def top_1pct_share(df, percentile_col, wealth_col, weight_col):\n",
        "    top_1pct_sum = (df[df[percentile_col] > 99][wealth_col] *\n",
        "                    df[df[percentile_col] > 99][weight_col]).sum()\n",
        "    total_sum = mdf.weighted_sum(df, wealth_col, weight_col)\n",
        "    return top_1pct_sum / total_sum"
      ],
      "execution_count": 0,
      "outputs": []
    },
    {
      "cell_type": "code",
      "metadata": {
        "id": "0p7DYQamPBoM",
        "colab_type": "code",
        "colab": {
          "base_uri": "https://localhost:8080/",
          "height": 34
        },
        "outputId": "cc35d187-102f-4c6a-eea4-dc60bac497fd"
      },
      "source": [
        "top_1pct_share_base = top_1pct_share(\n",
        "    wealth, 'networth_percentile_exact', 'networth', 'weight')\n",
        "top_1pct_share_base"
      ],
      "execution_count": 26,
      "outputs": [
        {
          "output_type": "execute_result",
          "data": {
            "text/plain": [
              "0.4175010487580551"
            ]
          },
          "metadata": {
            "tags": []
          },
          "execution_count": 26
        }
      ]
    },
    {
      "cell_type": "code",
      "metadata": {
        "id": "KsJgAf-BQIRm",
        "colab_type": "code",
        "colab": {
          "base_uri": "https://localhost:8080/",
          "height": 34
        },
        "outputId": "cb8d0441-c486-4f86-e190-b98534a83d11"
      },
      "source": [
        "top_1pct_share_warren = top_1pct_share(\n",
        "    wealth, 'networth_warren_percentile_exact', 'networth_warren', 'weight')\n",
        "top_1pct_share_warren"
      ],
      "execution_count": 27,
      "outputs": [
        {
          "output_type": "execute_result",
          "data": {
            "text/plain": [
              "0.4161617636383938"
            ]
          },
          "metadata": {
            "tags": []
          },
          "execution_count": 27
        }
      ]
    },
    {
      "cell_type": "code",
      "metadata": {
        "id": "xtx_xm4uQL1C",
        "colab_type": "code",
        "colab": {
          "base_uri": "https://localhost:8080/",
          "height": 34
        },
        "outputId": "d7c4bcdc-4736-4864-981c-46fd8fe6af2b"
      },
      "source": [
        "top_1pct_share_ubi = top_1pct_share(\n",
        "    wealth, 'networth_ubi_percentile_exact', 'networth_ubi', 'weight')\n",
        "top_1pct_share_ubi"
      ],
      "execution_count": 28,
      "outputs": [
        {
          "output_type": "execute_result",
          "data": {
            "text/plain": [
              "0.40554675621572595"
            ]
          },
          "metadata": {
            "tags": []
          },
          "execution_count": 28
        }
      ]
    },
    {
      "cell_type": "code",
      "metadata": {
        "id": "0zx1GgoHQlmZ",
        "colab_type": "code",
        "colab": {
          "base_uri": "https://localhost:8080/",
          "height": 34
        },
        "outputId": "5992fbc5-8372-4a35-debd-71dcb557dc1e"
      },
      "source": [
        "top_1pct_share_warren_chg = top_1pct_share_warren - top_1pct_share_base\n",
        "top_1pct_share_warren_chg"
      ],
      "execution_count": 29,
      "outputs": [
        {
          "output_type": "execute_result",
          "data": {
            "text/plain": [
              "-0.0013392851196613043"
            ]
          },
          "metadata": {
            "tags": []
          },
          "execution_count": 29
        }
      ]
    },
    {
      "cell_type": "code",
      "metadata": {
        "id": "A7lUPfklRf4s",
        "colab_type": "code",
        "colab": {
          "base_uri": "https://localhost:8080/",
          "height": 34
        },
        "outputId": "b4a00bb9-5226-48c7-b5d2-ef4076362418"
      },
      "source": [
        "top_1pct_share_ubi_chg = top_1pct_share_ubi - top_1pct_share_base\n",
        "top_1pct_share_ubi_chg"
      ],
      "execution_count": 30,
      "outputs": [
        {
          "output_type": "execute_result",
          "data": {
            "text/plain": [
              "-0.011954292542329159"
            ]
          },
          "metadata": {
            "tags": []
          },
          "execution_count": 30
        }
      ]
    },
    {
      "cell_type": "code",
      "metadata": {
        "id": "m0_gp0Y3Qtet",
        "colab_type": "code",
        "colab": {
          "base_uri": "https://localhost:8080/",
          "height": 34
        },
        "outputId": "d29eaaaa-bc36-47c5-b1cf-991ef06f9457"
      },
      "source": [
        "top_1pct_share_ubi_chg / top_1pct_share_warren_chg"
      ],
      "execution_count": 31,
      "outputs": [
        {
          "output_type": "execute_result",
          "data": {
            "text/plain": [
              "8.925875727904986"
            ]
          },
          "metadata": {
            "tags": []
          },
          "execution_count": 31
        }
      ]
    }
  ]
}
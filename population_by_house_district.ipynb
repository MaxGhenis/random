{
  "nbformat": 4,
  "nbformat_minor": 0,
  "metadata": {
    "colab": {
      "name": "population_by_house_district.ipynb",
      "version": "0.3.2",
      "provenance": [],
      "include_colab_link": true
    },
    "kernelspec": {
      "name": "python3",
      "display_name": "Python 3"
    }
  },
  "cells": [
    {
      "cell_type": "markdown",
      "metadata": {
        "id": "view-in-github",
        "colab_type": "text"
      },
      "source": [
        "<a href=\"https://colab.research.google.com/github/MaxGhenis/random/blob/master/population_by_house_district.ipynb\" target=\"_parent\"><img src=\"https://colab.research.google.com/assets/colab-badge.svg\" alt=\"Open In Colab\"/></a>"
      ]
    },
    {
      "cell_type": "markdown",
      "metadata": {
        "id": "muVZdYGv_acU",
        "colab_type": "text"
      },
      "source": [
        "# Population by U.S. House district"
      ]
    },
    {
      "cell_type": "code",
      "metadata": {
        "id": "wRjt0oD1AG4G",
        "colab_type": "code",
        "colab": {
          "base_uri": "https://localhost:8080/",
          "height": 199
        },
        "outputId": "3c614a8d-111a-49b2-a698-57a999793fe9"
      },
      "source": [
        "!pip install census\n",
        "!pip install us"
      ],
      "execution_count": 1,
      "outputs": [
        {
          "output_type": "stream",
          "text": [
            "Requirement already satisfied: census in /usr/local/lib/python3.6/dist-packages (0.8.13)\n",
            "Requirement already satisfied: future in /usr/local/lib/python3.6/dist-packages (from census) (0.16.0)\n",
            "Requirement already satisfied: requests>=1.1.0 in /usr/local/lib/python3.6/dist-packages (from census) (2.21.0)\n",
            "Requirement already satisfied: certifi>=2017.4.17 in /usr/local/lib/python3.6/dist-packages (from requests>=1.1.0->census) (2019.6.16)\n",
            "Requirement already satisfied: idna<2.9,>=2.5 in /usr/local/lib/python3.6/dist-packages (from requests>=1.1.0->census) (2.8)\n",
            "Requirement already satisfied: chardet<3.1.0,>=3.0.2 in /usr/local/lib/python3.6/dist-packages (from requests>=1.1.0->census) (3.0.4)\n",
            "Requirement already satisfied: urllib3<1.25,>=1.21.1 in /usr/local/lib/python3.6/dist-packages (from requests>=1.1.0->census) (1.24.3)\n",
            "Requirement already satisfied: us in /usr/local/lib/python3.6/dist-packages (1.0.0)\n",
            "Requirement already satisfied: jellyfish==0.5.6 in /usr/local/lib/python3.6/dist-packages (from us) (0.5.6)\n"
          ],
          "name": "stdout"
        }
      ]
    },
    {
      "cell_type": "code",
      "metadata": {
        "id": "76Dmdz6B_gE6",
        "colab_type": "code",
        "colab": {}
      },
      "source": [
        "from census import Census\n",
        "from us import states\n",
        "import pandas as pd"
      ],
      "execution_count": 0,
      "outputs": []
    },
    {
      "cell_type": "code",
      "metadata": {
        "id": "2PDPcO60AEqp",
        "colab_type": "code",
        "colab": {}
      },
      "source": [
        "c = Census(\"d6ae38c07a1b52d139c729945d7c88ea266806b1\")"
      ],
      "execution_count": 0,
      "outputs": []
    },
    {
      "cell_type": "code",
      "metadata": {
        "id": "QP24XvUpFIqE",
        "colab_type": "code",
        "colab": {}
      },
      "source": [
        "res = c.acs5.state_congressional_district('B01001_001E', Census.ALL, Census.ALL,\n",
        "                                          year=2017)"
      ],
      "execution_count": 0,
      "outputs": []
    },
    {
      "cell_type": "code",
      "metadata": {
        "id": "9HjWhGyZG8J2",
        "colab_type": "code",
        "colab": {}
      },
      "source": [
        "df = pd.DataFrame(res)"
      ],
      "execution_count": 0,
      "outputs": []
    },
    {
      "cell_type": "code",
      "metadata": {
        "id": "QjuldUg_HCek",
        "colab_type": "code",
        "colab": {}
      },
      "source": [
        "df['pop_2017'] = df.B01001_001E.astype('int')"
      ],
      "execution_count": 0,
      "outputs": []
    },
    {
      "cell_type": "code",
      "metadata": {
        "id": "xFYlXh4AHMuS",
        "colab_type": "code",
        "colab": {
          "base_uri": "https://localhost:8080/",
          "height": 35
        },
        "outputId": "29c06973-4219-4e84-8e41-883364903d4f"
      },
      "source": [
        "df.pop_2017.sum()"
      ],
      "execution_count": 7,
      "outputs": [
        {
          "output_type": "execute_result",
          "data": {
            "text/plain": [
              "324473370"
            ]
          },
          "metadata": {
            "tags": []
          },
          "execution_count": 7
        }
      ]
    },
    {
      "cell_type": "markdown",
      "metadata": {
        "id": "99StURV7HW0W",
        "colab_type": "text"
      },
      "source": [
        "Why two extra?"
      ]
    },
    {
      "cell_type": "code",
      "metadata": {
        "id": "xkGvuIT3HRJN",
        "colab_type": "code",
        "colab": {
          "base_uri": "https://localhost:8080/",
          "height": 35
        },
        "outputId": "651037a0-be07-40d8-c5d0-d938c537b3c6"
      },
      "source": [
        "df.shape"
      ],
      "execution_count": 8,
      "outputs": [
        {
          "output_type": "execute_result",
          "data": {
            "text/plain": [
              "(437, 4)"
            ]
          },
          "metadata": {
            "tags": []
          },
          "execution_count": 8
        }
      ]
    },
    {
      "cell_type": "code",
      "metadata": {
        "id": "aGtO6KH3Hhxc",
        "colab_type": "code",
        "colab": {}
      },
      "source": [
        "VT_POP_2017 = 624525"
      ],
      "execution_count": 0,
      "outputs": []
    },
    {
      "cell_type": "code",
      "metadata": {
        "id": "M0RwAV5uHWQE",
        "colab_type": "code",
        "colab": {
          "base_uri": "https://localhost:8080/",
          "height": 35
        },
        "outputId": "156817bc-d6a3-4494-f00a-5aadf7169e19"
      },
      "source": [
        "(df.pop_2017 < VT_POP_2017).sum()"
      ],
      "execution_count": 10,
      "outputs": [
        {
          "output_type": "execute_result",
          "data": {
            "text/plain": [
              "7"
            ]
          },
          "metadata": {
            "tags": []
          },
          "execution_count": 10
        }
      ]
    },
    {
      "cell_type": "code",
      "metadata": {
        "id": "4yM1xa74HoGc",
        "colab_type": "code",
        "colab": {
          "base_uri": "https://localhost:8080/",
          "height": 35
        },
        "outputId": "7c634ec2-ca8b-4a76-ec6f-91d14777f3de"
      },
      "source": [
        "(df.pop_2017 < VT_POP_2017).mean()"
      ],
      "execution_count": 11,
      "outputs": [
        {
          "output_type": "execute_result",
          "data": {
            "text/plain": [
              "0.016018306636155607"
            ]
          },
          "metadata": {
            "tags": []
          },
          "execution_count": 11
        }
      ]
    },
    {
      "cell_type": "code",
      "metadata": {
        "id": "8sftHY-rIOYu",
        "colab_type": "code",
        "colab": {}
      },
      "source": [
        "df['state_code'] = df.state.apply(lambda x: states.lookup(x).abbr)\n",
        "df['state_district'] = df.state_code + '-' + df['congressional district']\n",
        "df.set_index('state_district', inplace=True)"
      ],
      "execution_count": 0,
      "outputs": []
    },
    {
      "cell_type": "code",
      "metadata": {
        "id": "-PPQu-myHqeo",
        "colab_type": "code",
        "colab": {
          "base_uri": "https://localhost:8080/",
          "height": 179
        },
        "outputId": "e0889742-4f37-4d0e-fdd6-fb7bde2457b1"
      },
      "source": [
        "df[df.pop_2017 < VT_POP_2017].pop_2017"
      ],
      "execution_count": 13,
      "outputs": [
        {
          "output_type": "execute_result",
          "data": {
            "text/plain": [
              "state_district\n",
              "NE-03    605462\n",
              "RI-01    532360\n",
              "RI-02    523778\n",
              "WV-01    615449\n",
              "WV-02    623720\n",
              "WV-03    597674\n",
              "WY-00    583200\n",
              "Name: pop_2017, dtype: int64"
            ]
          },
          "metadata": {
            "tags": []
          },
          "execution_count": 13
        }
      ]
    }
  ]
}
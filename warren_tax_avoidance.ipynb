{
  "nbformat": 4,
  "nbformat_minor": 0,
  "metadata": {
    "colab": {
      "name": "warren_tax_avoidance.ipynb",
      "provenance": [],
      "include_colab_link": true
    },
    "kernelspec": {
      "name": "python3",
      "display_name": "Python 3"
    }
  },
  "cells": [
    {
      "cell_type": "markdown",
      "metadata": {
        "id": "view-in-github",
        "colab_type": "text"
      },
      "source": [
        "<a href=\"https://colab.research.google.com/github/MaxGhenis/random/blob/master/warren_tax_avoidance.ipynb\" target=\"_parent\"><img src=\"https://colab.research.google.com/assets/colab-badge.svg\" alt=\"Open In Colab\"/></a>"
      ]
    },
    {
      "cell_type": "markdown",
      "metadata": {
        "id": "s8E1yENObg_f",
        "colab_type": "text"
      },
      "source": [
        "# Tax avoidance in Warren and Sanders wealth taxes\n",
        "\n",
        "Compare the current 16% avoidance to an 8% per 1% elasticity.\n",
        "\n",
        "For example, model 24% avoidance for families with net worth over \\$1 billion who would have a 3% marginal wealth tax rate under the Warren plan, and up to 64% avoidance for families with over \\$10 billion net worth for Sanders plan.\n",
        "\n",
        "## Setup"
      ]
    },
    {
      "cell_type": "markdown",
      "metadata": {
        "id": "Bh3VCTRXcTyL",
        "colab_type": "text"
      },
      "source": [
        "TODO: Figure out how to make microdf work without installing labellines and taxcalc (optional)."
      ]
    },
    {
      "cell_type": "code",
      "metadata": {
        "id": "tGZupmlliqIm",
        "colab_type": "code",
        "colab": {}
      },
      "source": [
        "import sys"
      ],
      "execution_count": 0,
      "outputs": []
    },
    {
      "cell_type": "code",
      "metadata": {
        "id": "ScKeNya-Y7_1",
        "colab_type": "code",
        "colab": {}
      },
      "source": [
        "!pip install matplotlib-label-lines\n",
        "if 'microdf' not in sys.modules:\n",
        "    !pip install git+git://github.com/maxghenis/microdf.git\n",
        "if 'taxcalc' not in sys.modules:\n",
        "    !pip install git+git://github.com/PSLmodels/Tax-Calculator.git"
      ],
      "execution_count": 0,
      "outputs": []
    },
    {
      "cell_type": "code",
      "metadata": {
        "id": "Os_DIXr-cVrO",
        "colab_type": "code",
        "colab": {}
      },
      "source": [
        "import pandas as pd\n",
        "import numpy as np\n",
        "import microdf as mdf"
      ],
      "execution_count": 0,
      "outputs": []
    },
    {
      "cell_type": "markdown",
      "metadata": {
        "id": "dZQrV2nmdk6u",
        "colab_type": "text"
      },
      "source": [
        "## Load data\n",
        "\n",
        "From Saez/Zucman wealth tax calculator: https://github.com/BITSS/opa-wealthtax"
      ]
    },
    {
      "cell_type": "code",
      "metadata": {
        "id": "fAcINzfEbupb",
        "colab_type": "code",
        "colab": {}
      },
      "source": [
        "wealth = pd.read_stata('https://github.com/BITSS/opa-wealthtax/blob/master/analysis_data/wealth.dta?raw=true')"
      ],
      "execution_count": 0,
      "outputs": []
    },
    {
      "cell_type": "markdown",
      "metadata": {
        "id": "y0HZGtBFuC01",
        "colab_type": "text"
      },
      "source": [
        "## Descriptive analysis\n",
        "\n",
        "Total net worth"
      ]
    },
    {
      "cell_type": "code",
      "metadata": {
        "id": "_5pnuouDuF5l",
        "colab_type": "code",
        "outputId": "3749dc5f-2297-454e-e658-3d2934e11923",
        "colab": {
          "base_uri": "https://localhost:8080/",
          "height": 34
        }
      },
      "source": [
        "total_nw = mdf.weighted_sum(wealth, 'networth', 'weight')\n",
        "total_nw / 1e12"
      ],
      "execution_count": 5,
      "outputs": [
        {
          "output_type": "execute_result",
          "data": {
            "text/plain": [
              "93.74638072480977"
            ]
          },
          "metadata": {
            "tags": []
          },
          "execution_count": 5
        }
      ]
    },
    {
      "cell_type": "code",
      "metadata": {
        "id": "0kgXeff5uLMU",
        "colab_type": "code",
        "outputId": "5a44c1ba-840f-4d4c-dab1-f63d3496c19f",
        "colab": {
          "base_uri": "https://localhost:8080/",
          "height": 34
        }
      },
      "source": [
        "total_families = wealth.weight.sum()\n",
        "total_families / 1e6"
      ],
      "execution_count": 6,
      "outputs": [
        {
          "output_type": "execute_result",
          "data": {
            "text/plain": [
              "156.43578"
            ]
          },
          "metadata": {
            "tags": []
          },
          "execution_count": 6
        }
      ]
    },
    {
      "cell_type": "markdown",
      "metadata": {
        "id": "FBLy8Yo2hGtk",
        "colab_type": "text"
      },
      "source": [
        "### Warren wealth tax\n",
        "\n",
        "2% above \\$50 million, 3% above \\$1 billion.\n",
        "\n",
        "16% avoidance/evasion rate per Saez and Zucman, which is 2% * elasticity of 8: http://wealthtaxsimulator.org/analysis/"
      ]
    },
    {
      "cell_type": "code",
      "metadata": {
        "id": "bDMrFJr3iq5n",
        "colab_type": "code",
        "colab": {}
      },
      "source": [
        "AVOID_ELASTICITY = 8\n",
        "CONST_AVOID_RATE = 0.16  # Originally computed as 8 * 0.02."
      ],
      "execution_count": 0,
      "outputs": []
    },
    {
      "cell_type": "code",
      "metadata": {
        "id": "e_uzMGHncLHt",
        "colab_type": "code",
        "colab": {}
      },
      "source": [
        "def tax(val, brackets, rates):\n",
        "    # Args:\n",
        "    #     val: Value to assess tax on, e.g. wealth or income (list or Series).\n",
        "    #     brackets: Left side of each bracket (list or Series).\n",
        "    #     rates: Rate corresponding to each bracket.\n",
        "    df_tax = pd.DataFrame({'brackets': brackets, 'rates': rates})\n",
        "    df_tax['base_tax'] = df_tax.brackets.\\\n",
        "        sub(df_tax.brackets.shift(fill_value=0)).\\\n",
        "        mul(df_tax.rates.shift(fill_value=0)).cumsum()\n",
        "    rows = df_tax.brackets.searchsorted(val, side='right') - 1\n",
        "    income_bracket_df = df_tax.loc[rows].reset_index(drop=True)\n",
        "    return pd.Series(val).sub(income_bracket_df.brackets).\\\n",
        "        mul(income_bracket_df.rates).add(income_bracket_df.base_tax)"
      ],
      "execution_count": 0,
      "outputs": []
    },
    {
      "cell_type": "code",
      "metadata": {
        "id": "AF66Z14C96-B",
        "colab_type": "code",
        "colab": {}
      },
      "source": [
        "def mtr(val, brackets, rates):\n",
        "    # Args:\n",
        "    #     val: Value to assess tax on, e.g. wealth or income (list or Series).\n",
        "    #     brackets: Left side of each bracket (list or Series).\n",
        "    #     rates: Rate corresponding to each bracket.\n",
        "    df_tax = pd.DataFrame({'brackets': brackets, 'rates': rates})\n",
        "    df_tax['base_tax'] = df_tax.brackets.\\\n",
        "        sub(df_tax.brackets.shift(fill_value=0)).\\\n",
        "        mul(df_tax.rates.shift(fill_value=0)).cumsum()\n",
        "    rows = df_tax.brackets.searchsorted(val, side='right') - 1\n",
        "    income_bracket_df = df_tax.loc[rows].reset_index(drop=True)\n",
        "    return income_bracket_df.rates"
      ],
      "execution_count": 0,
      "outputs": []
    },
    {
      "cell_type": "code",
      "metadata": {
        "id": "a5T2VGahu9_v",
        "colab_type": "code",
        "colab": {}
      },
      "source": [
        "WARREN_RATES = [0, 0.02, 0.03]  # 0%, 2%, 3%.\n",
        "\n",
        "WARREN_BRACKETS = [0,\n",
        "                   50e6,  # First $50 million.\n",
        "                   1e9]   # Over $1 billion."
      ],
      "execution_count": 0,
      "outputs": []
    },
    {
      "cell_type": "code",
      "metadata": {
        "id": "gdCt3RQEMAud",
        "colab_type": "code",
        "colab": {}
      },
      "source": [
        "def warren_tax(incomes):\n",
        "    return tax(incomes, rates=WARREN_RATES, brackets=WARREN_BRACKETS)"
      ],
      "execution_count": 0,
      "outputs": []
    },
    {
      "cell_type": "code",
      "metadata": {
        "id": "FW9LYbDy-Dbu",
        "colab_type": "code",
        "colab": {}
      },
      "source": [
        "wealth['warren_mtr'] = mtr(np.maximum(wealth.networth, 0),\n",
        "                           WARREN_BRACKETS, WARREN_RATES)"
      ],
      "execution_count": 0,
      "outputs": []
    },
    {
      "cell_type": "markdown",
      "metadata": {
        "id": "RXUjb2n_yd3r",
        "colab_type": "text"
      },
      "source": [
        "### Current approach\n",
        "\n",
        "16% constant avoidance."
      ]
    },
    {
      "cell_type": "code",
      "metadata": {
        "id": "UAWYVNBmwcMK",
        "colab_type": "code",
        "colab": {}
      },
      "source": [
        "wealth['warren_tax_base'] = ((1 - CONST_AVOID_RATE) * \n",
        "                             np.maximum(wealth.networth, 0))"
      ],
      "execution_count": 0,
      "outputs": []
    },
    {
      "cell_type": "code",
      "metadata": {
        "id": "IkPSzpcZzvo_",
        "colab_type": "code",
        "colab": {}
      },
      "source": [
        "wealth['warren_tax'] = warren_tax(wealth.warren_tax_base)\n",
        "wealth['networth_warren'] = wealth.networth - wealth.warren_tax"
      ],
      "execution_count": 0,
      "outputs": []
    },
    {
      "cell_type": "code",
      "metadata": {
        "id": "Xo_tzCMGyhti",
        "colab_type": "code",
        "colab": {
          "base_uri": "https://localhost:8080/",
          "height": 34
        },
        "outputId": "ed670398-9d03-40ca-bdf3-01dbc9cce5aa"
      },
      "source": [
        "warren_revenue = (mdf.weighted_sum(wealth, 'networth', 'weight') - \n",
        "                  mdf.weighted_sum(wealth, 'networth_warren', 'weight')).sum()\n",
        "warren_revenue / 1e9"
      ],
      "execution_count": 15,
      "outputs": [
        {
          "output_type": "execute_result",
          "data": {
            "text/plain": [
              "199.15986065067187"
            ]
          },
          "metadata": {
            "tags": []
          },
          "execution_count": 15
        }
      ]
    },
    {
      "cell_type": "markdown",
      "metadata": {
        "id": "-6r7JOj3z2e6",
        "colab_type": "text"
      },
      "source": [
        "### Adjusted approach"
      ]
    },
    {
      "cell_type": "code",
      "metadata": {
        "id": "CyjFHf6kw7MJ",
        "colab_type": "code",
        "colab": {}
      },
      "source": [
        "wealth['warren_tax_base2'] = ((1 - AVOID_ELASTICITY * wealth.warren_mtr) * \n",
        "                              np.maximum(wealth.networth, 0))"
      ],
      "execution_count": 0,
      "outputs": []
    },
    {
      "cell_type": "code",
      "metadata": {
        "id": "kwDNQPRauTJA",
        "colab_type": "code",
        "colab": {}
      },
      "source": [
        "wealth['warren_tax2'] = warren_tax(wealth.warren_tax_base2)\n",
        "wealth['networth_warren2'] = wealth.networth - wealth.warren_tax2"
      ],
      "execution_count": 0,
      "outputs": []
    },
    {
      "cell_type": "code",
      "metadata": {
        "id": "ZpWZpEBOuse7",
        "colab_type": "code",
        "colab": {
          "base_uri": "https://localhost:8080/",
          "height": 34
        },
        "outputId": "feb464bf-38e2-47e4-f3c9-9e3d9830cc3f"
      },
      "source": [
        "warren_revenue2 = (mdf.weighted_sum(wealth, 'networth', 'weight') - \n",
        "                   mdf.weighted_sum(wealth, 'networth_warren2', 'weight')).sum()\n",
        "warren_revenue2 / 1e9"
      ],
      "execution_count": 18,
      "outputs": [
        {
          "output_type": "execute_result",
          "data": {
            "text/plain": [
              "189.69935268021874"
            ]
          },
          "metadata": {
            "tags": []
          },
          "execution_count": 18
        }
      ]
    },
    {
      "cell_type": "code",
      "metadata": {
        "id": "6pZ2-udw1o8G",
        "colab_type": "code",
        "colab": {
          "base_uri": "https://localhost:8080/",
          "height": 34
        },
        "outputId": "2e98b208-599a-496f-ae92-bb487fcd7104"
      },
      "source": [
        "warren_revenue2 / warren_revenue"
      ],
      "execution_count": 19,
      "outputs": [
        {
          "output_type": "execute_result",
          "data": {
            "text/plain": [
              "0.9524979183077109"
            ]
          },
          "metadata": {
            "tags": []
          },
          "execution_count": 19
        }
      ]
    },
    {
      "cell_type": "markdown",
      "metadata": {
        "id": "kxwIk5Ul1we4",
        "colab_type": "text"
      },
      "source": [
        "## Sanders wealth tax"
      ]
    },
    {
      "cell_type": "code",
      "metadata": {
        "id": "D0NRWY169WX_",
        "colab_type": "code",
        "colab": {}
      },
      "source": [
        "SANDERS_RATES =    [0, 0.01, 0.02,  0.03,  0.04, 0.05,  0.06, 0.07, 0.08]\n",
        "SANDERS_BRACKETS = [0, 32e6, 50e6, 250e6, 500e6,  1e9, 2.5e9,  5e9, 10e9]"
      ],
      "execution_count": 0,
      "outputs": []
    },
    {
      "cell_type": "code",
      "metadata": {
        "colab_type": "code",
        "id": "Ouz0sCTg-rKP",
        "colab": {}
      },
      "source": [
        "wealth['sanders_mtr'] = mtr(np.maximum(wealth.networth, 0),\n",
        "                            SANDERS_BRACKETS, SANDERS_RATES)"
      ],
      "execution_count": 0,
      "outputs": []
    },
    {
      "cell_type": "code",
      "metadata": {
        "id": "39cLeg9P_O-H",
        "colab_type": "code",
        "colab": {}
      },
      "source": [
        "def sanders_tax(incomes):\n",
        "    return tax(incomes, rates=SANDERS_RATES, brackets=SANDERS_BRACKETS)"
      ],
      "execution_count": 0,
      "outputs": []
    },
    {
      "cell_type": "markdown",
      "metadata": {
        "colab_type": "text",
        "id": "q6MG5xQz-rKi"
      },
      "source": [
        "### Current approach\n",
        "\n",
        "16% constant avoidance."
      ]
    },
    {
      "cell_type": "code",
      "metadata": {
        "colab_type": "code",
        "id": "C3AhGBop-rKm",
        "colab": {}
      },
      "source": [
        "wealth['sanders_tax_base'] = ((1 - CONST_AVOID_RATE) * \n",
        "                              np.maximum(wealth.networth, 0))"
      ],
      "execution_count": 0,
      "outputs": []
    },
    {
      "cell_type": "code",
      "metadata": {
        "colab_type": "code",
        "id": "QI6dxf9r-rKt",
        "colab": {}
      },
      "source": [
        "wealth['sanders_tax'] = sanders_tax(wealth.sanders_tax_base)\n",
        "wealth['networth_sanders'] = wealth.networth - wealth.sanders_tax"
      ],
      "execution_count": 0,
      "outputs": []
    },
    {
      "cell_type": "code",
      "metadata": {
        "colab_type": "code",
        "outputId": "84d30877-b08b-466c-eaff-415d0760739e",
        "id": "FMP-nm-e-rKy",
        "colab": {
          "base_uri": "https://localhost:8080/",
          "height": 34
        }
      },
      "source": [
        "sanders_revenue = (mdf.weighted_sum(wealth, 'networth', 'weight') - \n",
        "                   mdf.weighted_sum(wealth, 'networth_sanders', 'weight')).sum()\n",
        "sanders_revenue / 1e9"
      ],
      "execution_count": 25,
      "outputs": [
        {
          "output_type": "execute_result",
          "data": {
            "text/plain": [
              "324.3443422851719"
            ]
          },
          "metadata": {
            "tags": []
          },
          "execution_count": 25
        }
      ]
    },
    {
      "cell_type": "markdown",
      "metadata": {
        "colab_type": "text",
        "id": "Zi5TcyAM-rK6"
      },
      "source": [
        "### Adjusted approach"
      ]
    },
    {
      "cell_type": "code",
      "metadata": {
        "colab_type": "code",
        "id": "lYoFYSLL-rK7",
        "colab": {}
      },
      "source": [
        "wealth['sanders_tax_base2'] = ((1 - AVOID_ELASTICITY * wealth.sanders_mtr) *\n",
        "                               np.maximum(wealth.networth, 0))"
      ],
      "execution_count": 0,
      "outputs": []
    },
    {
      "cell_type": "code",
      "metadata": {
        "colab_type": "code",
        "id": "_cePO2YA-rLA",
        "colab": {}
      },
      "source": [
        "wealth['sanders_tax2'] = sanders_tax(wealth.sanders_tax_base2)\n",
        "wealth['networth_sanders2'] = wealth.networth - wealth.sanders_tax2"
      ],
      "execution_count": 0,
      "outputs": []
    },
    {
      "cell_type": "code",
      "metadata": {
        "colab_type": "code",
        "outputId": "3e1f973d-2118-4c24-e8aa-7a25afacfcfc",
        "id": "LqBxzSno-rLF",
        "colab": {
          "base_uri": "https://localhost:8080/",
          "height": 34
        }
      },
      "source": [
        "sanders_revenue2 = (mdf.weighted_sum(wealth, 'networth', 'weight') - \n",
        "                   mdf.weighted_sum(wealth, 'networth_sanders2', 'weight')).sum()\n",
        "sanders_revenue2 / 1e9"
      ],
      "execution_count": 28,
      "outputs": [
        {
          "output_type": "execute_result",
          "data": {
            "text/plain": [
              "215.8235250503125"
            ]
          },
          "metadata": {
            "tags": []
          },
          "execution_count": 28
        }
      ]
    },
    {
      "cell_type": "code",
      "metadata": {
        "colab_type": "code",
        "outputId": "589a48e3-d3ec-4185-cf9b-19ee83353be7",
        "id": "UclOcbP4-rLI",
        "colab": {
          "base_uri": "https://localhost:8080/",
          "height": 34
        }
      },
      "source": [
        "sanders_revenue2 / sanders_revenue"
      ],
      "execution_count": 29,
      "outputs": [
        {
          "output_type": "execute_result",
          "data": {
            "text/plain": [
              "0.6654147981423857"
            ]
          },
          "metadata": {
            "tags": []
          },
          "execution_count": 29
        }
      ]
    }
  ]
}
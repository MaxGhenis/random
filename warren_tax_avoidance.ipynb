{
  "nbformat": 4,
  "nbformat_minor": 0,
  "metadata": {
    "colab": {
      "name": "warren_tax_avoidance.ipynb",
      "provenance": [],
      "include_colab_link": true
    },
    "kernelspec": {
      "name": "python3",
      "display_name": "Python 3"
    }
  },
  "cells": [
    {
      "cell_type": "markdown",
      "metadata": {
        "id": "view-in-github",
        "colab_type": "text"
      },
      "source": [
        "<a href=\"https://colab.research.google.com/github/MaxGhenis/random/blob/master/warren_tax_avoidance.ipynb\" target=\"_parent\"><img src=\"https://colab.research.google.com/assets/colab-badge.svg\" alt=\"Open In Colab\"/></a>"
      ]
    },
    {
      "cell_type": "markdown",
      "metadata": {
        "id": "s8E1yENObg_f",
        "colab_type": "text"
      },
      "source": [
        "# Warren tax avoidance\n",
        "\n",
        "Compare the current 16% avoidance to an 8% per 1% elasticity, i.e. assume 24% avoidance for families with net worth over $1 billion who would have a 3% marginal wealth tax rate.\n",
        "\n",
        "## Setup"
      ]
    },
    {
      "cell_type": "markdown",
      "metadata": {
        "id": "Bh3VCTRXcTyL",
        "colab_type": "text"
      },
      "source": [
        "TODO: Figure out how to make microdf work without installing labellines and taxcalc (optional)."
      ]
    },
    {
      "cell_type": "code",
      "metadata": {
        "id": "tGZupmlliqIm",
        "colab_type": "code",
        "colab": {}
      },
      "source": [
        "import sys"
      ],
      "execution_count": 0,
      "outputs": []
    },
    {
      "cell_type": "code",
      "metadata": {
        "id": "ScKeNya-Y7_1",
        "colab_type": "code",
        "colab": {
          "base_uri": "https://localhost:8080/",
          "height": 1000
        },
        "outputId": "fae0ad27-bb0c-44de-8254-359d113e4d45"
      },
      "source": [
        "!pip install matplotlib-label-lines\n",
        "if 'microdf' not in sys.modules:\n",
        "    !pip install git+git://github.com/maxghenis/microdf.git\n",
        "if 'taxcalc' not in sys.modules:\n",
        "    !pip install git+git://github.com/PSLmodels/Tax-Calculator.git"
      ],
      "execution_count": 2,
      "outputs": [
        {
          "output_type": "stream",
          "text": [
            "Collecting matplotlib-label-lines\n",
            "  Downloading https://files.pythonhosted.org/packages/40/c5/2d130c4775a8d1b6777f54f3a40432a6bab971aea7a36916d1940f65fbc0/matplotlib_label_lines-0.3.6-py3-none-any.whl\n",
            "Requirement already satisfied: numpy in /usr/local/lib/python3.6/dist-packages (from matplotlib-label-lines) (1.16.5)\n",
            "Requirement already satisfied: matplotlib in /usr/local/lib/python3.6/dist-packages (from matplotlib-label-lines) (3.0.3)\n",
            "Requirement already satisfied: pyparsing!=2.0.4,!=2.1.2,!=2.1.6,>=2.0.1 in /usr/local/lib/python3.6/dist-packages (from matplotlib->matplotlib-label-lines) (2.4.2)\n",
            "Requirement already satisfied: kiwisolver>=1.0.1 in /usr/local/lib/python3.6/dist-packages (from matplotlib->matplotlib-label-lines) (1.1.0)\n",
            "Requirement already satisfied: cycler>=0.10 in /usr/local/lib/python3.6/dist-packages (from matplotlib->matplotlib-label-lines) (0.10.0)\n",
            "Requirement already satisfied: python-dateutil>=2.1 in /usr/local/lib/python3.6/dist-packages (from matplotlib->matplotlib-label-lines) (2.5.3)\n",
            "Requirement already satisfied: setuptools in /usr/local/lib/python3.6/dist-packages (from kiwisolver>=1.0.1->matplotlib->matplotlib-label-lines) (41.2.0)\n",
            "Requirement already satisfied: six in /usr/local/lib/python3.6/dist-packages (from cycler>=0.10->matplotlib->matplotlib-label-lines) (1.12.0)\n",
            "Installing collected packages: matplotlib-label-lines\n",
            "Successfully installed matplotlib-label-lines-0.3.6\n",
            "Collecting git+git://github.com/maxghenis/microdf.git\n",
            "  Cloning git://github.com/maxghenis/microdf.git to /tmp/pip-req-build-oj7cc1rv\n",
            "  Running command git clone -q git://github.com/maxghenis/microdf.git /tmp/pip-req-build-oj7cc1rv\n",
            "Requirement already satisfied: numpy in /usr/local/lib/python3.6/dist-packages (from microdf==0.1) (1.16.5)\n",
            "Requirement already satisfied: pandas in /usr/local/lib/python3.6/dist-packages (from microdf==0.1) (0.24.2)\n",
            "Requirement already satisfied: matplotlib in /usr/local/lib/python3.6/dist-packages (from microdf==0.1) (3.0.3)\n",
            "Requirement already satisfied: seaborn in /usr/local/lib/python3.6/dist-packages (from microdf==0.1) (0.9.0)\n",
            "Requirement already satisfied: python-dateutil>=2.5.0 in /usr/local/lib/python3.6/dist-packages (from pandas->microdf==0.1) (2.5.3)\n",
            "Requirement already satisfied: pytz>=2011k in /usr/local/lib/python3.6/dist-packages (from pandas->microdf==0.1) (2018.9)\n",
            "Requirement already satisfied: pyparsing!=2.0.4,!=2.1.2,!=2.1.6,>=2.0.1 in /usr/local/lib/python3.6/dist-packages (from matplotlib->microdf==0.1) (2.4.2)\n",
            "Requirement already satisfied: cycler>=0.10 in /usr/local/lib/python3.6/dist-packages (from matplotlib->microdf==0.1) (0.10.0)\n",
            "Requirement already satisfied: kiwisolver>=1.0.1 in /usr/local/lib/python3.6/dist-packages (from matplotlib->microdf==0.1) (1.1.0)\n",
            "Requirement already satisfied: scipy>=0.14.0 in /usr/local/lib/python3.6/dist-packages (from seaborn->microdf==0.1) (1.3.1)\n",
            "Requirement already satisfied: six>=1.5 in /usr/local/lib/python3.6/dist-packages (from python-dateutil>=2.5.0->pandas->microdf==0.1) (1.12.0)\n",
            "Requirement already satisfied: setuptools in /usr/local/lib/python3.6/dist-packages (from kiwisolver>=1.0.1->matplotlib->microdf==0.1) (41.2.0)\n",
            "Building wheels for collected packages: microdf\n",
            "  Building wheel for microdf (setup.py) ... \u001b[?25l\u001b[?25hdone\n",
            "  Created wheel for microdf: filename=microdf-0.1-cp36-none-any.whl size=13479 sha256=ff04e3f6b66950c3e264971fe8c72cd24b0f85d0885d7040d7d3160a1115210b\n",
            "  Stored in directory: /tmp/pip-ephem-wheel-cache-948fa7nw/wheels/d0/61/d3/083d3677aa1ee6b248d229cb6c4de037f9d61b595e9f06aed0\n",
            "Successfully built microdf\n",
            "Installing collected packages: microdf\n",
            "Successfully installed microdf-0.1\n",
            "Collecting git+git://github.com/PSLmodels/Tax-Calculator.git\n",
            "  Cloning git://github.com/PSLmodels/Tax-Calculator.git to /tmp/pip-req-build-3lrau328\n",
            "  Running command git clone -q git://github.com/PSLmodels/Tax-Calculator.git /tmp/pip-req-build-3lrau328\n",
            "Requirement already satisfied: numpy in /usr/local/lib/python3.6/dist-packages (from taxcalc==0.0.0) (1.16.5)\n",
            "Requirement already satisfied: pandas in /usr/local/lib/python3.6/dist-packages (from taxcalc==0.0.0) (0.24.2)\n",
            "Requirement already satisfied: bokeh in /usr/local/lib/python3.6/dist-packages (from taxcalc==0.0.0) (1.0.4)\n",
            "Requirement already satisfied: numba in /usr/local/lib/python3.6/dist-packages (from taxcalc==0.0.0) (0.40.1)\n",
            "Requirement already satisfied: pytz>=2011k in /usr/local/lib/python3.6/dist-packages (from pandas->taxcalc==0.0.0) (2018.9)\n",
            "Requirement already satisfied: python-dateutil>=2.5.0 in /usr/local/lib/python3.6/dist-packages (from pandas->taxcalc==0.0.0) (2.5.3)\n",
            "Requirement already satisfied: pillow>=4.0 in /usr/local/lib/python3.6/dist-packages (from bokeh->taxcalc==0.0.0) (4.3.0)\n",
            "Requirement already satisfied: packaging>=16.8 in /usr/local/lib/python3.6/dist-packages (from bokeh->taxcalc==0.0.0) (19.1)\n",
            "Requirement already satisfied: tornado>=4.3 in /usr/local/lib/python3.6/dist-packages (from bokeh->taxcalc==0.0.0) (4.5.3)\n",
            "Requirement already satisfied: Jinja2>=2.7 in /usr/local/lib/python3.6/dist-packages (from bokeh->taxcalc==0.0.0) (2.10.1)\n",
            "Requirement already satisfied: six>=1.5.2 in /usr/local/lib/python3.6/dist-packages (from bokeh->taxcalc==0.0.0) (1.12.0)\n",
            "Requirement already satisfied: PyYAML>=3.10 in /usr/local/lib/python3.6/dist-packages (from bokeh->taxcalc==0.0.0) (3.13)\n",
            "Requirement already satisfied: llvmlite>=0.25.0dev0 in /usr/local/lib/python3.6/dist-packages (from numba->taxcalc==0.0.0) (0.29.0)\n",
            "Requirement already satisfied: olefile in /usr/local/lib/python3.6/dist-packages (from pillow>=4.0->bokeh->taxcalc==0.0.0) (0.46)\n",
            "Requirement already satisfied: pyparsing>=2.0.2 in /usr/local/lib/python3.6/dist-packages (from packaging>=16.8->bokeh->taxcalc==0.0.0) (2.4.2)\n",
            "Requirement already satisfied: attrs in /usr/local/lib/python3.6/dist-packages (from packaging>=16.8->bokeh->taxcalc==0.0.0) (19.1.0)\n",
            "Requirement already satisfied: MarkupSafe>=0.23 in /usr/local/lib/python3.6/dist-packages (from Jinja2>=2.7->bokeh->taxcalc==0.0.0) (1.1.1)\n",
            "Building wheels for collected packages: taxcalc\n",
            "  Building wheel for taxcalc (setup.py) ... \u001b[?25l\u001b[?25hdone\n",
            "  Created wheel for taxcalc: filename=taxcalc-0.0.0-cp36-none-any.whl size=60617386 sha256=5bd13348ee6f97a140a877c24dd65dd6a222237b28ec64e78d0ff02e5e8b3ea7\n",
            "  Stored in directory: /tmp/pip-ephem-wheel-cache-e7h6pmin/wheels/5c/c7/c2/e2c40e13b9b3352b091aea6b0744eab7120e9094d070a7b289\n",
            "Successfully built taxcalc\n",
            "Installing collected packages: taxcalc\n",
            "Successfully installed taxcalc-0.0.0\n"
          ],
          "name": "stdout"
        }
      ]
    },
    {
      "cell_type": "code",
      "metadata": {
        "id": "Os_DIXr-cVrO",
        "colab_type": "code",
        "colab": {}
      },
      "source": [
        "import pandas as pd\n",
        "import numpy as np\n",
        "import microdf as mdf"
      ],
      "execution_count": 0,
      "outputs": []
    },
    {
      "cell_type": "markdown",
      "metadata": {
        "id": "dZQrV2nmdk6u",
        "colab_type": "text"
      },
      "source": [
        "## Load data\n",
        "\n",
        "From Saez/Zucman wealth tax calculator: https://github.com/BITSS/opa-wealthtax"
      ]
    },
    {
      "cell_type": "code",
      "metadata": {
        "id": "fAcINzfEbupb",
        "colab_type": "code",
        "colab": {}
      },
      "source": [
        "wealth = pd.read_stata('https://github.com/BITSS/opa-wealthtax/blob/master/analysis_data/wealth.dta?raw=true')"
      ],
      "execution_count": 0,
      "outputs": []
    },
    {
      "cell_type": "markdown",
      "metadata": {
        "id": "y0HZGtBFuC01",
        "colab_type": "text"
      },
      "source": [
        "## Descriptive analysis\n",
        "\n",
        "Total net worth"
      ]
    },
    {
      "cell_type": "code",
      "metadata": {
        "id": "_5pnuouDuF5l",
        "colab_type": "code",
        "outputId": "0e215619-cf45-4e29-ea5e-f276a7365dd9",
        "colab": {
          "base_uri": "https://localhost:8080/",
          "height": 34
        }
      },
      "source": [
        "total_nw = mdf.weighted_sum(wealth, 'networth', 'weight')\n",
        "total_nw / 1e12"
      ],
      "execution_count": 5,
      "outputs": [
        {
          "output_type": "execute_result",
          "data": {
            "text/plain": [
              "93.74638072480977"
            ]
          },
          "metadata": {
            "tags": []
          },
          "execution_count": 5
        }
      ]
    },
    {
      "cell_type": "code",
      "metadata": {
        "id": "0kgXeff5uLMU",
        "colab_type": "code",
        "outputId": "2c641fb6-3819-425b-89cf-a8617893c6e6",
        "colab": {
          "base_uri": "https://localhost:8080/",
          "height": 34
        }
      },
      "source": [
        "total_families = wealth.weight.sum()\n",
        "total_families / 1e6"
      ],
      "execution_count": 6,
      "outputs": [
        {
          "output_type": "execute_result",
          "data": {
            "text/plain": [
              "156.43578"
            ]
          },
          "metadata": {
            "tags": []
          },
          "execution_count": 6
        }
      ]
    },
    {
      "cell_type": "code",
      "metadata": {
        "id": "_MVT64SVhV6d",
        "colab_type": "code",
        "outputId": "384c2d64-63f7-4aa1-d917-6bb13fabb8c8",
        "colab": {
          "base_uri": "https://localhost:8080/",
          "height": 698
        }
      },
      "source": [
        "total_ubi = (mdf.weighted_sum(wealth, 'networth_ubi', 'weight') - \n",
        "             mdf.weighted_sum(wealth, 'networth', 'weight')).sum()\n",
        "total_ubi / 1e9"
      ],
      "execution_count": 7,
      "outputs": [
        {
          "output_type": "error",
          "ename": "KeyError",
          "evalue": "ignored",
          "traceback": [
            "\u001b[0;31m---------------------------------------------------------------------------\u001b[0m",
            "\u001b[0;31mKeyError\u001b[0m                                  Traceback (most recent call last)",
            "\u001b[0;32m/usr/local/lib/python3.6/dist-packages/pandas/core/indexes/base.py\u001b[0m in \u001b[0;36mget_loc\u001b[0;34m(self, key, method, tolerance)\u001b[0m\n\u001b[1;32m   2656\u001b[0m             \u001b[0;32mtry\u001b[0m\u001b[0;34m:\u001b[0m\u001b[0;34m\u001b[0m\u001b[0;34m\u001b[0m\u001b[0m\n\u001b[0;32m-> 2657\u001b[0;31m                 \u001b[0;32mreturn\u001b[0m \u001b[0mself\u001b[0m\u001b[0;34m.\u001b[0m\u001b[0m_engine\u001b[0m\u001b[0;34m.\u001b[0m\u001b[0mget_loc\u001b[0m\u001b[0;34m(\u001b[0m\u001b[0mkey\u001b[0m\u001b[0;34m)\u001b[0m\u001b[0;34m\u001b[0m\u001b[0;34m\u001b[0m\u001b[0m\n\u001b[0m\u001b[1;32m   2658\u001b[0m             \u001b[0;32mexcept\u001b[0m \u001b[0mKeyError\u001b[0m\u001b[0;34m:\u001b[0m\u001b[0;34m\u001b[0m\u001b[0;34m\u001b[0m\u001b[0m\n",
            "\u001b[0;32mpandas/_libs/index.pyx\u001b[0m in \u001b[0;36mpandas._libs.index.IndexEngine.get_loc\u001b[0;34m()\u001b[0m\n",
            "\u001b[0;32mpandas/_libs/index.pyx\u001b[0m in \u001b[0;36mpandas._libs.index.IndexEngine.get_loc\u001b[0;34m()\u001b[0m\n",
            "\u001b[0;32mpandas/_libs/hashtable_class_helper.pxi\u001b[0m in \u001b[0;36mpandas._libs.hashtable.PyObjectHashTable.get_item\u001b[0;34m()\u001b[0m\n",
            "\u001b[0;32mpandas/_libs/hashtable_class_helper.pxi\u001b[0m in \u001b[0;36mpandas._libs.hashtable.PyObjectHashTable.get_item\u001b[0;34m()\u001b[0m\n",
            "\u001b[0;31mKeyError\u001b[0m: 'networth_ubi'",
            "\nDuring handling of the above exception, another exception occurred:\n",
            "\u001b[0;31mKeyError\u001b[0m                                  Traceback (most recent call last)",
            "\u001b[0;32m<ipython-input-7-4ab8b1d2b19e>\u001b[0m in \u001b[0;36m<module>\u001b[0;34m()\u001b[0m\n\u001b[0;32m----> 1\u001b[0;31m total_ubi = (mdf.weighted_sum(wealth, 'networth_ubi', 'weight') - \n\u001b[0m\u001b[1;32m      2\u001b[0m              mdf.weighted_sum(wealth, 'networth', 'weight')).sum()\n\u001b[1;32m      3\u001b[0m \u001b[0mtotal_ubi\u001b[0m \u001b[0;34m/\u001b[0m \u001b[0;36m1e9\u001b[0m\u001b[0;34m\u001b[0m\u001b[0;34m\u001b[0m\u001b[0m\n",
            "\u001b[0;32m/usr/local/lib/python3.6/dist-packages/microdf/utils.py\u001b[0m in \u001b[0;36mweighted_sum\u001b[0;34m(df, col, w)\u001b[0m\n\u001b[1;32m     81\u001b[0m     \"\"\"\n\u001b[1;32m     82\u001b[0m \u001b[0;34m\u001b[0m\u001b[0m\n\u001b[0;32m---> 83\u001b[0;31m     \u001b[0;32mreturn\u001b[0m \u001b[0;34m(\u001b[0m\u001b[0mdf\u001b[0m\u001b[0;34m[\u001b[0m\u001b[0mcol\u001b[0m\u001b[0;34m]\u001b[0m \u001b[0;34m*\u001b[0m \u001b[0mdf\u001b[0m\u001b[0;34m[\u001b[0m\u001b[0mw\u001b[0m\u001b[0;34m]\u001b[0m\u001b[0;34m)\u001b[0m\u001b[0;34m.\u001b[0m\u001b[0msum\u001b[0m\u001b[0;34m(\u001b[0m\u001b[0;34m)\u001b[0m\u001b[0;34m\u001b[0m\u001b[0;34m\u001b[0m\u001b[0m\n\u001b[0m\u001b[1;32m     84\u001b[0m \u001b[0;34m\u001b[0m\u001b[0m\n\u001b[1;32m     85\u001b[0m \u001b[0;34m\u001b[0m\u001b[0m\n",
            "\u001b[0;32m/usr/local/lib/python3.6/dist-packages/pandas/core/frame.py\u001b[0m in \u001b[0;36m__getitem__\u001b[0;34m(self, key)\u001b[0m\n\u001b[1;32m   2925\u001b[0m             \u001b[0;32mif\u001b[0m \u001b[0mself\u001b[0m\u001b[0;34m.\u001b[0m\u001b[0mcolumns\u001b[0m\u001b[0;34m.\u001b[0m\u001b[0mnlevels\u001b[0m \u001b[0;34m>\u001b[0m \u001b[0;36m1\u001b[0m\u001b[0;34m:\u001b[0m\u001b[0;34m\u001b[0m\u001b[0;34m\u001b[0m\u001b[0m\n\u001b[1;32m   2926\u001b[0m                 \u001b[0;32mreturn\u001b[0m \u001b[0mself\u001b[0m\u001b[0;34m.\u001b[0m\u001b[0m_getitem_multilevel\u001b[0m\u001b[0;34m(\u001b[0m\u001b[0mkey\u001b[0m\u001b[0;34m)\u001b[0m\u001b[0;34m\u001b[0m\u001b[0;34m\u001b[0m\u001b[0m\n\u001b[0;32m-> 2927\u001b[0;31m             \u001b[0mindexer\u001b[0m \u001b[0;34m=\u001b[0m \u001b[0mself\u001b[0m\u001b[0;34m.\u001b[0m\u001b[0mcolumns\u001b[0m\u001b[0;34m.\u001b[0m\u001b[0mget_loc\u001b[0m\u001b[0;34m(\u001b[0m\u001b[0mkey\u001b[0m\u001b[0;34m)\u001b[0m\u001b[0;34m\u001b[0m\u001b[0;34m\u001b[0m\u001b[0m\n\u001b[0m\u001b[1;32m   2928\u001b[0m             \u001b[0;32mif\u001b[0m \u001b[0mis_integer\u001b[0m\u001b[0;34m(\u001b[0m\u001b[0mindexer\u001b[0m\u001b[0;34m)\u001b[0m\u001b[0;34m:\u001b[0m\u001b[0;34m\u001b[0m\u001b[0;34m\u001b[0m\u001b[0m\n\u001b[1;32m   2929\u001b[0m                 \u001b[0mindexer\u001b[0m \u001b[0;34m=\u001b[0m \u001b[0;34m[\u001b[0m\u001b[0mindexer\u001b[0m\u001b[0;34m]\u001b[0m\u001b[0;34m\u001b[0m\u001b[0;34m\u001b[0m\u001b[0m\n",
            "\u001b[0;32m/usr/local/lib/python3.6/dist-packages/pandas/core/indexes/base.py\u001b[0m in \u001b[0;36mget_loc\u001b[0;34m(self, key, method, tolerance)\u001b[0m\n\u001b[1;32m   2657\u001b[0m                 \u001b[0;32mreturn\u001b[0m \u001b[0mself\u001b[0m\u001b[0;34m.\u001b[0m\u001b[0m_engine\u001b[0m\u001b[0;34m.\u001b[0m\u001b[0mget_loc\u001b[0m\u001b[0;34m(\u001b[0m\u001b[0mkey\u001b[0m\u001b[0;34m)\u001b[0m\u001b[0;34m\u001b[0m\u001b[0;34m\u001b[0m\u001b[0m\n\u001b[1;32m   2658\u001b[0m             \u001b[0;32mexcept\u001b[0m \u001b[0mKeyError\u001b[0m\u001b[0;34m:\u001b[0m\u001b[0;34m\u001b[0m\u001b[0;34m\u001b[0m\u001b[0m\n\u001b[0;32m-> 2659\u001b[0;31m                 \u001b[0;32mreturn\u001b[0m \u001b[0mself\u001b[0m\u001b[0;34m.\u001b[0m\u001b[0m_engine\u001b[0m\u001b[0;34m.\u001b[0m\u001b[0mget_loc\u001b[0m\u001b[0;34m(\u001b[0m\u001b[0mself\u001b[0m\u001b[0;34m.\u001b[0m\u001b[0m_maybe_cast_indexer\u001b[0m\u001b[0;34m(\u001b[0m\u001b[0mkey\u001b[0m\u001b[0;34m)\u001b[0m\u001b[0;34m)\u001b[0m\u001b[0;34m\u001b[0m\u001b[0;34m\u001b[0m\u001b[0m\n\u001b[0m\u001b[1;32m   2660\u001b[0m         \u001b[0mindexer\u001b[0m \u001b[0;34m=\u001b[0m \u001b[0mself\u001b[0m\u001b[0;34m.\u001b[0m\u001b[0mget_indexer\u001b[0m\u001b[0;34m(\u001b[0m\u001b[0;34m[\u001b[0m\u001b[0mkey\u001b[0m\u001b[0;34m]\u001b[0m\u001b[0;34m,\u001b[0m \u001b[0mmethod\u001b[0m\u001b[0;34m=\u001b[0m\u001b[0mmethod\u001b[0m\u001b[0;34m,\u001b[0m \u001b[0mtolerance\u001b[0m\u001b[0;34m=\u001b[0m\u001b[0mtolerance\u001b[0m\u001b[0;34m)\u001b[0m\u001b[0;34m\u001b[0m\u001b[0;34m\u001b[0m\u001b[0m\n\u001b[1;32m   2661\u001b[0m         \u001b[0;32mif\u001b[0m \u001b[0mindexer\u001b[0m\u001b[0;34m.\u001b[0m\u001b[0mndim\u001b[0m \u001b[0;34m>\u001b[0m \u001b[0;36m1\u001b[0m \u001b[0;32mor\u001b[0m \u001b[0mindexer\u001b[0m\u001b[0;34m.\u001b[0m\u001b[0msize\u001b[0m \u001b[0;34m>\u001b[0m \u001b[0;36m1\u001b[0m\u001b[0;34m:\u001b[0m\u001b[0;34m\u001b[0m\u001b[0;34m\u001b[0m\u001b[0m\n",
            "\u001b[0;32mpandas/_libs/index.pyx\u001b[0m in \u001b[0;36mpandas._libs.index.IndexEngine.get_loc\u001b[0;34m()\u001b[0m\n",
            "\u001b[0;32mpandas/_libs/index.pyx\u001b[0m in \u001b[0;36mpandas._libs.index.IndexEngine.get_loc\u001b[0;34m()\u001b[0m\n",
            "\u001b[0;32mpandas/_libs/hashtable_class_helper.pxi\u001b[0m in \u001b[0;36mpandas._libs.hashtable.PyObjectHashTable.get_item\u001b[0;34m()\u001b[0m\n",
            "\u001b[0;32mpandas/_libs/hashtable_class_helper.pxi\u001b[0m in \u001b[0;36mpandas._libs.hashtable.PyObjectHashTable.get_item\u001b[0;34m()\u001b[0m\n",
            "\u001b[0;31mKeyError\u001b[0m: 'networth_ubi'"
          ]
        }
      ]
    },
    {
      "cell_type": "markdown",
      "metadata": {
        "id": "FBLy8Yo2hGtk",
        "colab_type": "text"
      },
      "source": [
        "### Warren wealth tax\n",
        "\n",
        "2% above \\$50 million, 3% above \\$1 billion.\n",
        "\n",
        "16% avoidance/evasion rate per Saez and Zucman, which is 2% * elasticity of 8: http://wealthtaxsimulator.org/analysis/"
      ]
    },
    {
      "cell_type": "code",
      "metadata": {
        "id": "bDMrFJr3iq5n",
        "colab_type": "code",
        "colab": {}
      },
      "source": [
        "AVOID_ELASTICITY = 8"
      ],
      "execution_count": 0,
      "outputs": []
    },
    {
      "cell_type": "code",
      "metadata": {
        "id": "e_uzMGHncLHt",
        "colab_type": "code",
        "colab": {}
      },
      "source": [
        "def tax(val, brackets, rates):\n",
        "    # Args:\n",
        "    #     val: Value to assess tax on, e.g. wealth or income (list or Series).\n",
        "    #     brackets: Left side of each bracket (list or Series).\n",
        "    #     rates: Rate corresponding to each bracket.\n",
        "    df_tax = pd.DataFrame({'brackets': brackets, 'rates': rates})\n",
        "    df_tax['base_tax'] = df_tax.brackets.\\\n",
        "        sub(df_tax.brackets.shift(fill_value=0)).\\\n",
        "        mul(df_tax.rates.shift(fill_value=0)).cumsum()\n",
        "    rows = df_tax.brackets.searchsorted(val, side='right') - 1\n",
        "    income_bracket_df = df_tax.loc[rows].reset_index(drop=True)\n",
        "    return pd.Series(val).sub(income_bracket_df.brackets).\\\n",
        "        mul(income_bracket_df.rates).add(income_bracket_df.base_tax)"
      ],
      "execution_count": 0,
      "outputs": []
    },
    {
      "cell_type": "code",
      "metadata": {
        "id": "a5T2VGahu9_v",
        "colab_type": "code",
        "colab": {}
      },
      "source": [
        "WARREN_RATES = [0, 0.02, 0.03]   # 0%, 2%, 3%.\n",
        "\n",
        "WARREN_BRACKETS = [0,\n",
        "                   50e6,  # First $50 million.\n",
        "                   1e9]   # Over $1 billion."
      ],
      "execution_count": 0,
      "outputs": []
    },
    {
      "cell_type": "code",
      "metadata": {
        "id": "gdCt3RQEMAud",
        "colab_type": "code",
        "colab": {}
      },
      "source": [
        "def warren_tax(incomes):\n",
        "    return income_tax(incomes, rates=WARREN_RATES, brackets=WARREN_BRACKETS)"
      ],
      "execution_count": 0,
      "outputs": []
    },
    {
      "cell_type": "markdown",
      "metadata": {
        "id": "Eicm5oV2zMzT",
        "colab_type": "text"
      },
      "source": [
        "TODO: Do this more elegantly."
      ]
    },
    {
      "cell_type": "code",
      "metadata": {
        "id": "WcEam7vry_jn",
        "colab_type": "code",
        "colab": {}
      },
      "source": [
        "wealth['mtr'] = np.where(wealth.networth < WARREN_BRACKETS[1], WARREN_RATES[0],\n",
        "                         np.where(wealth.networth < WARREN_BRACKETS[2],\n",
        "                                  WARREN_RATES[1], WARREN_RATES[2]))"
      ],
      "execution_count": 0,
      "outputs": []
    },
    {
      "cell_type": "markdown",
      "metadata": {
        "id": "RXUjb2n_yd3r",
        "colab_type": "text"
      },
      "source": [
        "### Current approach\n",
        "\n",
        "16% constant avoidance."
      ]
    },
    {
      "cell_type": "code",
      "metadata": {
        "id": "UAWYVNBmwcMK",
        "colab_type": "code",
        "colab": {}
      },
      "source": [
        "wealth['warren_tax_base'] = ((1 - AVOID_ELASTICITY * 0.02) * \n",
        "                             np.maximum(wealth.networth, 0))"
      ],
      "execution_count": 0,
      "outputs": []
    },
    {
      "cell_type": "code",
      "metadata": {
        "id": "IkPSzpcZzvo_",
        "colab_type": "code",
        "colab": {}
      },
      "source": [
        "wealth['warren_tax'] = warren_tax(wealth.warren_tax_base)\n",
        "wealth['networth_warren'] = wealth.networth - wealth.warren_tax"
      ],
      "execution_count": 0,
      "outputs": []
    },
    {
      "cell_type": "code",
      "metadata": {
        "id": "Xo_tzCMGyhti",
        "colab_type": "code",
        "colab": {
          "base_uri": "https://localhost:8080/",
          "height": 34
        },
        "outputId": "5ad8ee66-911b-4b61-e59f-b8d996879caa"
      },
      "source": [
        "warren_revenue = (mdf.weighted_sum(wealth, 'networth_warren', 'weight') - \n",
        "                  mdf.weighted_sum(wealth, 'networth', 'weight')).sum()\n",
        "warren_revenue / 1e9"
      ],
      "execution_count": 24,
      "outputs": [
        {
          "output_type": "execute_result",
          "data": {
            "text/plain": [
              "-199.15986065067187"
            ]
          },
          "metadata": {
            "tags": []
          },
          "execution_count": 24
        }
      ]
    },
    {
      "cell_type": "markdown",
      "metadata": {
        "id": "-6r7JOj3z2e6",
        "colab_type": "text"
      },
      "source": [
        "### Adjusted approach"
      ]
    },
    {
      "cell_type": "code",
      "metadata": {
        "id": "CyjFHf6kw7MJ",
        "colab_type": "code",
        "colab": {}
      },
      "source": [
        "wealth['warren_tax_base2'] = ((1 - AVOID_ELASTICITY * wealth.mtr) * \n",
        "                              np.maximum(wealth.networth, 0))"
      ],
      "execution_count": 0,
      "outputs": []
    },
    {
      "cell_type": "code",
      "metadata": {
        "id": "kwDNQPRauTJA",
        "colab_type": "code",
        "colab": {}
      },
      "source": [
        "wealth['warren_tax2'] = warren_tax(wealth.warren_tax_base2)\n",
        "wealth['networth_warren2'] = wealth.networth - wealth.warren_tax2"
      ],
      "execution_count": 0,
      "outputs": []
    },
    {
      "cell_type": "code",
      "metadata": {
        "id": "ZpWZpEBOuse7",
        "colab_type": "code",
        "colab": {
          "base_uri": "https://localhost:8080/",
          "height": 34
        },
        "outputId": "c98163dd-6a5e-47c0-c75d-8b5faaf70d6c"
      },
      "source": [
        "warren_revenue2 = (mdf.weighted_sum(wealth, 'networth_warren2', 'weight') - \n",
        "                   mdf.weighted_sum(wealth, 'networth', 'weight')).sum()\n",
        "warren_revenue2 / 1e9"
      ],
      "execution_count": 27,
      "outputs": [
        {
          "output_type": "execute_result",
          "data": {
            "text/plain": [
              "-189.69935268021874"
            ]
          },
          "metadata": {
            "tags": []
          },
          "execution_count": 27
        }
      ]
    }
  ]
}
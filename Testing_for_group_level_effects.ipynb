{
  "nbformat": 4,
  "nbformat_minor": 0,
  "metadata": {
    "colab": {
      "name": "Testing for group-level effects",
      "version": "0.3.2",
      "provenance": [],
      "collapsed_sections": [],
      "include_colab_link": true
    },
    "kernelspec": {
      "name": "python3",
      "display_name": "Python 3"
    }
  },
  "cells": [
    {
      "cell_type": "markdown",
      "metadata": {
        "id": "view-in-github",
        "colab_type": "text"
      },
      "source": [
        "[View in Colaboratory](https://colab.research.google.com/github/MaxGhenis/random/blob/master/Testing_for_group_level_effects.ipynb)"
      ]
    },
    {
      "metadata": {
        "id": "7fXyEoeeY7DV",
        "colab_type": "text"
      },
      "cell_type": "markdown",
      "source": [
        "# Testing for group-level effects\n",
        "\n",
        "Simulate data with and without group-level and overall effects and test to recover estimates.\n",
        "\n",
        "Specifically, simulate 20,000 observations, split evenly across 50 groups with half treatment half control (200 observations per cell). The groups have a N(0, 1) random additional slope with respect to treatment, fixed treatment effect of 1, and random noise of N(0, 1).\n",
        "\n",
        "Start by calculating the effect and confidence interval for each group, then use ANOVA to determine the existence of a group effect.\n",
        "\n",
        "Next calculate mixed effects models to do the same."
      ]
    },
    {
      "metadata": {
        "id": "cdcBhpwgXIMG",
        "colab_type": "toc"
      },
      "cell_type": "markdown",
      "source": [
        ">[Testing for group-level effects](#updateTitle=true&folderId=0B1hDLsjCxwBXZjVKS0ZRMnZpX2c&scrollTo=7fXyEoeeY7DV)\n",
        "\n",
        ">>[Setup](#updateTitle=true&folderId=0B1hDLsjCxwBXZjVKS0ZRMnZpX2c&scrollTo=wQt-q-MlZGKy)\n",
        "\n",
        ">>[Generate data](#updateTitle=true&folderId=0B1hDLsjCxwBXZjVKS0ZRMnZpX2c&scrollTo=EB9XvnvLYI-w)\n",
        "\n",
        ">>[Per-group effects](#updateTitle=true&folderId=0B1hDLsjCxwBXZjVKS0ZRMnZpX2c&scrollTo=t9mmHeHA4xTa)\n",
        "\n",
        ">>[Regressions](#updateTitle=true&folderId=0B1hDLsjCxwBXZjVKS0ZRMnZpX2c&scrollTo=YEvpcYD6dpMJ)\n",
        "\n",
        ">>>[Simple linear model](#updateTitle=true&folderId=0B1hDLsjCxwBXZjVKS0ZRMnZpX2c&scrollTo=yLQdKJunLw6Q)\n",
        "\n",
        ">>>[Mixed effects](#updateTitle=true&folderId=0B1hDLsjCxwBXZjVKS0ZRMnZpX2c&scrollTo=B_V6jY_ZuG3U)\n",
        "\n",
        ">>>>[Extract random effects](#updateTitle=true&folderId=0B1hDLsjCxwBXZjVKS0ZRMnZpX2c&scrollTo=QPtdWH0GfetI)\n",
        "\n",
        ">>>[ANOVA](#updateTitle=true&folderId=0B1hDLsjCxwBXZjVKS0ZRMnZpX2c&scrollTo=cX1hc4Ynu1_k)\n",
        "\n",
        ">>>>[ANOVA from group statistics only](#updateTitle=true&folderId=0B1hDLsjCxwBXZjVKS0ZRMnZpX2c&scrollTo=luhNmj06W8xl)\n",
        "\n",
        ">>[Appendix](#updateTitle=true&folderId=0B1hDLsjCxwBXZjVKS0ZRMnZpX2c&scrollTo=xhpPnQvrtp4h)\n",
        "\n"
      ]
    },
    {
      "metadata": {
        "id": "wQt-q-MlZGKy",
        "colab_type": "text"
      },
      "cell_type": "markdown",
      "source": [
        "## Setup"
      ]
    },
    {
      "metadata": {
        "id": "4s1Id5YUYG3K",
        "colab_type": "code",
        "colab": {}
      },
      "cell_type": "code",
      "source": [
        "import pandas as pd\n",
        "import numpy as np\n",
        "from scipy import stats\n",
        "import statsmodels.api as sm\n",
        "import statsmodels.stats.api as sms\n",
        "import statsmodels.formula.api as smf\n",
        "from itertools import product\n",
        "import matplotlib as mpl\n",
        "import matplotlib.pyplot as plt\n",
        "import seaborn as sns\n",
        "import warnings"
      ],
      "execution_count": 0,
      "outputs": []
    },
    {
      "metadata": {
        "id": "vf4M3CcHNs4a",
        "colab_type": "code",
        "colab": {}
      },
      "cell_type": "code",
      "source": [
        "sns.set_style('white')\n",
        "DPI = 100\n",
        "mpl.rc('savefig', dpi=DPI)\n",
        "mpl.rcParams['figure.dpi']= DPI"
      ],
      "execution_count": 0,
      "outputs": []
    },
    {
      "metadata": {
        "id": "4-9e4xkfavDL",
        "colab_type": "code",
        "colab": {}
      },
      "cell_type": "code",
      "source": [
        "def expand_grid(dictionary):\n",
        "   return pd.DataFrame([row for row in product(*dictionary.values())], \n",
        "                       columns=dictionary.keys())"
      ],
      "execution_count": 0,
      "outputs": []
    },
    {
      "metadata": {
        "id": "EB9XvnvLYI-w",
        "colab_type": "text"
      },
      "cell_type": "markdown",
      "source": [
        "## Generate data\n",
        "\n",
        "TODO: Different n for each group/treatment slice."
      ]
    },
    {
      "metadata": {
        "id": "TUY3jeLxZ5Od",
        "colab_type": "code",
        "colab": {}
      },
      "cell_type": "code",
      "source": [
        "N_GROUPS = 50\n",
        "N_PER_GROUP = 200\n",
        "OVERALL_EFFECT = 1"
      ],
      "execution_count": 0,
      "outputs": []
    },
    {
      "metadata": {
        "id": "FduXuiHsZI9K",
        "colab_type": "code",
        "colab": {}
      },
      "cell_type": "code",
      "source": [
        "group_series = pd.Series(list(range(N_GROUPS)))  #, dtype='float32')\n",
        "obs_series = pd.Series(list(range(N_PER_GROUP)))  #, dtype='float32')\n",
        "bool_series = pd.Series(list({1, 0}))\n",
        "\n",
        "df = expand_grid({'group': group_series,\n",
        "                  'obs': obs_series, \n",
        "                  'in_treatment': bool_series,\n",
        "                  'has_treatment_effect': bool_series,\n",
        "                  'has_group_effect': bool_series})\n",
        "\n",
        "group_effect = pd.DataFrame({'group': group_series,\n",
        "                             'group_effect': np.random.randn(N_GROUPS)})\n",
        "\n",
        "df = pd.merge(df, group_effect, on='group')\n",
        "nrow = df.shape[0]\n",
        "df['y'] = (\n",
        "    df['in_treatment'] * df['has_treatment_effect'] * \n",
        "    (OVERALL_EFFECT + df['has_group_effect'] * df['group_effect']) +\n",
        "    np.random.randn(nrow))"
      ],
      "execution_count": 0,
      "outputs": []
    },
    {
      "metadata": {
        "id": "wA14Zg1jZBLL",
        "colab_type": "code",
        "colab": {
          "base_uri": "https://localhost:8080/",
          "height": 173
        },
        "outputId": "e4552d06-ebb9-40c0-d60c-c5db20a871f8"
      },
      "cell_type": "code",
      "source": [
        "df.head(4)"
      ],
      "execution_count": 6,
      "outputs": [
        {
          "output_type": "execute_result",
          "data": {
            "text/html": [
              "<div>\n",
              "<style scoped>\n",
              "    .dataframe tbody tr th:only-of-type {\n",
              "        vertical-align: middle;\n",
              "    }\n",
              "\n",
              "    .dataframe tbody tr th {\n",
              "        vertical-align: top;\n",
              "    }\n",
              "\n",
              "    .dataframe thead th {\n",
              "        text-align: right;\n",
              "    }\n",
              "</style>\n",
              "<table border=\"1\" class=\"dataframe\">\n",
              "  <thead>\n",
              "    <tr style=\"text-align: right;\">\n",
              "      <th></th>\n",
              "      <th>group</th>\n",
              "      <th>obs</th>\n",
              "      <th>in_treatment</th>\n",
              "      <th>has_treatment_effect</th>\n",
              "      <th>has_group_effect</th>\n",
              "      <th>group_effect</th>\n",
              "      <th>y</th>\n",
              "    </tr>\n",
              "  </thead>\n",
              "  <tbody>\n",
              "    <tr>\n",
              "      <th>0</th>\n",
              "      <td>0</td>\n",
              "      <td>0</td>\n",
              "      <td>0</td>\n",
              "      <td>0</td>\n",
              "      <td>0</td>\n",
              "      <td>0.456753</td>\n",
              "      <td>0.274932</td>\n",
              "    </tr>\n",
              "    <tr>\n",
              "      <th>1</th>\n",
              "      <td>0</td>\n",
              "      <td>0</td>\n",
              "      <td>0</td>\n",
              "      <td>0</td>\n",
              "      <td>1</td>\n",
              "      <td>0.456753</td>\n",
              "      <td>0.330064</td>\n",
              "    </tr>\n",
              "    <tr>\n",
              "      <th>2</th>\n",
              "      <td>0</td>\n",
              "      <td>0</td>\n",
              "      <td>0</td>\n",
              "      <td>1</td>\n",
              "      <td>0</td>\n",
              "      <td>0.456753</td>\n",
              "      <td>0.881203</td>\n",
              "    </tr>\n",
              "    <tr>\n",
              "      <th>3</th>\n",
              "      <td>0</td>\n",
              "      <td>0</td>\n",
              "      <td>0</td>\n",
              "      <td>1</td>\n",
              "      <td>1</td>\n",
              "      <td>0.456753</td>\n",
              "      <td>0.074322</td>\n",
              "    </tr>\n",
              "  </tbody>\n",
              "</table>\n",
              "</div>"
            ],
            "text/plain": [
              "   group  obs  in_treatment  has_treatment_effect  has_group_effect  \\\n",
              "0      0    0             0                     0                 0   \n",
              "1      0    0             0                     0                 1   \n",
              "2      0    0             0                     1                 0   \n",
              "3      0    0             0                     1                 1   \n",
              "\n",
              "   group_effect         y  \n",
              "0      0.456753  0.274932  \n",
              "1      0.456753  0.330064  \n",
              "2      0.456753  0.881203  \n",
              "3      0.456753  0.074322  "
            ]
          },
          "metadata": {
            "tags": []
          },
          "execution_count": 6
        }
      ]
    },
    {
      "metadata": {
        "id": "t9mmHeHA4xTa",
        "colab_type": "text"
      },
      "cell_type": "markdown",
      "source": [
        "## Per-group effects"
      ]
    },
    {
      "metadata": {
        "id": "CcC5hi_QaUry",
        "colab_type": "code",
        "colab": {}
      },
      "cell_type": "code",
      "source": [
        "BYVARS = ['group', 'has_treatment_effect', 'has_group_effect']"
      ],
      "execution_count": 0,
      "outputs": []
    },
    {
      "metadata": {
        "id": "3GosPLuJeeov",
        "colab_type": "code",
        "colab": {}
      },
      "cell_type": "code",
      "source": [
        "def ci_halfwidth(x, y):\n",
        "  cm = sms.CompareMeans(sms.DescrStatsW(x), sms.DescrStatsW(y))\n",
        "  return (cm.tconfint_diff(usevar='unequal')[1] - \n",
        "          cm.tconfint_diff(usevar='unequal')[0]) / 2\n",
        "\n",
        "def summarize_general(x, y):\n",
        "  return (x.mean() - y.mean(),\n",
        "          ci_halfwidth(x, y),\n",
        "          stats.ttest_ind(x, y)[0],\n",
        "          stats.ttest_ind(x, y)[1])\n",
        "\n",
        "def summarize(x):\n",
        "  # Difference in means, \n",
        "  return summarize_general(x.loc[x['in_treatment'] == 1, 'y'],\n",
        "                           x.loc[x['in_treatment'] == 0, 'y'])"
      ],
      "execution_count": 0,
      "outputs": []
    },
    {
      "metadata": {
        "id": "lMv93A2zHIxj",
        "colab_type": "code",
        "colab": {}
      },
      "cell_type": "code",
      "source": [
        "groups = pd.merge(\n",
        "    df.groupby(BYVARS, as_index=False).apply(summarize).reset_index(name='res'),\n",
        "    group_effect, on='group')\n",
        "# Can this be combined into one step?\n",
        "groups[['diff_means', 'ci_halfwidth', 't', 'p']] = (\n",
        "    groups['res'].apply(pd.Series))"
      ],
      "execution_count": 0,
      "outputs": []
    },
    {
      "metadata": {
        "id": "TmLxF1--qxRP",
        "colab_type": "text"
      },
      "cell_type": "markdown",
      "source": [
        "Flag significance using Bonferroni correction."
      ]
    },
    {
      "metadata": {
        "id": "98tcET_5qy0e",
        "colab_type": "code",
        "colab": {}
      },
      "cell_type": "code",
      "source": [
        "groups['sig'] = groups['p'] <= (0.05 / N_GROUPS)"
      ],
      "execution_count": 0,
      "outputs": []
    },
    {
      "metadata": {
        "id": "b3MvjXY9rF-e",
        "colab_type": "code",
        "colab": {
          "base_uri": "https://localhost:8080/",
          "height": 91
        },
        "outputId": "cca66eb8-fc6d-4e63-af6a-7e0342044c4b"
      },
      "cell_type": "code",
      "source": [
        "(groups[groups['sig']].groupby(['has_treatment_effect', 'has_group_effect'])\n",
        " .size())"
      ],
      "execution_count": 11,
      "outputs": [
        {
          "output_type": "execute_result",
          "data": {
            "text/plain": [
              "has_treatment_effect  has_group_effect\n",
              "1                     0                   50\n",
              "                      1                   42\n",
              "dtype: int64"
            ]
          },
          "metadata": {
            "tags": []
          },
          "execution_count": 11
        }
      ]
    },
    {
      "metadata": {
        "id": "i36PWkg4PyaC",
        "colab_type": "text"
      },
      "cell_type": "markdown",
      "source": [
        "Calculate standard error using normal approximation."
      ]
    },
    {
      "metadata": {
        "id": "8AMzp1NMuevt",
        "colab_type": "code",
        "colab": {}
      },
      "cell_type": "code",
      "source": [
        "groups['se'] = groups['ci_halfwidth'] / 1.96"
      ],
      "execution_count": 0,
      "outputs": []
    },
    {
      "metadata": {
        "id": "iOeHPIo0tzu6",
        "colab_type": "text"
      },
      "cell_type": "markdown",
      "source": [
        "TODO: Estimate `n` per group using difference in means and CI halfwidth."
      ]
    },
    {
      "metadata": {
        "id": "FtZC9iFBOuoz",
        "colab_type": "text"
      },
      "cell_type": "markdown",
      "source": [
        "With group-level effects, the differences have higher spread."
      ]
    },
    {
      "metadata": {
        "id": "AVTMM-ZfmSs3",
        "colab_type": "code",
        "colab": {
          "base_uri": "https://localhost:8080/",
          "height": 532
        },
        "outputId": "b355ab11-103a-422d-b6f2-4bf7433f8b1b"
      },
      "cell_type": "code",
      "source": [
        "fig, ax = plt.subplots()\n",
        "sns.distplot(groups.loc[(groups['has_treatment_effect'] == 1) & \n",
        "                        (groups['has_group_effect'] == 1), \n",
        "                        'diff_means'],\n",
        "             hist=False, ax=ax)\n",
        "sns.distplot(groups.loc[(groups['has_treatment_effect'] == 1) & \n",
        "                        (groups['has_group_effect'] == 0), \n",
        "                        'diff_means'],\n",
        "             hist=False, ax=ax).set_title((\n",
        "    'Group distribution of differences in means' +\n",
        "    ' (blue has group effect, green does not)'))"
      ],
      "execution_count": 120,
      "outputs": [
        {
          "output_type": "execute_result",
          "data": {
            "text/plain": [
              "Text(0.5,1,'Group distribution of differences in means (blue has group effect, green does not)')"
            ]
          },
          "metadata": {
            "tags": []
          },
          "execution_count": 120
        },
        {
          "output_type": "display_data",
          "data": {
            "image/png": "[encoded data removed]",
            "text/plain": [
              "<matplotlib.figure.Figure at 0x7fb84ca26ef0>"
            ]
          },
          "metadata": {
            "tags": []
          }
        }
      ]
    },
    {
      "metadata": {
        "id": "v1AljVwz1sIe",
        "colab_type": "code",
        "colab": {
          "base_uri": "https://localhost:8080/",
          "height": 533
        },
        "outputId": "5721dc67-c3f0-4d55-ce59-a311efd9631c"
      },
      "cell_type": "code",
      "source": [
        "fig, ax = plt.subplots()\n",
        "sns.distplot(groups.loc[(groups['has_treatment_effect'] == 1) & \n",
        "                        (groups['has_group_effect'] == 1), \n",
        "                        't'],\n",
        "             hist=False, ax=ax)\n",
        "sns.distplot(groups.loc[(groups['has_treatment_effect'] == 1) & \n",
        "                        (groups['has_group_effect'] == 0), \n",
        "                        't'],\n",
        "             hist=False, ax=ax).set_title((\n",
        "    'Group distribution of differences in means' +\n",
        "    ' (blue has group effect, green does not)'))"
      ],
      "execution_count": 209,
      "outputs": [
        {
          "output_type": "execute_result",
          "data": {
            "text/plain": [
              "Text(0.5,1,'Group distribution of differences in means (blue has group effect, green does not)')"
            ]
          },
          "metadata": {
            "tags": []
          },
          "execution_count": 209
        },
        {
          "output_type": "display_data",
          "data": {
            "image/png": "[encoded data removed]",
            "text/plain": [
              "<matplotlib.figure.Figure at 0x7fb84c8bd470>"
            ]
          },
          "metadata": {
            "tags": []
          }
        }
      ]
    },
    {
      "metadata": {
        "id": "FW2i-mkt2DUC",
        "colab_type": "text"
      },
      "cell_type": "markdown",
      "source": [
        "### Test normality\n",
        "\n",
        "Also test whether t statistics follow t distribution: https://stats.stackexchange.com/questions/126539/testing-whether-data-follows-t-distribution"
      ]
    },
    {
      "metadata": {
        "id": "04ctvR3O2YW7",
        "colab_type": "code",
        "colab": {
          "base_uri": "https://localhost:8080/",
          "height": 54
        },
        "outputId": "04658c4b-0db6-41d7-8430-549ba2e68be5"
      },
      "cell_type": "code",
      "source": [
        "print(stats.normaltest(groups.loc[(groups['has_treatment_effect'] == 1) & \n",
        "                            (groups['has_group_effect'] == 1), \n",
        "                            't']))\n",
        "stats.normaltest(groups.loc[(groups['has_treatment_effect'] == 1) & \n",
        "                            (groups['has_group_effect'] == 0), \n",
        "                            't'])"
      ],
      "execution_count": 216,
      "outputs": [
        {
          "output_type": "stream",
          "text": [
            "NormaltestResult(statistic=1.570560219617966, pvalue=0.45599195607534704)\n"
          ],
          "name": "stdout"
        },
        {
          "output_type": "execute_result",
          "data": {
            "text/plain": [
              "NormaltestResult(statistic=6.927477171406424, pvalue=0.03131247853321702)"
            ]
          },
          "metadata": {
            "tags": []
          },
          "execution_count": 216
        }
      ]
    },
    {
      "metadata": {
        "id": "ce6AzyYK2FA5",
        "colab_type": "code",
        "colab": {
          "base_uri": "https://localhost:8080/",
          "height": 54
        },
        "outputId": "7ab0f2d1-c2d1-4833-e077-f95466329907"
      },
      "cell_type": "code",
      "source": [
        "print(stats.normaltest(groups.loc[(groups['has_treatment_effect'] == 1) & \n",
        "                            (groups['has_group_effect'] == 1), \n",
        "                            'diff_means']))\n",
        "stats.normaltest(groups.loc[(groups['has_treatment_effect'] == 1) & \n",
        "                            (groups['has_group_effect'] == 0), \n",
        "                            'diff_means'])"
      ],
      "execution_count": 217,
      "outputs": [
        {
          "output_type": "stream",
          "text": [
            "NormaltestResult(statistic=2.1078235257090485, pvalue=0.34857154948937197)\n"
          ],
          "name": "stdout"
        },
        {
          "output_type": "execute_result",
          "data": {
            "text/plain": [
              "NormaltestResult(statistic=1.3004517763881598, pvalue=0.5219278661010911)"
            ]
          },
          "metadata": {
            "tags": []
          },
          "execution_count": 217
        }
      ]
    },
    {
      "metadata": {
        "id": "AZWg70cZ2dt9",
        "colab_type": "text"
      },
      "cell_type": "markdown",
      "source": [
        "Each group's estimate with CI."
      ]
    },
    {
      "metadata": {
        "id": "IQ4C1naO2uHj",
        "colab_type": "code",
        "colab": {
          "base_uri": "https://localhost:8080/",
          "height": 68
        },
        "outputId": "1dea0ee8-97c6-4eac-83c3-7dba2f60402c"
      },
      "cell_type": "code",
      "source": [
        "groups.columns"
      ],
      "execution_count": 81,
      "outputs": [
        {
          "output_type": "execute_result",
          "data": {
            "text/plain": [
              "Index(['group', 'has_treatment_effect', 'has_group_effect', 'res',\n",
              "       'group_effect', 'diff_means', 'ci_halfwidth', 't', 'p', 'sig', 'sd'],\n",
              "      dtype='object')"
            ]
          },
          "metadata": {
            "tags": []
          },
          "execution_count": 81
        }
      ]
    },
    {
      "metadata": {
        "id": "D7UICx9B5f5k",
        "colab_type": "code",
        "colab": {}
      },
      "cell_type": "code",
      "source": [
        "groups['diff_means_rank'] = (\n",
        "    groups.groupby(['has_treatment_effect', 'has_group_effect'])['diff_means']\n",
        "    .rank())"
      ],
      "execution_count": 0,
      "outputs": []
    },
    {
      "metadata": {
        "id": "lIcY_Nbn6iz_",
        "colab_type": "code",
        "colab": {}
      },
      "cell_type": "code",
      "source": [
        "groups_t_g = groups[(groups['has_treatment_effect'] == 1) &\n",
        "                    (groups['has_group_effect'] == 1)]\n",
        "groups_t_ng = groups[(groups['has_treatment_effect'] == 1) &\n",
        "                     (groups['has_group_effect'] == 0)]"
      ],
      "execution_count": 0,
      "outputs": []
    },
    {
      "metadata": {
        "id": "jZZcBpYJ4WRA",
        "colab_type": "code",
        "colab": {
          "base_uri": "https://localhost:8080/",
          "height": 475
        },
        "outputId": "c19ba43f-0982-456d-cfce-a6e6d38087dd"
      },
      "cell_type": "code",
      "source": [
        "plt.errorbar(x=groups_t_g['diff_means'], y=groups_t_g['diff_means_rank'], \n",
        "             xerr=groups_t_g['ci_halfwidth'], fmt='o')"
      ],
      "execution_count": 122,
      "outputs": [
        {
          "output_type": "display_data",
          "data": {
            "image/png": "[encoded data removed]",
            "text/plain": [
              "<matplotlib.figure.Figure at 0x7fb84c9706a0>"
            ]
          },
          "metadata": {
            "tags": []
          }
        }
      ]
    },
    {
      "metadata": {
        "id": "WPPDrW1C7Auj",
        "colab_type": "code",
        "colab": {
          "base_uri": "https://localhost:8080/",
          "height": 492
        },
        "outputId": "513832a5-9aba-437d-c9fd-f444fb9daea7"
      },
      "cell_type": "code",
      "source": [
        "plt.errorbar(x=groups_t_ng['diff_means'], y=groups_t_ng['diff_means_rank'], \n",
        "             xerr=groups_t_ng['ci_halfwidth'], fmt='o')"
      ],
      "execution_count": 113,
      "outputs": [
        {
          "output_type": "execute_result",
          "data": {
            "text/plain": [
              "<Container object of 3 artists>"
            ]
          },
          "metadata": {
            "tags": []
          },
          "execution_count": 113
        },
        {
          "output_type": "display_data",
          "data": {
            "image/png": "[encoded data removed]",
            "text/plain": [
              "<matplotlib.figure.Figure at 0x7fb84cd86d68>"
            ]
          },
          "metadata": {
            "tags": []
          }
        }
      ]
    },
    {
      "metadata": {
        "id": "YEvpcYD6dpMJ",
        "colab_type": "text"
      },
      "cell_type": "markdown",
      "source": [
        "## Regressions"
      ]
    },
    {
      "metadata": {
        "id": "yLQdKJunLw6Q",
        "colab_type": "text"
      },
      "cell_type": "markdown",
      "source": [
        "### Simple linear model"
      ]
    },
    {
      "metadata": {
        "id": "Oa7cLkkYtxTq",
        "colab_type": "code",
        "colab": {
          "base_uri": "https://localhost:8080/",
          "height": 376
        },
        "outputId": "17955b75-6b9a-4287-e7dc-95d4a874c806"
      },
      "cell_type": "code",
      "source": [
        "lm_notreat_nogroup = smf.ols('y ~ in_treatment', \n",
        "                             data=df[(df['has_treatment_effect'] == 0) &\n",
        "                                     (df['has_group_effect'] == 0)]).fit()\n",
        "lm_notreat_nogroup.summary()"
      ],
      "execution_count": 18,
      "outputs": [
        {
          "output_type": "execute_result",
          "data": {
            "text/html": [
              "<table class=\"simpletable\">\n",
              "<caption>OLS Regression Results</caption>\n",
              "<tr>\n",
              "  <th>Dep. Variable:</th>            <td>y</td>        <th>  R-squared:         </th> <td>   0.000</td> \n",
              "</tr>\n",
              "<tr>\n",
              "  <th>Model:</th>                   <td>OLS</td>       <th>  Adj. R-squared:    </th> <td>   0.000</td> \n",
              "</tr>\n",
              "<tr>\n",
              "  <th>Method:</th>             <td>Least Squares</td>  <th>  F-statistic:       </th> <td>   1.254</td> \n",
              "</tr>\n",
              "<tr>\n",
              "  <th>Date:</th>             <td>Thu, 25 Jan 2018</td> <th>  Prob (F-statistic):</th>  <td> 0.263</td>  \n",
              "</tr>\n",
              "<tr>\n",
              "  <th>Time:</th>                 <td>17:59:19</td>     <th>  Log-Likelihood:    </th> <td> -28397.</td> \n",
              "</tr>\n",
              "<tr>\n",
              "  <th>No. Observations:</th>      <td> 20000</td>      <th>  AIC:               </th> <td>5.680e+04</td>\n",
              "</tr>\n",
              "<tr>\n",
              "  <th>Df Residuals:</th>          <td> 19998</td>      <th>  BIC:               </th> <td>5.681e+04</td>\n",
              "</tr>\n",
              "<tr>\n",
              "  <th>Df Model:</th>              <td>     1</td>      <th>                     </th>     <td> </td>    \n",
              "</tr>\n",
              "<tr>\n",
              "  <th>Covariance Type:</th>      <td>nonrobust</td>    <th>                     </th>     <td> </td>    \n",
              "</tr>\n",
              "</table>\n",
              "<table class=\"simpletable\">\n",
              "<tr>\n",
              "        <td></td>          <th>coef</th>     <th>std err</th>      <th>t</th>      <th>P>|t|</th>  <th>[0.025</th>    <th>0.975]</th>  \n",
              "</tr>\n",
              "<tr>\n",
              "  <th>Intercept</th>    <td>    0.0041</td> <td>    0.010</td> <td>    0.414</td> <td> 0.679</td> <td>   -0.015</td> <td>    0.024</td>\n",
              "</tr>\n",
              "<tr>\n",
              "  <th>in_treatment</th> <td>    0.0159</td> <td>    0.014</td> <td>    1.120</td> <td> 0.263</td> <td>   -0.012</td> <td>    0.044</td>\n",
              "</tr>\n",
              "</table>\n",
              "<table class=\"simpletable\">\n",
              "<tr>\n",
              "  <th>Omnibus:</th>       <td> 0.432</td> <th>  Durbin-Watson:     </th> <td>   2.024</td>\n",
              "</tr>\n",
              "<tr>\n",
              "  <th>Prob(Omnibus):</th> <td> 0.806</td> <th>  Jarque-Bera (JB):  </th> <td>   0.423</td>\n",
              "</tr>\n",
              "<tr>\n",
              "  <th>Skew:</th>          <td>-0.011</td> <th>  Prob(JB):          </th> <td>   0.809</td>\n",
              "</tr>\n",
              "<tr>\n",
              "  <th>Kurtosis:</th>      <td> 3.005</td> <th>  Cond. No.          </th> <td>    2.62</td>\n",
              "</tr>\n",
              "</table>"
            ],
            "text/plain": [
              "<class 'statsmodels.iolib.summary.Summary'>\n",
              "\"\"\"\n",
              "                            OLS Regression Results                            \n",
              "==============================================================================\n",
              "Dep. Variable:                      y   R-squared:                       0.000\n",
              "Model:                            OLS   Adj. R-squared:                  0.000\n",
              "Method:                 Least Squares   F-statistic:                     1.254\n",
              "Date:                Thu, 25 Jan 2018   Prob (F-statistic):              0.263\n",
              "Time:                        17:59:19   Log-Likelihood:                -28397.\n",
              "No. Observations:               20000   AIC:                         5.680e+04\n",
              "Df Residuals:                   19998   BIC:                         5.681e+04\n",
              "Df Model:                           1                                         \n",
              "Covariance Type:            nonrobust                                         \n",
              "================================================================================\n",
              "                   coef    std err          t      P>|t|      [0.025      0.975]\n",
              "--------------------------------------------------------------------------------\n",
              "Intercept        0.0041      0.010      0.414      0.679      -0.015       0.024\n",
              "in_treatment     0.0159      0.014      1.120      0.263      -0.012       0.044\n",
              "==============================================================================\n",
              "Omnibus:                        0.432   Durbin-Watson:                   2.024\n",
              "Prob(Omnibus):                  0.806   Jarque-Bera (JB):                0.423\n",
              "Skew:                          -0.011   Prob(JB):                        0.809\n",
              "Kurtosis:                       3.005   Cond. No.                         2.62\n",
              "==============================================================================\n",
              "\n",
              "Warnings:\n",
              "[1] Standard Errors assume that the covariance matrix of the errors is correctly specified.\n",
              "\"\"\""
            ]
          },
          "metadata": {
            "tags": []
          },
          "execution_count": 18
        }
      ]
    },
    {
      "metadata": {
        "id": "gtWpoe82ubo1",
        "colab_type": "text"
      },
      "cell_type": "markdown",
      "source": [
        "No significant treatment coefficient: good!"
      ]
    },
    {
      "metadata": {
        "id": "JCfaHSMnuVeC",
        "colab_type": "code",
        "colab": {
          "base_uri": "https://localhost:8080/",
          "height": 376
        },
        "outputId": "f4285157-521c-49dd-a22a-cda531c9d435"
      },
      "cell_type": "code",
      "source": [
        "lm_treat_nogroup = smf.ols('y ~ in_treatment', \n",
        "                           data=df[(df['has_treatment_effect'] == 1) &\n",
        "                                   (df['has_group_effect'] == 0)]).fit()\n",
        "lm_treat_nogroup.summary()"
      ],
      "execution_count": 19,
      "outputs": [
        {
          "output_type": "execute_result",
          "data": {
            "text/html": [
              "<table class=\"simpletable\">\n",
              "<caption>OLS Regression Results</caption>\n",
              "<tr>\n",
              "  <th>Dep. Variable:</th>            <td>y</td>        <th>  R-squared:         </th> <td>   0.199</td> \n",
              "</tr>\n",
              "<tr>\n",
              "  <th>Model:</th>                   <td>OLS</td>       <th>  Adj. R-squared:    </th> <td>   0.199</td> \n",
              "</tr>\n",
              "<tr>\n",
              "  <th>Method:</th>             <td>Least Squares</td>  <th>  F-statistic:       </th> <td>   4977.</td> \n",
              "</tr>\n",
              "<tr>\n",
              "  <th>Date:</th>             <td>Thu, 25 Jan 2018</td> <th>  Prob (F-statistic):</th>  <td>  0.00</td>  \n",
              "</tr>\n",
              "<tr>\n",
              "  <th>Time:</th>                 <td>17:59:56</td>     <th>  Log-Likelihood:    </th> <td> -28226.</td> \n",
              "</tr>\n",
              "<tr>\n",
              "  <th>No. Observations:</th>      <td> 20000</td>      <th>  AIC:               </th> <td>5.646e+04</td>\n",
              "</tr>\n",
              "<tr>\n",
              "  <th>Df Residuals:</th>          <td> 19998</td>      <th>  BIC:               </th> <td>5.647e+04</td>\n",
              "</tr>\n",
              "<tr>\n",
              "  <th>Df Model:</th>              <td>     1</td>      <th>                     </th>     <td> </td>    \n",
              "</tr>\n",
              "<tr>\n",
              "  <th>Covariance Type:</th>      <td>nonrobust</td>    <th>                     </th>     <td> </td>    \n",
              "</tr>\n",
              "</table>\n",
              "<table class=\"simpletable\">\n",
              "<tr>\n",
              "        <td></td>          <th>coef</th>     <th>std err</th>      <th>t</th>      <th>P>|t|</th>  <th>[0.025</th>    <th>0.975]</th>  \n",
              "</tr>\n",
              "<tr>\n",
              "  <th>Intercept</th>    <td>   -0.0017</td> <td>    0.010</td> <td>   -0.175</td> <td> 0.861</td> <td>   -0.021</td> <td>    0.018</td>\n",
              "</tr>\n",
              "<tr>\n",
              "  <th>in_treatment</th> <td>    0.9902</td> <td>    0.014</td> <td>   70.549</td> <td> 0.000</td> <td>    0.963</td> <td>    1.018</td>\n",
              "</tr>\n",
              "</table>\n",
              "<table class=\"simpletable\">\n",
              "<tr>\n",
              "  <th>Omnibus:</th>       <td> 0.522</td> <th>  Durbin-Watson:     </th> <td>   1.998</td>\n",
              "</tr>\n",
              "<tr>\n",
              "  <th>Prob(Omnibus):</th> <td> 0.770</td> <th>  Jarque-Bera (JB):  </th> <td>   0.534</td>\n",
              "</tr>\n",
              "<tr>\n",
              "  <th>Skew:</th>          <td>-0.012</td> <th>  Prob(JB):          </th> <td>   0.766</td>\n",
              "</tr>\n",
              "<tr>\n",
              "  <th>Kurtosis:</th>      <td> 2.991</td> <th>  Cond. No.          </th> <td>    2.62</td>\n",
              "</tr>\n",
              "</table>"
            ],
            "text/plain": [
              "<class 'statsmodels.iolib.summary.Summary'>\n",
              "\"\"\"\n",
              "                            OLS Regression Results                            \n",
              "==============================================================================\n",
              "Dep. Variable:                      y   R-squared:                       0.199\n",
              "Model:                            OLS   Adj. R-squared:                  0.199\n",
              "Method:                 Least Squares   F-statistic:                     4977.\n",
              "Date:                Thu, 25 Jan 2018   Prob (F-statistic):               0.00\n",
              "Time:                        17:59:56   Log-Likelihood:                -28226.\n",
              "No. Observations:               20000   AIC:                         5.646e+04\n",
              "Df Residuals:                   19998   BIC:                         5.647e+04\n",
              "Df Model:                           1                                         \n",
              "Covariance Type:            nonrobust                                         \n",
              "================================================================================\n",
              "                   coef    std err          t      P>|t|      [0.025      0.975]\n",
              "--------------------------------------------------------------------------------\n",
              "Intercept       -0.0017      0.010     -0.175      0.861      -0.021       0.018\n",
              "in_treatment     0.9902      0.014     70.549      0.000       0.963       1.018\n",
              "==============================================================================\n",
              "Omnibus:                        0.522   Durbin-Watson:                   1.998\n",
              "Prob(Omnibus):                  0.770   Jarque-Bera (JB):                0.534\n",
              "Skew:                          -0.012   Prob(JB):                        0.766\n",
              "Kurtosis:                       2.991   Cond. No.                         2.62\n",
              "==============================================================================\n",
              "\n",
              "Warnings:\n",
              "[1] Standard Errors assume that the covariance matrix of the errors is correctly specified.\n",
              "\"\"\""
            ]
          },
          "metadata": {
            "tags": []
          },
          "execution_count": 19
        }
      ]
    },
    {
      "metadata": {
        "id": "7ndnUiieufkg",
        "colab_type": "text"
      },
      "cell_type": "markdown",
      "source": [
        "Significant treatment of close to the correct 1, with CI including 1."
      ]
    },
    {
      "metadata": {
        "id": "B_V6jY_ZuG3U",
        "colab_type": "text"
      },
      "cell_type": "markdown",
      "source": [
        "### Mixed effects\n",
        "\n",
        "Random slopes.\n",
        "\n",
        "Unclear what **Coef.** and **Std.Err.** mean here, as `lme4` doesn't summarize this way. But in general these are small in absence of a random effect and large with coef/SE ~ 5 when the random effect is present, which seems right.\n",
        "\n"
      ]
    },
    {
      "metadata": {
        "id": "iCZdSJ0Fu4HF",
        "colab_type": "code",
        "colab": {
          "base_uri": "https://localhost:8080/",
          "height": 231
        },
        "outputId": "7858d99b-6098-48f4-9835-8549381c89e6"
      },
      "cell_type": "code",
      "source": [
        "df_notreat_nogroup = df[(df['has_treatment_effect'] == 0) &\n",
        "                        (df['has_group_effect'] == 0)]\n",
        "with warnings.catch_warnings():  # Suppress ConvergenceWarnings.\n",
        "  warnings.filterwarnings('ignore')\n",
        "  rem_notreat_nogroup = smf.mixedlm('y ~ in_treatment', df_notreat_nogroup, \n",
        "                                    groups=df_notreat_nogroup['group'],\n",
        "                                    re_formula='~ 0 + in_treatment').fit()\n",
        "rem_notreat_nogroup.summary()"
      ],
      "execution_count": 126,
      "outputs": [
        {
          "output_type": "execute_result",
          "data": {
            "text/html": [
              "<table class=\"simpletable\">\n",
              "<tr>\n",
              "       <td>Model:</td>       <td>MixedLM</td> <td>Dependent Variable:</td>      <td>y</td>     \n",
              "</tr>\n",
              "<tr>\n",
              "  <td>No. Observations:</td>  <td>20000</td>        <td>Method:</td>          <td>REML</td>    \n",
              "</tr>\n",
              "<tr>\n",
              "     <td>No. Groups:</td>      <td>50</td>          <td>Scale:</td>          <td>1.0020</td>   \n",
              "</tr>\n",
              "<tr>\n",
              "  <td>Min. group size:</td>    <td>400</td>       <td>Likelihood:</td>     <td>-28404.8484</td>\n",
              "</tr>\n",
              "<tr>\n",
              "  <td>Max. group size:</td>    <td>400</td>       <td>Converged:</td>          <td>No</td>     \n",
              "</tr>\n",
              "<tr>\n",
              "  <td>Mean group size:</td>   <td>400.0</td>           <td></td>                <td></td>      \n",
              "</tr>\n",
              "</table>\n",
              "<table class=\"simpletable\">\n",
              "<tr>\n",
              "         <td></td>         <th>Coef.</th> <th>Std.Err.</th>   <th>z</th>   <th>P>|z|</th> <th>[0.025</th> <th>0.975]</th>\n",
              "</tr>\n",
              "<tr>\n",
              "  <th>Intercept</th>       <td>0.004</td>   <td>0.010</td>  <td>0.414</td> <td>0.679</td> <td>-0.015</td>  <td>0.024</td>\n",
              "</tr>\n",
              "<tr>\n",
              "  <th>in_treatment</th>    <td>0.016</td>   <td>0.014</td>  <td>1.118</td> <td>0.264</td> <td>-0.012</td>  <td>0.044</td>\n",
              "</tr>\n",
              "<tr>\n",
              "  <th>in_treatment RE</th> <td>0.000</td>   <td>0.001</td>    <td></td>      <td></td>       <td></td>       <td></td>   \n",
              "</tr>\n",
              "</table>"
            ],
            "text/plain": [
              "<class 'statsmodels.iolib.summary2.Summary'>\n",
              "\"\"\"\n",
              "          Mixed Linear Model Regression Results\n",
              "=========================================================\n",
              "Model:            MixedLM Dependent Variable: y          \n",
              "No. Observations: 20000   Method:             REML       \n",
              "No. Groups:       50      Scale:              1.0020     \n",
              "Min. group size:  400     Likelihood:         -28404.8484\n",
              "Max. group size:  400     Converged:          No         \n",
              "Mean group size:  400.0                                  \n",
              "---------------------------------------------------------\n",
              "                 Coef. Std.Err.   z   P>|z| [0.025 0.975]\n",
              "---------------------------------------------------------\n",
              "Intercept        0.004    0.010 0.414 0.679 -0.015  0.024\n",
              "in_treatment     0.016    0.014 1.118 0.264 -0.012  0.044\n",
              "in_treatment RE  0.000    0.001                          \n",
              "=========================================================\n",
              "\n",
              "\"\"\""
            ]
          },
          "metadata": {
            "tags": []
          },
          "execution_count": 126
        }
      ]
    },
    {
      "metadata": {
        "id": "a5RQlUX0weR5",
        "colab_type": "code",
        "colab": {
          "base_uri": "https://localhost:8080/",
          "height": 231
        },
        "outputId": "951cffa5-c0f5-4c6f-b5b4-b9666d113414"
      },
      "cell_type": "code",
      "source": [
        "df_treat_nogroup = df[(df['has_treatment_effect'] == 0) &\n",
        "                        (df['has_group_effect'] == 0)]\n",
        "with warnings.catch_warnings():  # Suppress ConvergenceWarnings.\n",
        "  warnings.filterwarnings('ignore')\n",
        "  rem_treat_nogroup = smf.mixedlm('y ~ in_treatment', df_treat_nogroup, \n",
        "                                  groups=df_treat_nogroup['group'],\n",
        "                                  re_formula='~ 0 + in_treatment').fit()\n",
        "rem_treat_nogroup.summary()"
      ],
      "execution_count": 127,
      "outputs": [
        {
          "output_type": "execute_result",
          "data": {
            "text/html": [
              "<table class=\"simpletable\">\n",
              "<tr>\n",
              "       <td>Model:</td>       <td>MixedLM</td> <td>Dependent Variable:</td>      <td>y</td>     \n",
              "</tr>\n",
              "<tr>\n",
              "  <td>No. Observations:</td>  <td>20000</td>        <td>Method:</td>          <td>REML</td>    \n",
              "</tr>\n",
              "<tr>\n",
              "     <td>No. Groups:</td>      <td>50</td>          <td>Scale:</td>          <td>1.0020</td>   \n",
              "</tr>\n",
              "<tr>\n",
              "  <td>Min. group size:</td>    <td>400</td>       <td>Likelihood:</td>     <td>-28404.8484</td>\n",
              "</tr>\n",
              "<tr>\n",
              "  <td>Max. group size:</td>    <td>400</td>       <td>Converged:</td>          <td>No</td>     \n",
              "</tr>\n",
              "<tr>\n",
              "  <td>Mean group size:</td>   <td>400.0</td>           <td></td>                <td></td>      \n",
              "</tr>\n",
              "</table>\n",
              "<table class=\"simpletable\">\n",
              "<tr>\n",
              "         <td></td>         <th>Coef.</th> <th>Std.Err.</th>   <th>z</th>   <th>P>|z|</th> <th>[0.025</th> <th>0.975]</th>\n",
              "</tr>\n",
              "<tr>\n",
              "  <th>Intercept</th>       <td>0.004</td>   <td>0.010</td>  <td>0.414</td> <td>0.679</td> <td>-0.015</td>  <td>0.024</td>\n",
              "</tr>\n",
              "<tr>\n",
              "  <th>in_treatment</th>    <td>0.016</td>   <td>0.014</td>  <td>1.118</td> <td>0.264</td> <td>-0.012</td>  <td>0.044</td>\n",
              "</tr>\n",
              "<tr>\n",
              "  <th>in_treatment RE</th> <td>0.000</td>   <td>0.001</td>    <td></td>      <td></td>       <td></td>       <td></td>   \n",
              "</tr>\n",
              "</table>"
            ],
            "text/plain": [
              "<class 'statsmodels.iolib.summary2.Summary'>\n",
              "\"\"\"\n",
              "          Mixed Linear Model Regression Results\n",
              "=========================================================\n",
              "Model:            MixedLM Dependent Variable: y          \n",
              "No. Observations: 20000   Method:             REML       \n",
              "No. Groups:       50      Scale:              1.0020     \n",
              "Min. group size:  400     Likelihood:         -28404.8484\n",
              "Max. group size:  400     Converged:          No         \n",
              "Mean group size:  400.0                                  \n",
              "---------------------------------------------------------\n",
              "                 Coef. Std.Err.   z   P>|z| [0.025 0.975]\n",
              "---------------------------------------------------------\n",
              "Intercept        0.004    0.010 0.414 0.679 -0.015  0.024\n",
              "in_treatment     0.016    0.014 1.118 0.264 -0.012  0.044\n",
              "in_treatment RE  0.000    0.001                          \n",
              "=========================================================\n",
              "\n",
              "\"\"\""
            ]
          },
          "metadata": {
            "tags": []
          },
          "execution_count": 127
        }
      ]
    },
    {
      "metadata": {
        "id": "od6_yzMyxBHN",
        "colab_type": "code",
        "colab": {
          "base_uri": "https://localhost:8080/",
          "height": 231
        },
        "outputId": "6b018bce-79f3-466f-be3b-c8258de177f2"
      },
      "cell_type": "code",
      "source": [
        "df_notreat_group = df[(df['has_treatment_effect'] == 0) &\n",
        "                      (df['has_group_effect'] == 1)]\n",
        "with warnings.catch_warnings():  # Suppress ConvergenceWarnings.\n",
        "  warnings.filterwarnings('ignore')\n",
        "  rem_notreat_group = smf.mixedlm('y ~ in_treatment', df_notreat_group, \n",
        "                                    groups=df_notreat_group['group'],\n",
        "                                    re_formula='~ 0 + in_treatment').fit()\n",
        "rem_notreat_group.summary()"
      ],
      "execution_count": 128,
      "outputs": [
        {
          "output_type": "execute_result",
          "data": {
            "text/html": [
              "<table class=\"simpletable\">\n",
              "<tr>\n",
              "       <td>Model:</td>       <td>MixedLM</td> <td>Dependent Variable:</td>      <td>y</td>     \n",
              "</tr>\n",
              "<tr>\n",
              "  <td>No. Observations:</td>  <td>20000</td>        <td>Method:</td>          <td>REML</td>    \n",
              "</tr>\n",
              "<tr>\n",
              "     <td>No. Groups:</td>      <td>50</td>          <td>Scale:</td>          <td>1.0030</td>   \n",
              "</tr>\n",
              "<tr>\n",
              "  <td>Min. group size:</td>    <td>400</td>       <td>Likelihood:</td>     <td>-28415.9839</td>\n",
              "</tr>\n",
              "<tr>\n",
              "  <td>Max. group size:</td>    <td>400</td>       <td>Converged:</td>          <td>No</td>     \n",
              "</tr>\n",
              "<tr>\n",
              "  <td>Mean group size:</td>   <td>400.0</td>           <td></td>                <td></td>      \n",
              "</tr>\n",
              "</table>\n",
              "<table class=\"simpletable\">\n",
              "<tr>\n",
              "         <td></td>          <th>Coef.</th> <th>Std.Err.</th>    <th>z</th>   <th>P>|z|</th> <th>[0.025</th> <th>0.975]</th>\n",
              "</tr>\n",
              "<tr>\n",
              "  <th>Intercept</th>        <td>0.003</td>   <td>0.010</td>   <td>0.267</td> <td>0.790</td> <td>-0.017</td>  <td>0.022</td>\n",
              "</tr>\n",
              "<tr>\n",
              "  <th>in_treatment</th>    <td>-0.008</td>   <td>0.014</td>  <td>-0.559</td> <td>0.576</td> <td>-0.036</td>  <td>0.020</td>\n",
              "</tr>\n",
              "<tr>\n",
              "  <th>in_treatment RE</th>  <td>0.000</td>   <td>0.001</td>     <td></td>      <td></td>       <td></td>       <td></td>   \n",
              "</tr>\n",
              "</table>"
            ],
            "text/plain": [
              "<class 'statsmodels.iolib.summary2.Summary'>\n",
              "\"\"\"\n",
              "          Mixed Linear Model Regression Results\n",
              "==========================================================\n",
              "Model:             MixedLM Dependent Variable: y          \n",
              "No. Observations:  20000   Method:             REML       \n",
              "No. Groups:        50      Scale:              1.0030     \n",
              "Min. group size:   400     Likelihood:         -28415.9839\n",
              "Max. group size:   400     Converged:          No         \n",
              "Mean group size:   400.0                                  \n",
              "----------------------------------------------------------\n",
              "                Coef.  Std.Err.   z    P>|z| [0.025 0.975]\n",
              "----------------------------------------------------------\n",
              "Intercept        0.003    0.010  0.267 0.790 -0.017  0.022\n",
              "in_treatment    -0.008    0.014 -0.559 0.576 -0.036  0.020\n",
              "in_treatment RE  0.000    0.001                           \n",
              "==========================================================\n",
              "\n",
              "\"\"\""
            ]
          },
          "metadata": {
            "tags": []
          },
          "execution_count": 128
        }
      ]
    },
    {
      "metadata": {
        "id": "-pww-EA9wzu1",
        "colab_type": "code",
        "colab": {
          "base_uri": "https://localhost:8080/",
          "height": 231
        },
        "outputId": "56d713fe-23bf-46c7-b124-68f57c9713ee"
      },
      "cell_type": "code",
      "source": [
        "df_treat_group = df[(df['has_treatment_effect'] == 1) &\n",
        "                    (df['has_group_effect'] == 1)]\n",
        "rem_treat_group = smf.mixedlm('y ~ in_treatment', df_treat_group, \n",
        "                              groups=df_treat_group['group'],\n",
        "                              re_formula='~ 0 + in_treatment').fit()\n",
        "rem_treat_group.summary()"
      ],
      "execution_count": 129,
      "outputs": [
        {
          "output_type": "execute_result",
          "data": {
            "text/html": [
              "<table class=\"simpletable\">\n",
              "<tr>\n",
              "       <td>Model:</td>       <td>MixedLM</td> <td>Dependent Variable:</td>      <td>y</td>     \n",
              "</tr>\n",
              "<tr>\n",
              "  <td>No. Observations:</td>  <td>20000</td>        <td>Method:</td>          <td>REML</td>    \n",
              "</tr>\n",
              "<tr>\n",
              "     <td>No. Groups:</td>      <td>50</td>          <td>Scale:</td>          <td>1.0017</td>   \n",
              "</tr>\n",
              "<tr>\n",
              "  <td>Min. group size:</td>    <td>400</td>       <td>Likelihood:</td>     <td>-28541.7368</td>\n",
              "</tr>\n",
              "<tr>\n",
              "  <td>Max. group size:</td>    <td>400</td>       <td>Converged:</td>          <td>Yes</td>    \n",
              "</tr>\n",
              "<tr>\n",
              "  <td>Mean group size:</td>   <td>400.0</td>           <td></td>                <td></td>      \n",
              "</tr>\n",
              "</table>\n",
              "<table class=\"simpletable\">\n",
              "<tr>\n",
              "         <td></td>          <th>Coef.</th> <th>Std.Err.</th>    <th>z</th>   <th>P>|z|</th> <th>[0.025</th> <th>0.975]</th>\n",
              "</tr>\n",
              "<tr>\n",
              "  <th>Intercept</th>       <td>-0.010</td>   <td>0.010</td>  <td>-1.030</td> <td>0.303</td> <td>-0.030</td>  <td>0.009</td>\n",
              "</tr>\n",
              "<tr>\n",
              "  <th>in_treatment</th>     <td>1.141</td>   <td>0.173</td>   <td>6.589</td> <td>0.000</td>  <td>0.802</td>  <td>1.481</td>\n",
              "</tr>\n",
              "<tr>\n",
              "  <th>in_treatment RE</th>  <td>1.490</td>   <td>0.302</td>     <td></td>      <td></td>       <td></td>       <td></td>   \n",
              "</tr>\n",
              "</table>"
            ],
            "text/plain": [
              "<class 'statsmodels.iolib.summary2.Summary'>\n",
              "\"\"\"\n",
              "          Mixed Linear Model Regression Results\n",
              "==========================================================\n",
              "Model:             MixedLM Dependent Variable: y          \n",
              "No. Observations:  20000   Method:             REML       \n",
              "No. Groups:        50      Scale:              1.0017     \n",
              "Min. group size:   400     Likelihood:         -28541.7368\n",
              "Max. group size:   400     Converged:          Yes        \n",
              "Mean group size:   400.0                                  \n",
              "----------------------------------------------------------\n",
              "                Coef.  Std.Err.   z    P>|z| [0.025 0.975]\n",
              "----------------------------------------------------------\n",
              "Intercept       -0.010    0.010 -1.030 0.303 -0.030  0.009\n",
              "in_treatment     1.141    0.173  6.589 0.000  0.802  1.481\n",
              "in_treatment RE  1.490    0.302                           \n",
              "==========================================================\n",
              "\n",
              "\"\"\""
            ]
          },
          "metadata": {
            "tags": []
          },
          "execution_count": 129
        }
      ]
    },
    {
      "metadata": {
        "id": "QPtdWH0GfetI",
        "colab_type": "text"
      },
      "cell_type": "markdown",
      "source": [
        "#### Extract random effects"
      ]
    },
    {
      "metadata": {
        "id": "yQexpAAEnL-z",
        "colab_type": "code",
        "colab": {}
      },
      "cell_type": "code",
      "source": [
        "group_effect_res = group_effect.copy()\n",
        "re_df = pd.DataFrame.from_dict(rem_treat_group.random_effects, orient='index')\n",
        "group_effect_res['re'] = re_df['in_treatment']"
      ],
      "execution_count": 0,
      "outputs": []
    },
    {
      "metadata": {
        "id": "PS-KII62_3Wm",
        "colab_type": "code",
        "colab": {}
      },
      "cell_type": "code",
      "source": [
        "group_effect_res['re_rank'] = group_effect_res['re'].rank()"
      ],
      "execution_count": 0,
      "outputs": []
    },
    {
      "metadata": {
        "id": "SG_SPsdb_3Wr",
        "colab_type": "code",
        "colab": {
          "base_uri": "https://localhost:8080/",
          "height": 492
        },
        "outputId": "7b16edd3-1de9-4317-8638-472beb9c93e7"
      },
      "cell_type": "code",
      "source": [
        "plt.errorbar(x=group_effect_res['re'], y=group_effect_res['re_rank'], \n",
        "             xerr=rem_treat_group.bse_re[0], fmt='o')"
      ],
      "execution_count": 109,
      "outputs": [
        {
          "output_type": "execute_result",
          "data": {
            "text/plain": [
              "<Container object of 3 artists>"
            ]
          },
          "metadata": {
            "tags": []
          },
          "execution_count": 109
        },
        {
          "output_type": "display_data",
          "data": {
            "image/png": "[encoded data removed]",
            "text/plain": [
              "<matplotlib.figure.Figure at 0x7fb84cd774e0>"
            ]
          },
          "metadata": {
            "tags": []
          }
        }
      ]
    },
    {
      "metadata": {
        "id": "SZeioaH7QZMv",
        "colab_type": "text"
      },
      "cell_type": "markdown",
      "source": [
        "Correlation between true effect and random effect estimate."
      ]
    },
    {
      "metadata": {
        "id": "ooM2zuZrC0fK",
        "colab_type": "code",
        "colab": {
          "base_uri": "https://localhost:8080/",
          "height": 34
        },
        "outputId": "319f98e8-e580-4cbb-c027-427f4c85ca71"
      },
      "cell_type": "code",
      "source": [
        "np.corrcoef(group_effect_res['group_effect'], group_effect_res['re'])[0, 1]"
      ],
      "execution_count": 123,
      "outputs": [
        {
          "output_type": "execute_result",
          "data": {
            "text/plain": [
              "0.9979544746036788"
            ]
          },
          "metadata": {
            "tags": []
          },
          "execution_count": 123
        }
      ]
    },
    {
      "metadata": {
        "id": "cX1hc4Ynu1_k",
        "colab_type": "text"
      },
      "cell_type": "markdown",
      "source": [
        "### ANOVA"
      ]
    },
    {
      "metadata": {
        "id": "DjDQpkF3V_Ud",
        "colab_type": "code",
        "colab": {
          "base_uri": "https://localhost:8080/",
          "height": 204
        },
        "outputId": "46f56a2e-0ca7-4fd4-df16-871b0f0d8159"
      },
      "cell_type": "code",
      "source": [
        "df_treat_group.head()"
      ],
      "execution_count": 63,
      "outputs": [
        {
          "output_type": "execute_result",
          "data": {
            "text/html": [
              "<div>\n",
              "<style scoped>\n",
              "    .dataframe tbody tr th:only-of-type {\n",
              "        vertical-align: middle;\n",
              "    }\n",
              "\n",
              "    .dataframe tbody tr th {\n",
              "        vertical-align: top;\n",
              "    }\n",
              "\n",
              "    .dataframe thead th {\n",
              "        text-align: right;\n",
              "    }\n",
              "</style>\n",
              "<table border=\"1\" class=\"dataframe\">\n",
              "  <thead>\n",
              "    <tr style=\"text-align: right;\">\n",
              "      <th></th>\n",
              "      <th>group</th>\n",
              "      <th>obs</th>\n",
              "      <th>in_treatment</th>\n",
              "      <th>has_treatment_effect</th>\n",
              "      <th>has_group_effect</th>\n",
              "      <th>group_effect</th>\n",
              "      <th>y</th>\n",
              "    </tr>\n",
              "  </thead>\n",
              "  <tbody>\n",
              "    <tr>\n",
              "      <th>3</th>\n",
              "      <td>0</td>\n",
              "      <td>0</td>\n",
              "      <td>0</td>\n",
              "      <td>1</td>\n",
              "      <td>1</td>\n",
              "      <td>0.456753</td>\n",
              "      <td>0.074322</td>\n",
              "    </tr>\n",
              "    <tr>\n",
              "      <th>7</th>\n",
              "      <td>0</td>\n",
              "      <td>0</td>\n",
              "      <td>1</td>\n",
              "      <td>1</td>\n",
              "      <td>1</td>\n",
              "      <td>0.456753</td>\n",
              "      <td>1.442872</td>\n",
              "    </tr>\n",
              "    <tr>\n",
              "      <th>11</th>\n",
              "      <td>0</td>\n",
              "      <td>1</td>\n",
              "      <td>0</td>\n",
              "      <td>1</td>\n",
              "      <td>1</td>\n",
              "      <td>0.456753</td>\n",
              "      <td>-0.273384</td>\n",
              "    </tr>\n",
              "    <tr>\n",
              "      <th>15</th>\n",
              "      <td>0</td>\n",
              "      <td>1</td>\n",
              "      <td>1</td>\n",
              "      <td>1</td>\n",
              "      <td>1</td>\n",
              "      <td>0.456753</td>\n",
              "      <td>2.093466</td>\n",
              "    </tr>\n",
              "    <tr>\n",
              "      <th>19</th>\n",
              "      <td>0</td>\n",
              "      <td>2</td>\n",
              "      <td>0</td>\n",
              "      <td>1</td>\n",
              "      <td>1</td>\n",
              "      <td>0.456753</td>\n",
              "      <td>-0.161504</td>\n",
              "    </tr>\n",
              "  </tbody>\n",
              "</table>\n",
              "</div>"
            ],
            "text/plain": [
              "    group  obs  in_treatment  has_treatment_effect  has_group_effect  \\\n",
              "3       0    0             0                     1                 1   \n",
              "7       0    0             1                     1                 1   \n",
              "11      0    1             0                     1                 1   \n",
              "15      0    1             1                     1                 1   \n",
              "19      0    2             0                     1                 1   \n",
              "\n",
              "    group_effect         y  \n",
              "3       0.456753  0.074322  \n",
              "7       0.456753  1.442872  \n",
              "11      0.456753 -0.273384  \n",
              "15      0.456753  2.093466  \n",
              "19      0.456753 -0.161504  "
            ]
          },
          "metadata": {
            "tags": []
          },
          "execution_count": 63
        }
      ]
    },
    {
      "metadata": {
        "id": "Qr-LkI4a4djc",
        "colab_type": "code",
        "colab": {
          "base_uri": "https://localhost:8080/",
          "height": 142
        },
        "outputId": "0ccdedaf-8ede-4be8-d2d3-a1a3c5a29857"
      },
      "cell_type": "code",
      "source": [
        "sm.stats.anova_lm(smf.ols('y ~ in_treatment + C(group)', \n",
        "                          data=df_treat_group).fit(),\n",
        "                  typ=2)"
      ],
      "execution_count": 65,
      "outputs": [
        {
          "output_type": "execute_result",
          "data": {
            "text/html": [
              "<div>\n",
              "<style scoped>\n",
              "    .dataframe tbody tr th:only-of-type {\n",
              "        vertical-align: middle;\n",
              "    }\n",
              "\n",
              "    .dataframe tbody tr th {\n",
              "        vertical-align: top;\n",
              "    }\n",
              "\n",
              "    .dataframe thead th {\n",
              "        text-align: right;\n",
              "    }\n",
              "</style>\n",
              "<table border=\"1\" class=\"dataframe\">\n",
              "  <thead>\n",
              "    <tr style=\"text-align: right;\">\n",
              "      <th></th>\n",
              "      <th>sum_sq</th>\n",
              "      <th>df</th>\n",
              "      <th>F</th>\n",
              "      <th>PR(&gt;F)</th>\n",
              "    </tr>\n",
              "  </thead>\n",
              "  <tbody>\n",
              "    <tr>\n",
              "      <th>C(group)</th>\n",
              "      <td>7486.863039</td>\n",
              "      <td>49.0</td>\n",
              "      <td>112.184019</td>\n",
              "      <td>0.0</td>\n",
              "    </tr>\n",
              "    <tr>\n",
              "      <th>in_treatment</th>\n",
              "      <td>6511.324991</td>\n",
              "      <td>1.0</td>\n",
              "      <td>4780.755781</td>\n",
              "      <td>0.0</td>\n",
              "    </tr>\n",
              "    <tr>\n",
              "      <th>Residual</th>\n",
              "      <td>27170.269346</td>\n",
              "      <td>19949.0</td>\n",
              "      <td>NaN</td>\n",
              "      <td>NaN</td>\n",
              "    </tr>\n",
              "  </tbody>\n",
              "</table>\n",
              "</div>"
            ],
            "text/plain": [
              "                    sum_sq       df            F  PR(>F)\n",
              "C(group)       7486.863039     49.0   112.184019     0.0\n",
              "in_treatment   6511.324991      1.0  4780.755781     0.0\n",
              "Residual      27170.269346  19949.0          NaN     NaN"
            ]
          },
          "metadata": {
            "tags": []
          },
          "execution_count": 65
        }
      ]
    },
    {
      "metadata": {
        "id": "8VqczVU_WhwQ",
        "colab_type": "code",
        "colab": {
          "base_uri": "https://localhost:8080/",
          "height": 142
        },
        "outputId": "b828327b-0dd8-4aa9-e214-dc105dcc45b0"
      },
      "cell_type": "code",
      "source": [
        "sm.stats.anova_lm(smf.ols('y ~ in_treatment + C(group)', \n",
        "                          data=df_treat_nogroup).fit(),\n",
        "                  typ=2)"
      ],
      "execution_count": 68,
      "outputs": [
        {
          "output_type": "execute_result",
          "data": {
            "text/html": [
              "<div>\n",
              "<style scoped>\n",
              "    .dataframe tbody tr th:only-of-type {\n",
              "        vertical-align: middle;\n",
              "    }\n",
              "\n",
              "    .dataframe tbody tr th {\n",
              "        vertical-align: top;\n",
              "    }\n",
              "\n",
              "    .dataframe thead th {\n",
              "        text-align: right;\n",
              "    }\n",
              "</style>\n",
              "<table border=\"1\" class=\"dataframe\">\n",
              "  <thead>\n",
              "    <tr style=\"text-align: right;\">\n",
              "      <th></th>\n",
              "      <th>sum_sq</th>\n",
              "      <th>df</th>\n",
              "      <th>F</th>\n",
              "      <th>PR(&gt;F)</th>\n",
              "    </tr>\n",
              "  </thead>\n",
              "  <tbody>\n",
              "    <tr>\n",
              "      <th>C(group)</th>\n",
              "      <td>47.167856</td>\n",
              "      <td>49.0</td>\n",
              "      <td>0.960622</td>\n",
              "      <td>0.551680</td>\n",
              "    </tr>\n",
              "    <tr>\n",
              "      <th>in_treatment</th>\n",
              "      <td>1.256956</td>\n",
              "      <td>1.0</td>\n",
              "      <td>1.254362</td>\n",
              "      <td>0.262735</td>\n",
              "    </tr>\n",
              "    <tr>\n",
              "      <th>Residual</th>\n",
              "      <td>19990.269069</td>\n",
              "      <td>19949.0</td>\n",
              "      <td>NaN</td>\n",
              "      <td>NaN</td>\n",
              "    </tr>\n",
              "  </tbody>\n",
              "</table>\n",
              "</div>"
            ],
            "text/plain": [
              "                    sum_sq       df         F    PR(>F)\n",
              "C(group)         47.167856     49.0  0.960622  0.551680\n",
              "in_treatment      1.256956      1.0  1.254362  0.262735\n",
              "Residual      19990.269069  19949.0       NaN       NaN"
            ]
          },
          "metadata": {
            "tags": []
          },
          "execution_count": 68
        }
      ]
    },
    {
      "metadata": {
        "id": "luhNmj06W8xl",
        "colab_type": "text"
      },
      "cell_type": "markdown",
      "source": [
        "#### ANOVA from group statistics only"
      ]
    },
    {
      "metadata": {
        "id": "2XXCBvt_Rvg_",
        "colab_type": "text"
      },
      "cell_type": "markdown",
      "source": [
        "Consulting http://math.colgate.edu/math102/dlantz/examples/ANOVA/anova.html for formulas."
      ]
    },
    {
      "metadata": {
        "id": "6HC4-L5jXBxi",
        "colab_type": "code",
        "colab": {}
      },
      "cell_type": "code",
      "source": [
        "groups_t_g = groups[(groups['has_treatment_effect'] == 1) &\n",
        "                    (groups['has_group_effect'] == 1)]"
      ],
      "execution_count": 0,
      "outputs": []
    },
    {
      "metadata": {
        "id": "oTosmB61Nmug",
        "colab_type": "text"
      },
      "cell_type": "markdown",
      "source": [
        "**SSE:**\n",
        "\n",
        "\n",
        "SSi = si^2 * (ni - 1)\n",
        "\n",
        "SSE = sum(SSi)\n",
        "\n",
        "Given equal group sizes, this becomes:\n",
        "\n",
        "SSE = n_groups \\* (n_per_group - 1) * sum(si^2)"
      ]
    },
    {
      "metadata": {
        "id": "70gqbyavOSQS",
        "colab_type": "code",
        "colab": {
          "base_uri": "https://localhost:8080/",
          "height": 35
        },
        "outputId": "92fea3c5-815e-4729-a224-3ec36e1a64cd"
      },
      "cell_type": "code",
      "source": [
        "sse = N_GROUPS * (N_PER_GROUP - 1) * np.power(groups_t_g['se'], 2).sum()\n",
        "sse"
      ],
      "execution_count": 165,
      "outputs": [
        {
          "output_type": "execute_result",
          "data": {
            "text/plain": [
              "5013.528024855204"
            ]
          },
          "metadata": {
            "tags": []
          },
          "execution_count": 165
        }
      ]
    },
    {
      "metadata": {
        "id": "CIJZ3os1NAcH",
        "colab_type": "text"
      },
      "cell_type": "markdown",
      "source": [
        "**SSG:** With equal group sizes, the overall effect equals the average effect over groups. SSG is then the squared difference between each group's effect and the average effect, multiplied by the total number of observations (group count * observations per group)."
      ]
    },
    {
      "metadata": {
        "id": "O06yoy-GciAD",
        "colab_type": "code",
        "colab": {
          "base_uri": "https://localhost:8080/",
          "height": 35
        },
        "outputId": "03d484e1-a6d3-4e33-843b-01118199bb22"
      },
      "cell_type": "code",
      "source": [
        "overall_effect = groups_t_g['diff_means'].mean()\n",
        "ssg = N_GROUPS * N_PER_GROUP * np.power(groups_t_g['diff_means'] - \n",
        "                                        overall_effect,  2).sum()\n",
        "ssg"
      ],
      "execution_count": 166,
      "outputs": [
        {
          "output_type": "execute_result",
          "data": {
            "text/plain": [
              "723775.6568612925"
            ]
          },
          "metadata": {
            "tags": []
          },
          "execution_count": 166
        }
      ]
    },
    {
      "metadata": {
        "id": "xH5_GxINQhDZ",
        "colab_type": "text"
      },
      "cell_type": "markdown",
      "source": [
        "DFE = N - I"
      ]
    },
    {
      "metadata": {
        "id": "_yzOoSYwaPS4",
        "colab_type": "code",
        "colab": {}
      },
      "cell_type": "code",
      "source": [
        "dfe = N_GROUPS * N_PER_GROUP - N_GROUPS"
      ],
      "execution_count": 0,
      "outputs": []
    },
    {
      "metadata": {
        "id": "iekqpo8PQo0Q",
        "colab_type": "text"
      },
      "cell_type": "markdown",
      "source": [
        "DFG = I - 1"
      ]
    },
    {
      "metadata": {
        "id": "nzLFaQCWQz5E",
        "colab_type": "code",
        "colab": {}
      },
      "cell_type": "code",
      "source": [
        "dfg = N_GROUPS - 1"
      ],
      "execution_count": 0,
      "outputs": []
    },
    {
      "metadata": {
        "id": "J920juuYRAiO",
        "colab_type": "text"
      },
      "cell_type": "markdown",
      "source": [
        "MSE = SSE / DFE\n",
        "\n",
        "MSG = SSG / DFG"
      ]
    },
    {
      "metadata": {
        "id": "chRa5JnhRGMv",
        "colab_type": "code",
        "colab": {
          "base_uri": "https://localhost:8080/",
          "height": 35
        },
        "outputId": "ffe61b73-8fa8-477e-ef13-83f3c825056a"
      },
      "cell_type": "code",
      "source": [
        "mse = sse / dfe\n",
        "msg = ssg / dfg\n",
        "f = msg / mse\n",
        "f"
      ],
      "execution_count": 169,
      "outputs": [
        {
          "output_type": "execute_result",
          "data": {
            "text/plain": [
              "29314.839851205397"
            ]
          },
          "metadata": {
            "tags": []
          },
          "execution_count": 169
        }
      ]
    },
    {
      "metadata": {
        "id": "I198MrBVRjq6",
        "colab_type": "text"
      },
      "cell_type": "markdown",
      "source": [
        "F-test. Call as [`stats.f.sf(f, dfn, dfd`](https://docs.scipy.org/doc/scipy/reference/generated/scipy.stats.f.html) where `sf` is:\n",
        "\n",
        "> Survival function (also defined as 1 - cdf, but sf is sometimes more accurate).\n",
        "\n",
        "[dfn = dfg. dfd = dfe.](http://davidmlane.com/hyperstat/A107688.html)"
      ]
    },
    {
      "metadata": {
        "id": "lvXNJH96RlKL",
        "colab_type": "code",
        "colab": {
          "base_uri": "https://localhost:8080/",
          "height": 35
        },
        "outputId": "9e82c67a-008b-4ad4-c20e-93d5eb8a8c14"
      },
      "cell_type": "code",
      "source": [
        "stats.f.sf(f, dfg, dfe)"
      ],
      "execution_count": 170,
      "outputs": [
        {
          "output_type": "execute_result",
          "data": {
            "text/plain": [
              "0.0"
            ]
          },
          "metadata": {
            "tags": []
          },
          "execution_count": 170
        }
      ]
    },
    {
      "metadata": {
        "id": "VDSjogA3Tqs_",
        "colab_type": "text"
      },
      "cell_type": "markdown",
      "source": [
        "#### ANOVA from group stats when no group effect"
      ]
    },
    {
      "metadata": {
        "id": "L5JG_MMvT2os",
        "colab_type": "code",
        "colab": {
          "base_uri": "https://localhost:8080/",
          "height": 35
        },
        "outputId": "b79e3e5e-a2e5-4962-b4ff-68c5dbf72010"
      },
      "cell_type": "code",
      "source": [
        "groups_t_ng = groups[(groups['has_treatment_effect'] == 1) &\n",
        "                     (groups['has_group_effect'] == 0)]\n",
        "sse = N_GROUPS * ((N_PER_GROUP / 2) - 1) * np.power(groups_t_ng['se'], 2).sum()\n",
        "overall_effect = groups_t_ng['diff_means'].mean()\n",
        "ssg = N_GROUPS * (N_PER_GROUP / 2) * np.power(groups_t_ng['diff_means'] - \n",
        "                                        overall_effect,  2).sum()\n",
        "dfe = N_GROUPS * (N_PER_GROUP / 2) - N_GROUPS\n",
        "dfg = N_GROUPS - 1\n",
        "mse = sse / dfe\n",
        "msg = ssg / dfg\n",
        "f = msg / mse\n",
        "stats.f.sf(f, dfg, dfe)"
      ],
      "execution_count": 172,
      "outputs": [
        {
          "output_type": "execute_result",
          "data": {
            "text/plain": [
              "0.0"
            ]
          },
          "metadata": {
            "tags": []
          },
          "execution_count": 172
        }
      ]
    },
    {
      "metadata": {
        "id": "5exZc1hbYicX",
        "colab_type": "code",
        "colab": {}
      },
      "cell_type": "code",
      "source": [
        "def ftest_p(group_mean, group_se, group_n):\n",
        "  # group_mean: Array of group means.\n",
        "  # group_se: Array of group standard errors.\n",
        "  # group_n: Array of group n-counts.\n",
        "  n_groups = group_mean.len\n",
        "  n = group_n.sum()\n",
        "  sse = (np.power(group_se, 2) * group_n).sum()\n",
        "  overall_mean = (group_mean * group_n).sum() / n\n",
        "  ssg = N_GROUPS * N_PER_GROUP * np.power(groups_t_ng['diff_means'] - \n",
        "                                          overall_effect,  2).sum()\n",
        "  dfe = n - n_groups\n",
        "  dfg = n_groups - 1\n",
        "mse = sse / dfe\n",
        "msg = ssg / dfg\n",
        "f = msg / mse\n",
        "stats.f.sf(f, dfg, dfe)"
      ],
      "execution_count": 0,
      "outputs": []
    },
    {
      "metadata": {
        "id": "Nr_5iUIYURw6",
        "colab_type": "code",
        "colab": {
          "base_uri": "https://localhost:8080/",
          "height": 35
        },
        "outputId": "0fb18413-c544-49c2-ec29-7e0bc9d55575"
      },
      "cell_type": "code",
      "source": [
        "ssg"
      ],
      "execution_count": 175,
      "outputs": [
        {
          "output_type": "execute_result",
          "data": {
            "text/plain": [
              "1794.0233712336876"
            ]
          },
          "metadata": {
            "tags": []
          },
          "execution_count": 175
        }
      ]
    },
    {
      "metadata": {
        "id": "dSmYlfYSqaMQ",
        "colab_type": "text"
      },
      "cell_type": "markdown",
      "source": [
        "### Compare all means\n",
        "\n",
        "Cartesian product of group-level stats, then compare means."
      ]
    },
    {
      "metadata": {
        "id": "g55tWq39sZF_",
        "colab_type": "code",
        "colab": {
          "base_uri": "https://localhost:8080/",
          "height": 91
        },
        "outputId": "f7650e71-5245-4597-c726-58f617d08a19"
      },
      "cell_type": "code",
      "source": [
        "groups_t_g.columns"
      ],
      "execution_count": 177,
      "outputs": [
        {
          "output_type": "execute_result",
          "data": {
            "text/plain": [
              "Index(['group', 'has_treatment_effect', 'has_group_effect', 'res',\n",
              "       'group_effect', 'diff_means', 'ci_halfwidth', 't', 'p', 'sig', 'sd',\n",
              "       'diff_means_rank', 'se', 'dummy'],\n",
              "      dtype='object')"
            ]
          },
          "metadata": {
            "tags": []
          },
          "execution_count": 177
        }
      ]
    },
    {
      "metadata": {
        "id": "t6b_5ydwrZu-",
        "colab_type": "code",
        "colab": {
          "base_uri": "https://localhost:8080/",
          "height": 183
        },
        "outputId": "3d2b3990-acc5-4011-e2f7-a92e7b6644a0"
      },
      "cell_type": "code",
      "source": [
        "groups_t_g['dummy'] = 1\n",
        "VARS = ['group', 'diff_means', 'se', 'dummy']\n",
        "group_cart = pd.merge(groups_t_g[VARS], groups_t_g[VARS], on='dummy')\n",
        "# Remove self-comparisons.\n",
        "group_cart = group_cart[group_cart['group_x'] < group_cart['group_y']]\n",
        "group_cart.columns"
      ],
      "execution_count": 201,
      "outputs": [
        {
          "output_type": "stream",
          "text": [
            "/usr/local/lib/python3.6/dist-packages/ipykernel_launcher.py:1: SettingWithCopyWarning: \n",
            "A value is trying to be set on a copy of a slice from a DataFrame.\n",
            "Try using .loc[row_indexer,col_indexer] = value instead\n",
            "\n",
            "See the caveats in the documentation: http://pandas.pydata.org/pandas-docs/stable/indexing.html#indexing-view-versus-copy\n",
            "  \"\"\"Entry point for launching an IPython kernel.\n"
          ],
          "name": "stderr"
        },
        {
          "output_type": "execute_result",
          "data": {
            "text/plain": [
              "Index(['group_x', 'diff_means_x', 'se_x', 'dummy', 'group_y', 'diff_means_y',\n",
              "       'se_y'],\n",
              "      dtype='object')"
            ]
          },
          "metadata": {
            "tags": []
          },
          "execution_count": 201
        }
      ]
    },
    {
      "metadata": {
        "id": "UqNz3EP8sNzh",
        "colab_type": "code",
        "colab": {}
      },
      "cell_type": "code",
      "source": [
        "group_cart['se'] = np.sqrt(np.power(group_cart['se_x'], 2) + \n",
        "                           np.power(group_cart['se_y'], 2))\n",
        "group_cart['t'] = ((group_cart['diff_means_y'] - group_cart['diff_means_x']) /\n",
        "                   group_cart['se'])\n",
        "group_cart['df'] = N_PER_GROUP - 1  # Conservative: min(n1-1, n2-1).\n",
        "# Use normal approximation.\n",
        "group_cart['p'] = stats.t.sf(np.abs(group_cart['t']), group_cart['df']) * 2\n",
        "group_cart['sig'] = group_cart['p'] < (0.05 / group_cart.shape[0])"
      ],
      "execution_count": 0,
      "outputs": []
    },
    {
      "metadata": {
        "id": "pH1M9lrIy07g",
        "colab_type": "text"
      },
      "cell_type": "markdown",
      "source": [
        "Share of pairwise comparisons that are significant using Bonferroni correction."
      ]
    },
    {
      "metadata": {
        "id": "WFck7ZWcuocK",
        "colab_type": "code",
        "colab": {
          "base_uri": "https://localhost:8080/",
          "height": 35
        },
        "outputId": "3cde9552-0bde-4826-e1bc-178689bebcb7"
      },
      "cell_type": "code",
      "source": [
        "group_cart['sig'].mean()"
      ],
      "execution_count": 205,
      "outputs": [
        {
          "output_type": "execute_result",
          "data": {
            "text/plain": [
              "0.7273469387755102"
            ]
          },
          "metadata": {
            "tags": []
          },
          "execution_count": 205
        }
      ]
    },
    {
      "metadata": {
        "id": "1meiFStZy5On",
        "colab_type": "text"
      },
      "cell_type": "markdown",
      "source": [
        "Same without a group effect."
      ]
    },
    {
      "metadata": {
        "id": "gGgHInzWy7gz",
        "colab_type": "code",
        "colab": {
          "base_uri": "https://localhost:8080/",
          "height": 146
        },
        "outputId": "6ad96228-50a0-42f5-d7a2-e75ae6e274d7"
      },
      "cell_type": "code",
      "source": [
        "groups_t_ng['dummy'] = 1\n",
        "VARS = ['group', 'diff_means', 'se', 'dummy']\n",
        "group_cart_ng = pd.merge(groups_t_ng[VARS], groups_t_ng[VARS], on='dummy')\n",
        "# Remove self-comparisons.\n",
        "group_cart_ng = group_cart_ng[group_cart_ng['group_x'] < \n",
        "                              group_cart_ng['group_y']]\n",
        "group_cart_ng['se'] = np.sqrt(np.power(group_cart_ng['se_x'], 2) + \n",
        "                              np.power(group_cart_ng['se_y'], 2))\n",
        "group_cart_ng['t'] = ((group_cart_ng['diff_means_y'] - \n",
        "                       group_cart_ng['diff_means_x']) /\n",
        "                      group_cart_ng['se'])\n",
        "group_cart_ng['df'] = N_PER_GROUP - 1  # Conservative: min(n1-1, n2-1).\n",
        "group_cart_ng['p'] = stats.t.sf(np.abs(group_cart_ng['t']), \n",
        "                                group_cart_ng['df']) * 2\n",
        "group_cart_ng['sig'] = group_cart_ng['p'] < (0.05 / group_cart_ng.shape[0])\n",
        "group_cart_ng['sig'].mean()"
      ],
      "execution_count": 207,
      "outputs": [
        {
          "output_type": "stream",
          "text": [
            "/usr/local/lib/python3.6/dist-packages/ipykernel_launcher.py:1: SettingWithCopyWarning: \n",
            "A value is trying to be set on a copy of a slice from a DataFrame.\n",
            "Try using .loc[row_indexer,col_indexer] = value instead\n",
            "\n",
            "See the caveats in the documentation: http://pandas.pydata.org/pandas-docs/stable/indexing.html#indexing-view-versus-copy\n",
            "  \"\"\"Entry point for launching an IPython kernel.\n"
          ],
          "name": "stderr"
        },
        {
          "output_type": "execute_result",
          "data": {
            "text/plain": [
              "0.0"
            ]
          },
          "metadata": {
            "tags": []
          },
          "execution_count": 207
        }
      ]
    },
    {
      "metadata": {
        "id": "xhpPnQvrtp4h",
        "colab_type": "text"
      },
      "cell_type": "markdown",
      "source": [
        "## Appendix"
      ]
    },
    {
      "metadata": {
        "id": "08A-Rat3tr8V",
        "colab_type": "text"
      },
      "cell_type": "markdown",
      "source": [
        "Linear model using `sklearn`, no p-values."
      ]
    },
    {
      "metadata": {
        "id": "h5Ulz4pBLyXY",
        "colab_type": "code",
        "colab": {
          "base_uri": "https://localhost:8080/",
          "height": 34
        },
        "outputId": "5791740f-026a-45c3-8a34-c24f34df57de"
      },
      "cell_type": "code",
      "source": [
        "from sklearn import linear_model\n",
        "regr_notreat_nogroup = linear_model.LinearRegression()\n",
        "regr_notreat_nogroup.fit(df[['treatment']], df[['y_notreat_nogroup']])\n",
        "regr_notreat_nogroup.coef_"
      ],
      "execution_count": 51,
      "outputs": [
        {
          "output_type": "execute_result",
          "data": {
            "text/plain": [
              "array([[0.00375232]])"
            ]
          },
          "metadata": {
            "tags": []
          },
          "execution_count": 51
        }
      ]
    },
    {
      "metadata": {
        "id": "SaT7i6KJ7Sf1",
        "colab_type": "text"
      },
      "cell_type": "markdown",
      "source": [
        "t-test for each group."
      ]
    },
    {
      "metadata": {
        "id": "G1KPyw5V7Vvv",
        "colab_type": "code",
        "colab": {
          "base_uri": "https://localhost:8080/",
          "height": 34
        },
        "outputId": "7e8ded08-2610-4b0c-91a9-e8ceab6ed337"
      },
      "cell_type": "code",
      "source": [
        "N = 100  # Observations per group.\n",
        "tt_df = pd.DataFrame({'group': np.append(['A'] * N, ['B'] * N),\n",
        "                      'x': np.random.randn(2 * N)})\n",
        "tt_df['y'] = tt_df['x'] + np.random.randn(2 * N)\n",
        "stats.ttest_ind(tt_df['x'], tt_df['y'])[0]"
      ],
      "execution_count": 96,
      "outputs": [
        {
          "output_type": "execute_result",
          "data": {
            "text/plain": [
              "-0.3258633943050059"
            ]
          },
          "metadata": {
            "tags": []
          },
          "execution_count": 96
        }
      ]
    },
    {
      "metadata": {
        "id": "vfmyvOaeGSga",
        "colab_type": "code",
        "colab": {
          "base_uri": "https://localhost:8080/",
          "height": 85
        },
        "outputId": "ec8ca4ef-83ef-4e35-b5f4-95ea695a23fb"
      },
      "cell_type": "code",
      "source": [
        "tt_df.groupby('group').apply(lambda x: x['y'].sum() / x['x'].sum())"
      ],
      "execution_count": 106,
      "outputs": [
        {
          "output_type": "execute_result",
          "data": {
            "text/plain": [
              "group\n",
              "A   -1.310939\n",
              "B    0.544012\n",
              "dtype: float64"
            ]
          },
          "metadata": {
            "tags": []
          },
          "execution_count": 106
        }
      ]
    },
    {
      "metadata": {
        "id": "kR4kbjSeG8L8",
        "colab_type": "code",
        "colab": {}
      },
      "cell_type": "code",
      "source": [
        "cm = sms.CompareMeans(sms.DescrStatsW(tt_df['x']), sms.DescrStatsW(tt)"
      ],
      "execution_count": 0,
      "outputs": []
    },
    {
      "metadata": {
        "id": "vyv5Xm9L0Bpt",
        "colab_type": "code",
        "colab": {}
      },
      "cell_type": "code",
      "source": [
        "sms.CompareMeans()"
      ],
      "execution_count": 0,
      "outputs": []
    },
    {
      "metadata": {
        "id": "PVfFvseW736j",
        "colab_type": "code",
        "colab": {
          "base_uri": "https://localhost:8080/",
          "height": 85
        },
        "outputId": "195ece28-0813-4a62-b843-43096f928f6c"
      },
      "cell_type": "code",
      "source": [
        "def tt_from_df(df):\n",
        "  return stats.ttest_ind(df['x'], df['y'])[0]\n",
        "  \n",
        "tt_df.groupby('group').apply(tt_from_df)"
      ],
      "execution_count": 97,
      "outputs": [
        {
          "output_type": "execute_result",
          "data": {
            "text/plain": [
              "group\n",
              "A   -0.292413\n",
              "B   -0.167816\n",
              "dtype: float64"
            ]
          },
          "metadata": {
            "tags": []
          },
          "execution_count": 97
        }
      ]
    },
    {
      "metadata": {
        "id": "PxL6WWqdDYzP",
        "colab_type": "code",
        "colab": {
          "base_uri": "https://localhost:8080/",
          "height": 572
        },
        "outputId": "a5cf0050-c678-485f-bceb-96e2edf9be47"
      },
      "cell_type": "code",
      "source": [
        "res = pd.DataFrame()\n",
        "res[['diff', 't', 'p']] = tt_df.groupby('group').apply(\n",
        "    lambda df: pd.Series(df['y'].sum() / df['x'].sum(),\n",
        "                         stats.ttest_ind(df['x'], df['y'])))"
      ],
      "execution_count": 104,
      "outputs": [
        {
          "output_type": "error",
          "ename": "KeyError",
          "evalue": "ignored",
          "traceback": [
            "\u001b[0;31m---------------------------------------------------------------------------\u001b[0m",
            "\u001b[0;31mKeyError\u001b[0m                                  Traceback (most recent call last)",
            "\u001b[0;32m<ipython-input-104-659785dbf5d4>\u001b[0m in \u001b[0;36m<module>\u001b[0;34m()\u001b[0m\n\u001b[1;32m      1\u001b[0m \u001b[0mres\u001b[0m \u001b[0;34m=\u001b[0m \u001b[0mpd\u001b[0m\u001b[0;34m.\u001b[0m\u001b[0mDataFrame\u001b[0m\u001b[0;34m(\u001b[0m\u001b[0;34m)\u001b[0m\u001b[0;34m\u001b[0m\u001b[0m\n\u001b[1;32m      2\u001b[0m res[['diff', 't', 'p']] = tt_df.groupby('group').apply(\n\u001b[0;32m----> 3\u001b[0;31m     lambda df: pd.Series(df['y'].sum() / df['x'].sum(),\n\u001b[0m\u001b[1;32m      4\u001b[0m                          stats.ttest_ind(df['x'], df['y'])))\n",
            "\u001b[0;32m/usr/local/lib/python3.6/dist-packages/pandas/core/frame.py\u001b[0m in \u001b[0;36m__setitem__\u001b[0;34m(self, key, value)\u001b[0m\n\u001b[1;32m   2512\u001b[0m \u001b[0;34m\u001b[0m\u001b[0m\n\u001b[1;32m   2513\u001b[0m         \u001b[0;32mif\u001b[0m \u001b[0misinstance\u001b[0m\u001b[0;34m(\u001b[0m\u001b[0mkey\u001b[0m\u001b[0;34m,\u001b[0m \u001b[0;34m(\u001b[0m\u001b[0mSeries\u001b[0m\u001b[0;34m,\u001b[0m \u001b[0mnp\u001b[0m\u001b[0;34m.\u001b[0m\u001b[0mndarray\u001b[0m\u001b[0;34m,\u001b[0m \u001b[0mlist\u001b[0m\u001b[0;34m,\u001b[0m \u001b[0mIndex\u001b[0m\u001b[0;34m)\u001b[0m\u001b[0;34m)\u001b[0m\u001b[0;34m:\u001b[0m\u001b[0;34m\u001b[0m\u001b[0m\n\u001b[0;32m-> 2514\u001b[0;31m             \u001b[0mself\u001b[0m\u001b[0;34m.\u001b[0m\u001b[0m_setitem_array\u001b[0m\u001b[0;34m(\u001b[0m\u001b[0mkey\u001b[0m\u001b[0;34m,\u001b[0m \u001b[0mvalue\u001b[0m\u001b[0;34m)\u001b[0m\u001b[0;34m\u001b[0m\u001b[0m\n\u001b[0m\u001b[1;32m   2515\u001b[0m         \u001b[0;32melif\u001b[0m \u001b[0misinstance\u001b[0m\u001b[0;34m(\u001b[0m\u001b[0mkey\u001b[0m\u001b[0;34m,\u001b[0m \u001b[0mDataFrame\u001b[0m\u001b[0;34m)\u001b[0m\u001b[0;34m:\u001b[0m\u001b[0;34m\u001b[0m\u001b[0m\n\u001b[1;32m   2516\u001b[0m             \u001b[0mself\u001b[0m\u001b[0;34m.\u001b[0m\u001b[0m_setitem_frame\u001b[0m\u001b[0;34m(\u001b[0m\u001b[0mkey\u001b[0m\u001b[0;34m,\u001b[0m \u001b[0mvalue\u001b[0m\u001b[0;34m)\u001b[0m\u001b[0;34m\u001b[0m\u001b[0m\n",
            "\u001b[0;32m/usr/local/lib/python3.6/dist-packages/pandas/core/frame.py\u001b[0m in \u001b[0;36m_setitem_array\u001b[0;34m(self, key, value)\u001b[0m\n\u001b[1;32m   2540\u001b[0m                     \u001b[0mself\u001b[0m\u001b[0;34m[\u001b[0m\u001b[0mk1\u001b[0m\u001b[0;34m]\u001b[0m \u001b[0;34m=\u001b[0m \u001b[0mvalue\u001b[0m\u001b[0;34m[\u001b[0m\u001b[0mk2\u001b[0m\u001b[0;34m]\u001b[0m\u001b[0;34m\u001b[0m\u001b[0m\n\u001b[1;32m   2541\u001b[0m             \u001b[0;32melse\u001b[0m\u001b[0;34m:\u001b[0m\u001b[0;34m\u001b[0m\u001b[0m\n\u001b[0;32m-> 2542\u001b[0;31m                 \u001b[0mindexer\u001b[0m \u001b[0;34m=\u001b[0m \u001b[0mself\u001b[0m\u001b[0;34m.\u001b[0m\u001b[0mloc\u001b[0m\u001b[0;34m.\u001b[0m\u001b[0m_convert_to_indexer\u001b[0m\u001b[0;34m(\u001b[0m\u001b[0mkey\u001b[0m\u001b[0;34m,\u001b[0m \u001b[0maxis\u001b[0m\u001b[0;34m=\u001b[0m\u001b[0;36m1\u001b[0m\u001b[0;34m)\u001b[0m\u001b[0;34m\u001b[0m\u001b[0m\n\u001b[0m\u001b[1;32m   2543\u001b[0m                 \u001b[0mself\u001b[0m\u001b[0;34m.\u001b[0m\u001b[0m_check_setitem_copy\u001b[0m\u001b[0;34m(\u001b[0m\u001b[0;34m)\u001b[0m\u001b[0;34m\u001b[0m\u001b[0m\n\u001b[1;32m   2544\u001b[0m                 \u001b[0mself\u001b[0m\u001b[0;34m.\u001b[0m\u001b[0mloc\u001b[0m\u001b[0;34m.\u001b[0m\u001b[0m_setitem_with_indexer\u001b[0m\u001b[0;34m(\u001b[0m\u001b[0;34m(\u001b[0m\u001b[0mslice\u001b[0m\u001b[0;34m(\u001b[0m\u001b[0;32mNone\u001b[0m\u001b[0;34m)\u001b[0m\u001b[0;34m,\u001b[0m \u001b[0mindexer\u001b[0m\u001b[0;34m)\u001b[0m\u001b[0;34m,\u001b[0m \u001b[0mvalue\u001b[0m\u001b[0;34m)\u001b[0m\u001b[0;34m\u001b[0m\u001b[0m\n",
            "\u001b[0;32m/usr/local/lib/python3.6/dist-packages/pandas/core/indexing.py\u001b[0m in \u001b[0;36m_convert_to_indexer\u001b[0;34m(self, obj, axis, is_setter)\u001b[0m\n\u001b[1;32m   1267\u001b[0m                 \u001b[0;32mif\u001b[0m \u001b[0mmask\u001b[0m\u001b[0;34m.\u001b[0m\u001b[0many\u001b[0m\u001b[0;34m(\u001b[0m\u001b[0;34m)\u001b[0m\u001b[0;34m:\u001b[0m\u001b[0;34m\u001b[0m\u001b[0m\n\u001b[1;32m   1268\u001b[0m                     raise KeyError('{mask} not in index'\n\u001b[0;32m-> 1269\u001b[0;31m                                    .format(mask=objarr[mask]))\n\u001b[0m\u001b[1;32m   1270\u001b[0m \u001b[0;34m\u001b[0m\u001b[0m\n\u001b[1;32m   1271\u001b[0m                 \u001b[0;32mreturn\u001b[0m \u001b[0m_values_from_object\u001b[0m\u001b[0;34m(\u001b[0m\u001b[0mindexer\u001b[0m\u001b[0;34m)\u001b[0m\u001b[0;34m\u001b[0m\u001b[0m\n",
            "\u001b[0;31mKeyError\u001b[0m: \"['diff' 't' 'p'] not in index\""
          ]
        }
      ]
    },
    {
      "metadata": {
        "id": "TGoNtINsCz0i",
        "colab_type": "code",
        "colab": {
          "base_uri": "https://localhost:8080/",
          "height": 142
        },
        "outputId": "51dcf28c-3ec4-47ef-8764-8a4e1f211fe1"
      },
      "cell_type": "code",
      "source": [
        "res"
      ],
      "execution_count": 103,
      "outputs": [
        {
          "output_type": "execute_result",
          "data": {
            "text/html": [
              "<div>\n",
              "<style scoped>\n",
              "    .dataframe tbody tr th:only-of-type {\n",
              "        vertical-align: middle;\n",
              "    }\n",
              "\n",
              "    .dataframe tbody tr th {\n",
              "        vertical-align: top;\n",
              "    }\n",
              "\n",
              "    .dataframe thead th {\n",
              "        text-align: right;\n",
              "    }\n",
              "</style>\n",
              "<table border=\"1\" class=\"dataframe\">\n",
              "  <thead>\n",
              "    <tr style=\"text-align: right;\">\n",
              "      <th></th>\n",
              "      <th>t</th>\n",
              "      <th>p</th>\n",
              "    </tr>\n",
              "    <tr>\n",
              "      <th>group</th>\n",
              "      <th></th>\n",
              "      <th></th>\n",
              "    </tr>\n",
              "  </thead>\n",
              "  <tbody>\n",
              "    <tr>\n",
              "      <th>A</th>\n",
              "      <td>-0.292413</td>\n",
              "      <td>0.770277</td>\n",
              "    </tr>\n",
              "    <tr>\n",
              "      <th>B</th>\n",
              "      <td>-0.167816</td>\n",
              "      <td>0.866900</td>\n",
              "    </tr>\n",
              "  </tbody>\n",
              "</table>\n",
              "</div>"
            ],
            "text/plain": [
              "              t         p\n",
              "group                    \n",
              "A     -0.292413  0.770277\n",
              "B     -0.167816  0.866900"
            ]
          },
          "metadata": {
            "tags": []
          },
          "execution_count": 103
        }
      ]
    },
    {
      "metadata": {
        "id": "LdbvmNu8EcBo",
        "colab_type": "code",
        "colab": {}
      },
      "cell_type": "code",
      "source": [
        ""
      ],
      "execution_count": 0,
      "outputs": []
    }
  ]
}